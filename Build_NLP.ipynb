{
  "nbformat": 4,
  "nbformat_minor": 0,
  "metadata": {
    "colab": {
      "name": "Build_NLP.ipynb",
      "provenance": [],
      "collapsed_sections": []
    },
    "kernelspec": {
      "name": "python3",
      "display_name": "Python 3"
    },
    "accelerator": "GPU"
  },
  "cells": [
    {
      "cell_type": "markdown",
      "metadata": {
        "id": "fJeRVPsQOJim"
      },
      "source": [
        "Selected model uses word to vec (w2v) for embedding and one LSTM layer. "
      ]
    },
    {
      "cell_type": "markdown",
      "metadata": {
        "id": "g7tzG1vsQTtI"
      },
      "source": [
        "Training was done using sentiment140 dataset. "
      ]
    },
    {
      "cell_type": "markdown",
      "metadata": {
        "id": "TXBrheONQVwF"
      },
      "source": [
        "Taken from: https://www.kaggle.com/paoloripamonti/twitter-sentiment-analysis/notebook"
      ]
    },
    {
      "cell_type": "code",
      "metadata": {
        "id": "dRsyKDmXhk2N",
        "outputId": "b2ca8004-e933-46a4-82dd-0c46b6b29c35",
        "colab": {
          "base_uri": "https://localhost:8080/"
        }
      },
      "source": [
        "!pip install gensim --upgrade\n",
        "!pip install keras --upgrade\n",
        "!pip install pandas --upgrade"
      ],
      "execution_count": null,
      "outputs": [
        {
          "output_type": "stream",
          "text": [
            "Collecting gensim\n",
            "\u001b[?25l  Downloading https://files.pythonhosted.org/packages/2b/e0/fa6326251692056dc880a64eb22117e03269906ba55a6864864d24ec8b4e/gensim-3.8.3-cp36-cp36m-manylinux1_x86_64.whl (24.2MB)\n",
            "\u001b[K     |████████████████████████████████| 24.2MB 1.5MB/s \n",
            "\u001b[?25hRequirement already satisfied, skipping upgrade: numpy>=1.11.3 in /usr/local/lib/python3.6/dist-packages (from gensim) (1.18.5)\n",
            "Requirement already satisfied, skipping upgrade: scipy>=0.18.1 in /usr/local/lib/python3.6/dist-packages (from gensim) (1.4.1)\n",
            "Requirement already satisfied, skipping upgrade: smart-open>=1.8.1 in /usr/local/lib/python3.6/dist-packages (from gensim) (3.0.0)\n",
            "Requirement already satisfied, skipping upgrade: six>=1.5.0 in /usr/local/lib/python3.6/dist-packages (from gensim) (1.15.0)\n",
            "Requirement already satisfied, skipping upgrade: requests in /usr/local/lib/python3.6/dist-packages (from smart-open>=1.8.1->gensim) (2.23.0)\n",
            "Requirement already satisfied, skipping upgrade: urllib3!=1.25.0,!=1.25.1,<1.26,>=1.21.1 in /usr/local/lib/python3.6/dist-packages (from requests->smart-open>=1.8.1->gensim) (1.24.3)\n",
            "Requirement already satisfied, skipping upgrade: idna<3,>=2.5 in /usr/local/lib/python3.6/dist-packages (from requests->smart-open>=1.8.1->gensim) (2.10)\n",
            "Requirement already satisfied, skipping upgrade: certifi>=2017.4.17 in /usr/local/lib/python3.6/dist-packages (from requests->smart-open>=1.8.1->gensim) (2020.6.20)\n",
            "Requirement already satisfied, skipping upgrade: chardet<4,>=3.0.2 in /usr/local/lib/python3.6/dist-packages (from requests->smart-open>=1.8.1->gensim) (3.0.4)\n",
            "Installing collected packages: gensim\n",
            "  Found existing installation: gensim 3.6.0\n",
            "    Uninstalling gensim-3.6.0:\n",
            "      Successfully uninstalled gensim-3.6.0\n",
            "Successfully installed gensim-3.8.3\n",
            "Requirement already up-to-date: keras in /usr/local/lib/python3.6/dist-packages (2.4.3)\n",
            "Requirement already satisfied, skipping upgrade: pyyaml in /usr/local/lib/python3.6/dist-packages (from keras) (3.13)\n",
            "Requirement already satisfied, skipping upgrade: h5py in /usr/local/lib/python3.6/dist-packages (from keras) (2.10.0)\n",
            "Requirement already satisfied, skipping upgrade: scipy>=0.14 in /usr/local/lib/python3.6/dist-packages (from keras) (1.4.1)\n",
            "Requirement already satisfied, skipping upgrade: numpy>=1.9.1 in /usr/local/lib/python3.6/dist-packages (from keras) (1.18.5)\n",
            "Requirement already satisfied, skipping upgrade: six in /usr/local/lib/python3.6/dist-packages (from h5py->keras) (1.15.0)\n",
            "Requirement already up-to-date: pandas in /usr/local/lib/python3.6/dist-packages (1.1.4)\n",
            "Requirement already satisfied, skipping upgrade: python-dateutil>=2.7.3 in /usr/local/lib/python3.6/dist-packages (from pandas) (2.8.1)\n",
            "Requirement already satisfied, skipping upgrade: numpy>=1.15.4 in /usr/local/lib/python3.6/dist-packages (from pandas) (1.18.5)\n",
            "Requirement already satisfied, skipping upgrade: pytz>=2017.2 in /usr/local/lib/python3.6/dist-packages (from pandas) (2018.9)\n",
            "Requirement already satisfied, skipping upgrade: six>=1.5 in /usr/local/lib/python3.6/dist-packages (from python-dateutil>=2.7.3->pandas) (1.15.0)\n"
          ],
          "name": "stdout"
        }
      ]
    },
    {
      "cell_type": "code",
      "metadata": {
        "id": "_x48X3kNlDaP"
      },
      "source": [
        "import pandas as pd\n",
        "\n",
        "# Matplot\n",
        "import matplotlib.pyplot as plt\n",
        "%matplotlib inline\n",
        "\n",
        "# Scikit-learn\n",
        "from sklearn.model_selection import train_test_split\n",
        "from sklearn.preprocessing import LabelEncoder\n",
        "from sklearn.metrics import confusion_matrix, classification_report, accuracy_score\n",
        "from sklearn.manifold import TSNE\n",
        "from sklearn.feature_extraction.text import TfidfVectorizer\n",
        "\n",
        "# Keras\n",
        "from keras.preprocessing.text import Tokenizer\n",
        "from keras.preprocessing.sequence import pad_sequences\n",
        "from keras.models import Sequential\n",
        "from keras.layers import Activation, Dense, Dropout, Embedding, Flatten, Conv1D, MaxPooling1D, LSTM\n",
        "from keras import utils\n",
        "from keras.callbacks import ReduceLROnPlateau, EarlyStopping\n",
        "\n",
        "# nltk\n",
        "import nltk\n",
        "from nltk.corpus import stopwords\n",
        "from  nltk.stem import SnowballStemmer\n",
        "\n",
        "# Word2vec\n",
        "import gensim\n",
        "\n",
        "# Utility\n",
        "import re\n",
        "import numpy as np\n",
        "import os\n",
        "from collections import Counter\n",
        "import logging\n",
        "import time\n",
        "import pickle\n",
        "import itertools\n",
        "\n",
        "# Set log\n",
        "logging.basicConfig(format='%(asctime)s : %(levelname)s : %(message)s', level=logging.INFO)"
      ],
      "execution_count": null,
      "outputs": []
    },
    {
      "cell_type": "code",
      "metadata": {
        "id": "X07GUpPJlL9i",
        "outputId": "b6a0bda4-00ef-4068-cfca-dd4db10c4bad",
        "colab": {
          "base_uri": "https://localhost:8080/"
        }
      },
      "source": [
        "nltk.download('stopwords')"
      ],
      "execution_count": null,
      "outputs": [
        {
          "output_type": "stream",
          "text": [
            "[nltk_data] Downloading package stopwords to /root/nltk_data...\n",
            "[nltk_data]   Unzipping corpora/stopwords.zip.\n"
          ],
          "name": "stdout"
        },
        {
          "output_type": "execute_result",
          "data": {
            "text/plain": [
              "True"
            ]
          },
          "metadata": {
            "tags": []
          },
          "execution_count": 4
        }
      ]
    },
    {
      "cell_type": "markdown",
      "metadata": {
        "id": "P32bUp0ilPea"
      },
      "source": [
        "Settings"
      ]
    },
    {
      "cell_type": "code",
      "metadata": {
        "id": "b5dDwdU2lQ2B"
      },
      "source": [
        "# DATASET\n",
        "DATASET_COLUMNS = [\"target\", \"ids\", \"date\", \"flag\", \"user\", \"text\"]\n",
        "DATASET_ENCODING = \"ISO-8859-1\"\n",
        "TRAIN_SIZE = 0.8\n",
        "\n",
        "# TEXT CLENAING\n",
        "TEXT_CLEANING_RE = \"@\\S+|https?:\\S+|http?:\\S|[^A-Za-z0-9]+\"\n",
        "\n",
        "# WORD2VEC \n",
        "W2V_SIZE = 300\n",
        "W2V_WINDOW = 7\n",
        "W2V_EPOCH = 32\n",
        "W2V_MIN_COUNT = 10\n",
        "\n",
        "# KERAS\n",
        "SEQUENCE_LENGTH = 300\n",
        "EPOCHS = 8\n",
        "BATCH_SIZE = 1024\n",
        "\n",
        "# SENTIMENT\n",
        "POSITIVE = \"POSITIVE\"\n",
        "NEGATIVE = \"NEGATIVE\"\n",
        "NEUTRAL = \"NEUTRAL\"\n",
        "SENTIMENT_THRESHOLDS = (0.4, 0.7)\n",
        "\n",
        "# EXPORT\n",
        "KERAS_MODEL = \"model.h5\"\n",
        "WORD2VEC_MODEL = \"model.w2v\"\n",
        "TOKENIZER_MODEL = \"tokenizer.pkl\"\n",
        "ENCODER_MODEL = \"encoder.pkl\""
      ],
      "execution_count": null,
      "outputs": []
    },
    {
      "cell_type": "markdown",
      "metadata": {
        "id": "_PYoG7flt3Xo"
      },
      "source": [
        "Read Dataset"
      ]
    },
    {
      "cell_type": "markdown",
      "metadata": {
        "id": "_mi4nHFUt55f"
      },
      "source": [
        "Dataset details\n",
        "target: the polarity of the tweet (0 = negative, 2 = neutral, 4 = positive)\n",
        "ids: The id of the tweet ( 2087)\n",
        "date: the date of the tweet (Sat May 16 23:58:44 UTC 2009)\n",
        "flag: The query (lyx). If there is no query, then this value is NO_QUERY.\n",
        "user: the user that tweeted (robotickilldozr)\n",
        "text: the text of the tweet (Lyx is cool)"
      ]
    },
    {
      "cell_type": "code",
      "metadata": {
        "id": "VjbWjIbezSjv",
        "outputId": "51aab4f8-aaca-41d3-e9dd-f0382052f305",
        "colab": {
          "base_uri": "https://localhost:8080/"
        }
      },
      "source": [
        "from google.colab import drive\n",
        "drive.mount('/content/drive', force_remount=True)"
      ],
      "execution_count": null,
      "outputs": [
        {
          "output_type": "stream",
          "text": [
            "Mounted at /content/drive\n"
          ],
          "name": "stdout"
        }
      ]
    },
    {
      "cell_type": "code",
      "metadata": {
        "id": "L-4KvoAgt_m-",
        "outputId": "3968cbd3-b531-4faf-9903-443a1148a0f1",
        "colab": {
          "base_uri": "https://localhost:8080/"
        }
      },
      "source": [
        "#dataset_filename = os.listdir(\"../input\")[0]\n",
        "#dataset_path = os.path.join(\"..\",\"input\",dataset_filename)\n",
        "dataset_path = \"/content/drive/My Drive/module 3/input/training.1600000.processed.noemoticon.csv\"\n",
        "print(\"Open file:\", dataset_path)\n",
        "df = pd.read_csv(dataset_path, encoding =DATASET_ENCODING , names=DATASET_COLUMNS)"
      ],
      "execution_count": null,
      "outputs": [
        {
          "output_type": "stream",
          "text": [
            "Open file: /content/drive/My Drive/module 3/input/training.1600000.processed.noemoticon.csv\n"
          ],
          "name": "stdout"
        }
      ]
    },
    {
      "cell_type": "code",
      "metadata": {
        "id": "Pu-YBdyZA7e3",
        "outputId": "4943bbb7-d045-4ace-89d1-df02684a1775",
        "colab": {
          "base_uri": "https://localhost:8080/"
        }
      },
      "source": [
        "print(\"Dataset size:\", len(df))"
      ],
      "execution_count": null,
      "outputs": [
        {
          "output_type": "stream",
          "text": [
            "Dataset size: 1600000\n"
          ],
          "name": "stdout"
        }
      ]
    },
    {
      "cell_type": "code",
      "metadata": {
        "id": "63SQjRbKA8vf",
        "outputId": "180d5309-a6ef-4b6f-cdb3-6c8dacc060ec",
        "colab": {
          "base_uri": "https://localhost:8080/",
          "height": 195
        }
      },
      "source": [
        "df.head(5)"
      ],
      "execution_count": null,
      "outputs": [
        {
          "output_type": "execute_result",
          "data": {
            "text/html": [
              "<div>\n",
              "<style scoped>\n",
              "    .dataframe tbody tr th:only-of-type {\n",
              "        vertical-align: middle;\n",
              "    }\n",
              "\n",
              "    .dataframe tbody tr th {\n",
              "        vertical-align: top;\n",
              "    }\n",
              "\n",
              "    .dataframe thead th {\n",
              "        text-align: right;\n",
              "    }\n",
              "</style>\n",
              "<table border=\"1\" class=\"dataframe\">\n",
              "  <thead>\n",
              "    <tr style=\"text-align: right;\">\n",
              "      <th></th>\n",
              "      <th>target</th>\n",
              "      <th>ids</th>\n",
              "      <th>date</th>\n",
              "      <th>flag</th>\n",
              "      <th>user</th>\n",
              "      <th>text</th>\n",
              "    </tr>\n",
              "  </thead>\n",
              "  <tbody>\n",
              "    <tr>\n",
              "      <th>0</th>\n",
              "      <td>0</td>\n",
              "      <td>1467810369</td>\n",
              "      <td>Mon Apr 06 22:19:45 PDT 2009</td>\n",
              "      <td>NO_QUERY</td>\n",
              "      <td>_TheSpecialOne_</td>\n",
              "      <td>@switchfoot http://twitpic.com/2y1zl - Awww, t...</td>\n",
              "    </tr>\n",
              "    <tr>\n",
              "      <th>1</th>\n",
              "      <td>0</td>\n",
              "      <td>1467810672</td>\n",
              "      <td>Mon Apr 06 22:19:49 PDT 2009</td>\n",
              "      <td>NO_QUERY</td>\n",
              "      <td>scotthamilton</td>\n",
              "      <td>is upset that he can't update his Facebook by ...</td>\n",
              "    </tr>\n",
              "    <tr>\n",
              "      <th>2</th>\n",
              "      <td>0</td>\n",
              "      <td>1467810917</td>\n",
              "      <td>Mon Apr 06 22:19:53 PDT 2009</td>\n",
              "      <td>NO_QUERY</td>\n",
              "      <td>mattycus</td>\n",
              "      <td>@Kenichan I dived many times for the ball. Man...</td>\n",
              "    </tr>\n",
              "    <tr>\n",
              "      <th>3</th>\n",
              "      <td>0</td>\n",
              "      <td>1467811184</td>\n",
              "      <td>Mon Apr 06 22:19:57 PDT 2009</td>\n",
              "      <td>NO_QUERY</td>\n",
              "      <td>ElleCTF</td>\n",
              "      <td>my whole body feels itchy and like its on fire</td>\n",
              "    </tr>\n",
              "    <tr>\n",
              "      <th>4</th>\n",
              "      <td>0</td>\n",
              "      <td>1467811193</td>\n",
              "      <td>Mon Apr 06 22:19:57 PDT 2009</td>\n",
              "      <td>NO_QUERY</td>\n",
              "      <td>Karoli</td>\n",
              "      <td>@nationwideclass no, it's not behaving at all....</td>\n",
              "    </tr>\n",
              "  </tbody>\n",
              "</table>\n",
              "</div>"
            ],
            "text/plain": [
              "   target  ...                                               text\n",
              "0       0  ...  @switchfoot http://twitpic.com/2y1zl - Awww, t...\n",
              "1       0  ...  is upset that he can't update his Facebook by ...\n",
              "2       0  ...  @Kenichan I dived many times for the ball. Man...\n",
              "3       0  ...    my whole body feels itchy and like its on fire \n",
              "4       0  ...  @nationwideclass no, it's not behaving at all....\n",
              "\n",
              "[5 rows x 6 columns]"
            ]
          },
          "metadata": {
            "tags": []
          },
          "execution_count": 9
        }
      ]
    },
    {
      "cell_type": "markdown",
      "metadata": {
        "id": "JCej_g-OBv4b"
      },
      "source": [
        "Map target label to String\n",
        "0 -> NEGATIVE\n",
        "2 -> NEUTRAL\n",
        "4 -> POSITIVE"
      ]
    },
    {
      "cell_type": "code",
      "metadata": {
        "id": "Q_ndiAndBJnt"
      },
      "source": [
        "decode_map = {0: \"NEGATIVE\", 2: \"NEUTRAL\", 4: \"POSITIVE\"}\n",
        "def decode_sentiment(label):\n",
        "    return decode_map[int(label)]"
      ],
      "execution_count": null,
      "outputs": []
    },
    {
      "cell_type": "code",
      "metadata": {
        "id": "Sfjgv8OLB01T",
        "outputId": "5212e4eb-fd3b-48bd-94f9-0f9cd31103f2",
        "colab": {
          "base_uri": "https://localhost:8080/"
        }
      },
      "source": [
        "%%time\n",
        "df.target = df.target.apply(lambda x: decode_sentiment(x))"
      ],
      "execution_count": null,
      "outputs": [
        {
          "output_type": "stream",
          "text": [
            "CPU times: user 517 ms, sys: 0 ns, total: 517 ms\n",
            "Wall time: 520 ms\n"
          ],
          "name": "stdout"
        }
      ]
    },
    {
      "cell_type": "code",
      "metadata": {
        "id": "tjuxKp-2B4OD",
        "outputId": "b13eab8c-89b7-40f5-ce89-8f8feb9ea1bd",
        "colab": {
          "base_uri": "https://localhost:8080/",
          "height": 563
        }
      },
      "source": [
        "target_cnt = Counter(df.target)\n",
        "\n",
        "plt.figure(figsize=(16,8))\n",
        "plt.bar(target_cnt.keys(), target_cnt.values())\n",
        "plt.title(\"Dataset labels distribuition\", fontsize=22)\n",
        "plt.xticks(fontsize= 18) \n",
        "plt.yticks(fontsize=18)"
      ],
      "execution_count": null,
      "outputs": [
        {
          "output_type": "execute_result",
          "data": {
            "text/plain": [
              "(array([     0., 100000., 200000., 300000., 400000., 500000., 600000.,\n",
              "        700000., 800000., 900000.]),\n",
              " <a list of 10 Text major ticklabel objects>)"
            ]
          },
          "metadata": {
            "tags": []
          },
          "execution_count": 33
        },
        {
          "output_type": "display_data",
          "data": {
            "image/png": "[encoded data removed]",
            "text/plain": [
              "<Figure size 1152x576 with 1 Axes>"
            ]
          },
          "metadata": {
            "tags": [],
            "needs_background": "light"
          }
        }
      ]
    },
    {
      "cell_type": "markdown",
      "metadata": {
        "id": "vWQ0lpy1GA15"
      },
      "source": [
        "Pre-processing"
      ]
    },
    {
      "cell_type": "code",
      "metadata": {
        "id": "61B3TneiGCN9"
      },
      "source": [
        "stop_words = stopwords.words(\"english\")\n",
        "stemmer = SnowballStemmer(\"english\")"
      ],
      "execution_count": null,
      "outputs": []
    },
    {
      "cell_type": "code",
      "metadata": {
        "id": "b6qdmPkVGF76"
      },
      "source": [
        "def preprocess(text, stem=False):\n",
        "    # Remove link,user and special characters\n",
        "    text = re.sub(TEXT_CLEANING_RE, ' ', str(text).lower()).strip()\n",
        "    tokens = []\n",
        "    for token in text.split():\n",
        "        if token not in stop_words:\n",
        "            if stem:\n",
        "                tokens.append(stemmer.stem(token))\n",
        "            else:\n",
        "                tokens.append(token)\n",
        "    return \" \".join(tokens)"
      ],
      "execution_count": null,
      "outputs": []
    },
    {
      "cell_type": "code",
      "metadata": {
        "id": "OpDrLMgFGYnC",
        "outputId": "a0f17b9d-87f6-4a04-ea86-4dc6d9c91e26",
        "colab": {
          "base_uri": "https://localhost:8080/"
        }
      },
      "source": [
        "%%time\n",
        "df.text = df.text.apply(lambda x: preprocess(x))"
      ],
      "execution_count": null,
      "outputs": [
        {
          "output_type": "stream",
          "text": [
            "CPU times: user 43.1 s, sys: 163 ms, total: 43.3 s\n",
            "Wall time: 43.3 s\n"
          ],
          "name": "stdout"
        }
      ]
    },
    {
      "cell_type": "markdown",
      "metadata": {
        "id": "viRMgsmvGg1j"
      },
      "source": [
        "Split train and test"
      ]
    },
    {
      "cell_type": "code",
      "metadata": {
        "id": "UlF8L7I3GjPI",
        "outputId": "42650c88-52cd-4c50-ff0c-d440b0cbecd9",
        "colab": {
          "base_uri": "https://localhost:8080/"
        }
      },
      "source": [
        "df_train, df_test = train_test_split(df, test_size=1-TRAIN_SIZE, random_state=42)\n",
        "print(\"TRAIN size:\", len(df_train))\n",
        "print(\"TEST size:\", len(df_test))"
      ],
      "execution_count": null,
      "outputs": [
        {
          "output_type": "stream",
          "text": [
            "TRAIN size: 1280000\n",
            "TEST size: 320000\n"
          ],
          "name": "stdout"
        }
      ]
    },
    {
      "cell_type": "markdown",
      "metadata": {
        "id": "pH__BP1pG_to"
      },
      "source": [
        "Word2Vec"
      ]
    },
    {
      "cell_type": "code",
      "metadata": {
        "id": "LapgU_vDHAbA",
        "outputId": "811a9715-b592-48d0-9de3-50b3a5ac1695",
        "colab": {
          "base_uri": "https://localhost:8080/"
        }
      },
      "source": [
        "%%time\n",
        "documents = [_text.split() for _text in df_train.text] "
      ],
      "execution_count": null,
      "outputs": [
        {
          "output_type": "stream",
          "text": [
            "CPU times: user 2.42 s, sys: 322 ms, total: 2.75 s\n",
            "Wall time: 2.75 s\n"
          ],
          "name": "stdout"
        }
      ]
    },
    {
      "cell_type": "code",
      "metadata": {
        "id": "O-_AgHnKHF__"
      },
      "source": [
        "w2v_model = gensim.models.word2vec.Word2Vec(size=W2V_SIZE, \n",
        "                                            window=W2V_WINDOW, \n",
        "                                            min_count=W2V_MIN_COUNT, \n",
        "                                            workers=8)"
      ],
      "execution_count": null,
      "outputs": []
    },
    {
      "cell_type": "code",
      "metadata": {
        "id": "RBxtIjV8HLRP",
        "outputId": "0488a79c-1202-4883-c0c9-299086f44c46",
        "colab": {
          "base_uri": "https://localhost:8080/"
        }
      },
      "source": [
        "w2v_model.build_vocab(documents)"
      ],
      "execution_count": null,
      "outputs": [
        {
          "output_type": "stream",
          "text": [
            "2020-11-09 18:37:18,924 : INFO : collecting all words and their counts\n",
            "2020-11-09 18:37:18,926 : INFO : PROGRESS: at sentence #0, processed 0 words, keeping 0 word types\n",
            "2020-11-09 18:37:18,955 : INFO : PROGRESS: at sentence #10000, processed 72565 words, keeping 14005 word types\n",
            "2020-11-09 18:37:18,978 : INFO : PROGRESS: at sentence #20000, processed 144393 words, keeping 21587 word types\n",
            "2020-11-09 18:37:19,003 : INFO : PROGRESS: at sentence #30000, processed 215826 words, keeping 27541 word types\n",
            "2020-11-09 18:37:19,025 : INFO : PROGRESS: at sentence #40000, processed 288271 words, keeping 32764 word types\n",
            "2020-11-09 18:37:19,050 : INFO : PROGRESS: at sentence #50000, processed 359772 words, keeping 37587 word types\n",
            "2020-11-09 18:37:19,073 : INFO : PROGRESS: at sentence #60000, processed 431431 words, keeping 42198 word types\n",
            "2020-11-09 18:37:19,098 : INFO : PROGRESS: at sentence #70000, processed 503103 words, keeping 46458 word types\n",
            "2020-11-09 18:37:19,120 : INFO : PROGRESS: at sentence #80000, processed 575709 words, keeping 50476 word types\n",
            "2020-11-09 18:37:19,142 : INFO : PROGRESS: at sentence #90000, processed 647100 words, keeping 54140 word types\n",
            "2020-11-09 18:37:19,162 : INFO : PROGRESS: at sentence #100000, processed 718681 words, keeping 57777 word types\n",
            "2020-11-09 18:37:19,184 : INFO : PROGRESS: at sentence #110000, processed 790696 words, keeping 61207 word types\n",
            "2020-11-09 18:37:19,206 : INFO : PROGRESS: at sentence #120000, processed 863134 words, keeping 64583 word types\n",
            "2020-11-09 18:37:19,232 : INFO : PROGRESS: at sentence #130000, processed 935111 words, keeping 67865 word types\n",
            "2020-11-09 18:37:19,257 : INFO : PROGRESS: at sentence #140000, processed 1006668 words, keeping 70966 word types\n",
            "2020-11-09 18:37:19,280 : INFO : PROGRESS: at sentence #150000, processed 1078512 words, keeping 74119 word types\n",
            "2020-11-09 18:37:19,303 : INFO : PROGRESS: at sentence #160000, processed 1149914 words, keeping 77187 word types\n",
            "2020-11-09 18:37:19,325 : INFO : PROGRESS: at sentence #170000, processed 1222145 words, keeping 80267 word types\n",
            "2020-11-09 18:37:19,347 : INFO : PROGRESS: at sentence #180000, processed 1294708 words, keeping 83393 word types\n",
            "2020-11-09 18:37:19,369 : INFO : PROGRESS: at sentence #190000, processed 1367608 words, keeping 86329 word types\n",
            "2020-11-09 18:37:19,395 : INFO : PROGRESS: at sentence #200000, processed 1439469 words, keeping 89103 word types\n",
            "2020-11-09 18:37:19,416 : INFO : PROGRESS: at sentence #210000, processed 1512099 words, keeping 91840 word types\n",
            "2020-11-09 18:37:19,438 : INFO : PROGRESS: at sentence #220000, processed 1584149 words, keeping 94636 word types\n",
            "2020-11-09 18:37:19,459 : INFO : PROGRESS: at sentence #230000, processed 1656354 words, keeping 97353 word types\n",
            "2020-11-09 18:37:19,481 : INFO : PROGRESS: at sentence #240000, processed 1728573 words, keeping 99975 word types\n",
            "2020-11-09 18:37:19,502 : INFO : PROGRESS: at sentence #250000, processed 1801102 words, keeping 102594 word types\n",
            "2020-11-09 18:37:19,525 : INFO : PROGRESS: at sentence #260000, processed 1873103 words, keeping 105162 word types\n",
            "2020-11-09 18:37:19,547 : INFO : PROGRESS: at sentence #270000, processed 1945245 words, keeping 107626 word types\n",
            "2020-11-09 18:37:19,568 : INFO : PROGRESS: at sentence #280000, processed 2017163 words, keeping 110141 word types\n",
            "2020-11-09 18:37:19,588 : INFO : PROGRESS: at sentence #290000, processed 2089574 words, keeping 112539 word types\n",
            "2020-11-09 18:37:19,611 : INFO : PROGRESS: at sentence #300000, processed 2160996 words, keeping 114893 word types\n",
            "2020-11-09 18:37:19,631 : INFO : PROGRESS: at sentence #310000, processed 2232913 words, keeping 117298 word types\n",
            "2020-11-09 18:37:19,654 : INFO : PROGRESS: at sentence #320000, processed 2305039 words, keeping 119693 word types\n",
            "2020-11-09 18:37:19,678 : INFO : PROGRESS: at sentence #330000, processed 2377119 words, keeping 122131 word types\n",
            "2020-11-09 18:37:19,698 : INFO : PROGRESS: at sentence #340000, processed 2449370 words, keeping 124416 word types\n",
            "2020-11-09 18:37:19,720 : INFO : PROGRESS: at sentence #350000, processed 2521564 words, keeping 126669 word types\n",
            "2020-11-09 18:37:19,742 : INFO : PROGRESS: at sentence #360000, processed 2593681 words, keeping 128912 word types\n",
            "2020-11-09 18:37:19,766 : INFO : PROGRESS: at sentence #370000, processed 2665692 words, keeping 131135 word types\n",
            "2020-11-09 18:37:19,786 : INFO : PROGRESS: at sentence #380000, processed 2737859 words, keeping 133403 word types\n",
            "2020-11-09 18:37:19,809 : INFO : PROGRESS: at sentence #390000, processed 2809848 words, keeping 135551 word types\n",
            "2020-11-09 18:37:19,829 : INFO : PROGRESS: at sentence #400000, processed 2882438 words, keeping 137742 word types\n",
            "2020-11-09 18:37:19,852 : INFO : PROGRESS: at sentence #410000, processed 2954075 words, keeping 139909 word types\n",
            "2020-11-09 18:37:19,883 : INFO : PROGRESS: at sentence #420000, processed 3026247 words, keeping 142144 word types\n",
            "2020-11-09 18:37:19,906 : INFO : PROGRESS: at sentence #430000, processed 3098659 words, keeping 144364 word types\n",
            "2020-11-09 18:37:19,931 : INFO : PROGRESS: at sentence #440000, processed 3170663 words, keeping 146439 word types\n",
            "2020-11-09 18:37:19,952 : INFO : PROGRESS: at sentence #450000, processed 3243344 words, keeping 148526 word types\n",
            "2020-11-09 18:37:19,973 : INFO : PROGRESS: at sentence #460000, processed 3315466 words, keeping 150610 word types\n",
            "2020-11-09 18:37:19,997 : INFO : PROGRESS: at sentence #470000, processed 3388295 words, keeping 152737 word types\n",
            "2020-11-09 18:37:20,017 : INFO : PROGRESS: at sentence #480000, processed 3460120 words, keeping 154757 word types\n",
            "2020-11-09 18:37:20,040 : INFO : PROGRESS: at sentence #490000, processed 3531883 words, keeping 156825 word types\n",
            "2020-11-09 18:37:20,063 : INFO : PROGRESS: at sentence #500000, processed 3604217 words, keeping 158859 word types\n",
            "2020-11-09 18:37:20,084 : INFO : PROGRESS: at sentence #510000, processed 3676427 words, keeping 160852 word types\n",
            "2020-11-09 18:37:20,107 : INFO : PROGRESS: at sentence #520000, processed 3749045 words, keeping 162863 word types\n",
            "2020-11-09 18:37:20,128 : INFO : PROGRESS: at sentence #530000, processed 3821622 words, keeping 164929 word types\n",
            "2020-11-09 18:37:20,152 : INFO : PROGRESS: at sentence #540000, processed 3893627 words, keeping 166840 word types\n",
            "2020-11-09 18:37:20,173 : INFO : PROGRESS: at sentence #550000, processed 3965477 words, keeping 168799 word types\n",
            "2020-11-09 18:37:20,198 : INFO : PROGRESS: at sentence #560000, processed 4038050 words, keeping 170802 word types\n",
            "2020-11-09 18:37:20,222 : INFO : PROGRESS: at sentence #570000, processed 4110296 words, keeping 172760 word types\n",
            "2020-11-09 18:37:20,249 : INFO : PROGRESS: at sentence #580000, processed 4182385 words, keeping 174635 word types\n",
            "2020-11-09 18:37:20,275 : INFO : PROGRESS: at sentence #590000, processed 4254632 words, keeping 176470 word types\n",
            "2020-11-09 18:37:20,300 : INFO : PROGRESS: at sentence #600000, processed 4326859 words, keeping 178350 word types\n",
            "2020-11-09 18:37:20,325 : INFO : PROGRESS: at sentence #610000, processed 4399183 words, keeping 180290 word types\n",
            "2020-11-09 18:37:20,346 : INFO : PROGRESS: at sentence #620000, processed 4471343 words, keeping 182129 word types\n",
            "2020-11-09 18:37:20,372 : INFO : PROGRESS: at sentence #630000, processed 4543286 words, keeping 184005 word types\n",
            "2020-11-09 18:37:20,394 : INFO : PROGRESS: at sentence #640000, processed 4615780 words, keeping 185835 word types\n",
            "2020-11-09 18:37:20,418 : INFO : PROGRESS: at sentence #650000, processed 4688481 words, keeping 187705 word types\n",
            "2020-11-09 18:37:20,438 : INFO : PROGRESS: at sentence #660000, processed 4760481 words, keeping 189439 word types\n",
            "2020-11-09 18:37:20,460 : INFO : PROGRESS: at sentence #670000, processed 4833024 words, keeping 191232 word types\n",
            "2020-11-09 18:37:20,483 : INFO : PROGRESS: at sentence #680000, processed 4904516 words, keeping 193177 word types\n",
            "2020-11-09 18:37:20,507 : INFO : PROGRESS: at sentence #690000, processed 4976968 words, keeping 194960 word types\n",
            "2020-11-09 18:37:20,530 : INFO : PROGRESS: at sentence #700000, processed 5049412 words, keeping 196725 word types\n",
            "2020-11-09 18:37:20,554 : INFO : PROGRESS: at sentence #710000, processed 5121976 words, keeping 198516 word types\n",
            "2020-11-09 18:37:20,577 : INFO : PROGRESS: at sentence #720000, processed 5193881 words, keeping 200325 word types\n",
            "2020-11-09 18:37:20,600 : INFO : PROGRESS: at sentence #730000, processed 5265467 words, keeping 202133 word types\n",
            "2020-11-09 18:37:20,623 : INFO : PROGRESS: at sentence #740000, processed 5337518 words, keeping 203818 word types\n",
            "2020-11-09 18:37:20,644 : INFO : PROGRESS: at sentence #750000, processed 5409321 words, keeping 205535 word types\n",
            "2020-11-09 18:37:20,668 : INFO : PROGRESS: at sentence #760000, processed 5481512 words, keeping 207282 word types\n",
            "2020-11-09 18:37:20,691 : INFO : PROGRESS: at sentence #770000, processed 5554093 words, keeping 209076 word types\n",
            "2020-11-09 18:37:20,712 : INFO : PROGRESS: at sentence #780000, processed 5625382 words, keeping 210805 word types\n",
            "2020-11-09 18:37:20,735 : INFO : PROGRESS: at sentence #790000, processed 5698066 words, keeping 212618 word types\n",
            "2020-11-09 18:37:20,758 : INFO : PROGRESS: at sentence #800000, processed 5770880 words, keeping 214374 word types\n",
            "2020-11-09 18:37:20,778 : INFO : PROGRESS: at sentence #810000, processed 5843418 words, keeping 216009 word types\n",
            "2020-11-09 18:37:20,801 : INFO : PROGRESS: at sentence #820000, processed 5915628 words, keeping 217804 word types\n",
            "2020-11-09 18:37:20,824 : INFO : PROGRESS: at sentence #830000, processed 5987499 words, keeping 219585 word types\n",
            "2020-11-09 18:37:20,846 : INFO : PROGRESS: at sentence #840000, processed 6058973 words, keeping 221344 word types\n",
            "2020-11-09 18:37:20,877 : INFO : PROGRESS: at sentence #850000, processed 6131125 words, keeping 223002 word types\n",
            "2020-11-09 18:37:20,903 : INFO : PROGRESS: at sentence #860000, processed 6202951 words, keeping 224643 word types\n",
            "2020-11-09 18:37:20,925 : INFO : PROGRESS: at sentence #870000, processed 6275461 words, keeping 226362 word types\n",
            "2020-11-09 18:37:20,947 : INFO : PROGRESS: at sentence #880000, processed 6347661 words, keeping 227986 word types\n",
            "2020-11-09 18:37:20,971 : INFO : PROGRESS: at sentence #890000, processed 6419806 words, keeping 229634 word types\n",
            "2020-11-09 18:37:20,992 : INFO : PROGRESS: at sentence #900000, processed 6491644 words, keeping 231389 word types\n",
            "2020-11-09 18:37:21,014 : INFO : PROGRESS: at sentence #910000, processed 6564022 words, keeping 233050 word types\n",
            "2020-11-09 18:37:21,036 : INFO : PROGRESS: at sentence #920000, processed 6636228 words, keeping 234686 word types\n",
            "2020-11-09 18:37:21,060 : INFO : PROGRESS: at sentence #930000, processed 6708573 words, keeping 236393 word types\n",
            "2020-11-09 18:37:21,081 : INFO : PROGRESS: at sentence #940000, processed 6779956 words, keeping 238052 word types\n",
            "2020-11-09 18:37:21,106 : INFO : PROGRESS: at sentence #950000, processed 6852599 words, keeping 239716 word types\n",
            "2020-11-09 18:37:21,127 : INFO : PROGRESS: at sentence #960000, processed 6924717 words, keeping 241354 word types\n",
            "2020-11-09 18:37:21,151 : INFO : PROGRESS: at sentence #970000, processed 6996992 words, keeping 242980 word types\n",
            "2020-11-09 18:37:21,173 : INFO : PROGRESS: at sentence #980000, processed 7068402 words, keeping 244646 word types\n",
            "2020-11-09 18:37:21,195 : INFO : PROGRESS: at sentence #990000, processed 7140346 words, keeping 246186 word types\n",
            "2020-11-09 18:37:21,218 : INFO : PROGRESS: at sentence #1000000, processed 7211757 words, keeping 247726 word types\n",
            "2020-11-09 18:37:21,241 : INFO : PROGRESS: at sentence #1010000, processed 7283267 words, keeping 249288 word types\n",
            "2020-11-09 18:37:21,268 : INFO : PROGRESS: at sentence #1020000, processed 7355299 words, keeping 250860 word types\n",
            "2020-11-09 18:37:21,295 : INFO : PROGRESS: at sentence #1030000, processed 7426918 words, keeping 252366 word types\n",
            "2020-11-09 18:37:21,318 : INFO : PROGRESS: at sentence #1040000, processed 7498815 words, keeping 253930 word types\n",
            "2020-11-09 18:37:21,342 : INFO : PROGRESS: at sentence #1050000, processed 7570499 words, keeping 255471 word types\n",
            "2020-11-09 18:37:21,365 : INFO : PROGRESS: at sentence #1060000, processed 7643251 words, keeping 257035 word types\n",
            "2020-11-09 18:37:21,387 : INFO : PROGRESS: at sentence #1070000, processed 7714721 words, keeping 258509 word types\n",
            "2020-11-09 18:37:21,412 : INFO : PROGRESS: at sentence #1080000, processed 7787371 words, keeping 260071 word types\n",
            "2020-11-09 18:37:21,433 : INFO : PROGRESS: at sentence #1090000, processed 7859336 words, keeping 261683 word types\n",
            "2020-11-09 18:37:21,455 : INFO : PROGRESS: at sentence #1100000, processed 7932029 words, keeping 263278 word types\n",
            "2020-11-09 18:37:21,481 : INFO : PROGRESS: at sentence #1110000, processed 8004146 words, keeping 264800 word types\n",
            "2020-11-09 18:37:21,507 : INFO : PROGRESS: at sentence #1120000, processed 8075880 words, keeping 266309 word types\n",
            "2020-11-09 18:37:21,531 : INFO : PROGRESS: at sentence #1130000, processed 8148163 words, keeping 267826 word types\n",
            "2020-11-09 18:37:21,556 : INFO : PROGRESS: at sentence #1140000, processed 8220487 words, keeping 269391 word types\n",
            "2020-11-09 18:37:21,578 : INFO : PROGRESS: at sentence #1150000, processed 8292498 words, keeping 270894 word types\n",
            "2020-11-09 18:37:21,602 : INFO : PROGRESS: at sentence #1160000, processed 8363838 words, keeping 272400 word types\n",
            "2020-11-09 18:37:21,627 : INFO : PROGRESS: at sentence #1170000, processed 8435510 words, keeping 273970 word types\n",
            "2020-11-09 18:37:21,651 : INFO : PROGRESS: at sentence #1180000, processed 8507795 words, keeping 275521 word types\n",
            "2020-11-09 18:37:21,673 : INFO : PROGRESS: at sentence #1190000, processed 8579080 words, keeping 277007 word types\n",
            "2020-11-09 18:37:21,699 : INFO : PROGRESS: at sentence #1200000, processed 8650606 words, keeping 278457 word types\n",
            "2020-11-09 18:37:21,724 : INFO : PROGRESS: at sentence #1210000, processed 8721893 words, keeping 279959 word types\n",
            "2020-11-09 18:37:21,746 : INFO : PROGRESS: at sentence #1220000, processed 8793795 words, keeping 281427 word types\n",
            "2020-11-09 18:37:21,768 : INFO : PROGRESS: at sentence #1230000, processed 8865726 words, keeping 282981 word types\n",
            "2020-11-09 18:37:21,793 : INFO : PROGRESS: at sentence #1240000, processed 8938173 words, keeping 284542 word types\n",
            "2020-11-09 18:37:21,814 : INFO : PROGRESS: at sentence #1250000, processed 9010842 words, keeping 286064 word types\n",
            "2020-11-09 18:37:21,836 : INFO : PROGRESS: at sentence #1260000, processed 9083261 words, keeping 287521 word types\n",
            "2020-11-09 18:37:21,861 : INFO : PROGRESS: at sentence #1270000, processed 9155616 words, keeping 288987 word types\n",
            "2020-11-09 18:37:21,883 : INFO : collected 290418 word types from a corpus of 9227204 raw words and 1280000 sentences\n",
            "2020-11-09 18:37:21,884 : INFO : Loading a fresh vocabulary\n",
            "2020-11-09 18:37:22,032 : INFO : effective_min_count=10 retains 30369 unique words (10% of original 290418, drops 260049)\n",
            "2020-11-09 18:37:22,034 : INFO : effective_min_count=10 leaves 8780739 word corpus (95% of original 9227204, drops 446465)\n",
            "2020-11-09 18:37:22,143 : INFO : deleting the raw counts dictionary of 290418 items\n",
            "2020-11-09 18:37:22,150 : INFO : sample=0.001 downsamples 45 most-common words\n",
            "2020-11-09 18:37:22,151 : INFO : downsampling leaves estimated 8222658 word corpus (93.6% of prior 8780739)\n",
            "2020-11-09 18:37:22,233 : INFO : estimated required memory for 30369 words and 300 dimensions: 88070100 bytes\n",
            "2020-11-09 18:37:22,233 : INFO : resetting layer weights\n"
          ],
          "name": "stderr"
        }
      ]
    },
    {
      "cell_type": "code",
      "metadata": {
        "id": "n4dvYVkFHTyw",
        "outputId": "b261b66d-337b-439d-a68a-63b5fc889417",
        "colab": {
          "base_uri": "https://localhost:8080/"
        }
      },
      "source": [
        "words = w2v_model.wv.vocab.keys()\n",
        "vocab_size = len(words)\n",
        "print(\"Vocab size\", vocab_size)"
      ],
      "execution_count": null,
      "outputs": [
        {
          "output_type": "stream",
          "text": [
            "Vocab size 30369\n"
          ],
          "name": "stdout"
        }
      ]
    },
    {
      "cell_type": "code",
      "metadata": {
        "id": "Nh4hNPViHfhn",
        "outputId": "4abe04df-3649-4716-8ace-2ac76c068a9a",
        "colab": {
          "base_uri": "https://localhost:8080/"
        }
      },
      "source": [
        "%%time\n",
        "w2v_model.train(documents, total_examples=len(documents), epochs=W2V_EPOCH)"
      ],
      "execution_count": null,
      "outputs": [
        {
          "output_type": "stream",
          "text": [
            "2020-11-09 18:37:27,906 : INFO : training model with 8 workers on 30369 vocabulary and 300 features, using sg=0 hs=0 sample=0.001 negative=5 window=7\n",
            "2020-11-09 18:37:28,934 : INFO : EPOCH 1 - PROGRESS: at 4.34% examples, 351654 words/s, in_qsize 13, out_qsize 2\n",
            "2020-11-09 18:37:29,936 : INFO : EPOCH 1 - PROGRESS: at 9.01% examples, 366957 words/s, in_qsize 16, out_qsize 2\n",
            "2020-11-09 18:37:30,965 : INFO : EPOCH 1 - PROGRESS: at 14.54% examples, 392115 words/s, in_qsize 15, out_qsize 0\n",
            "2020-11-09 18:37:32,097 : INFO : EPOCH 1 - PROGRESS: at 19.51% examples, 383898 words/s, in_qsize 12, out_qsize 4\n",
            "2020-11-09 18:37:33,102 : INFO : EPOCH 1 - PROGRESS: at 24.82% examples, 393773 words/s, in_qsize 13, out_qsize 2\n",
            "2020-11-09 18:37:34,159 : INFO : EPOCH 1 - PROGRESS: at 29.48% examples, 388465 words/s, in_qsize 16, out_qsize 2\n",
            "2020-11-09 18:37:35,172 : INFO : EPOCH 1 - PROGRESS: at 34.68% examples, 393175 words/s, in_qsize 15, out_qsize 0\n",
            "2020-11-09 18:37:36,181 : INFO : EPOCH 1 - PROGRESS: at 39.54% examples, 393661 words/s, in_qsize 16, out_qsize 0\n",
            "2020-11-09 18:37:37,239 : INFO : EPOCH 1 - PROGRESS: at 44.51% examples, 392937 words/s, in_qsize 13, out_qsize 2\n",
            "2020-11-09 18:37:38,358 : INFO : EPOCH 1 - PROGRESS: at 50.13% examples, 395234 words/s, in_qsize 15, out_qsize 0\n",
            "2020-11-09 18:37:39,364 : INFO : EPOCH 1 - PROGRESS: at 54.99% examples, 395546 words/s, in_qsize 14, out_qsize 1\n",
            "2020-11-09 18:37:40,369 : INFO : EPOCH 1 - PROGRESS: at 59.98% examples, 396536 words/s, in_qsize 16, out_qsize 0\n",
            "2020-11-09 18:37:41,369 : INFO : EPOCH 1 - PROGRESS: at 64.62% examples, 395514 words/s, in_qsize 15, out_qsize 0\n",
            "2020-11-09 18:37:42,423 : INFO : EPOCH 1 - PROGRESS: at 69.50% examples, 395042 words/s, in_qsize 15, out_qsize 3\n",
            "2020-11-09 18:37:43,417 : INFO : EPOCH 1 - PROGRESS: at 74.48% examples, 395537 words/s, in_qsize 15, out_qsize 0\n",
            "2020-11-09 18:37:44,440 : INFO : EPOCH 1 - PROGRESS: at 79.71% examples, 396910 words/s, in_qsize 15, out_qsize 0\n",
            "2020-11-09 18:37:45,467 : INFO : EPOCH 1 - PROGRESS: at 84.26% examples, 395034 words/s, in_qsize 15, out_qsize 3\n",
            "2020-11-09 18:37:46,486 : INFO : EPOCH 1 - PROGRESS: at 89.56% examples, 396837 words/s, in_qsize 16, out_qsize 0\n",
            "2020-11-09 18:37:47,492 : INFO : EPOCH 1 - PROGRESS: at 94.69% examples, 397824 words/s, in_qsize 13, out_qsize 0\n",
            "2020-11-09 18:37:48,469 : INFO : worker thread finished; awaiting finish of 7 more threads\n",
            "2020-11-09 18:37:48,481 : INFO : worker thread finished; awaiting finish of 6 more threads\n",
            "2020-11-09 18:37:48,510 : INFO : EPOCH 1 - PROGRESS: at 99.46% examples, 397225 words/s, in_qsize 5, out_qsize 3\n",
            "2020-11-09 18:37:48,512 : INFO : worker thread finished; awaiting finish of 5 more threads\n",
            "2020-11-09 18:37:48,516 : INFO : worker thread finished; awaiting finish of 4 more threads\n",
            "2020-11-09 18:37:48,518 : INFO : worker thread finished; awaiting finish of 3 more threads\n",
            "2020-11-09 18:37:48,518 : INFO : worker thread finished; awaiting finish of 2 more threads\n",
            "2020-11-09 18:37:48,519 : INFO : worker thread finished; awaiting finish of 1 more threads\n",
            "2020-11-09 18:37:48,544 : INFO : worker thread finished; awaiting finish of 0 more threads\n",
            "2020-11-09 18:37:48,545 : INFO : EPOCH - 1 : training on 9227204 raw words (8223178 effective words) took 20.6s, 398715 effective words/s\n",
            "2020-11-09 18:37:49,586 : INFO : EPOCH 2 - PROGRESS: at 4.45% examples, 354643 words/s, in_qsize 16, out_qsize 0\n",
            "2020-11-09 18:37:50,682 : INFO : EPOCH 2 - PROGRESS: at 9.77% examples, 377215 words/s, in_qsize 15, out_qsize 0\n",
            "2020-11-09 18:37:51,751 : INFO : EPOCH 2 - PROGRESS: at 14.86% examples, 382049 words/s, in_qsize 14, out_qsize 1\n",
            "2020-11-09 18:37:52,760 : INFO : EPOCH 2 - PROGRESS: at 19.95% examples, 389860 words/s, in_qsize 15, out_qsize 0\n",
            "2020-11-09 18:37:53,776 : INFO : EPOCH 2 - PROGRESS: at 25.04% examples, 394202 words/s, in_qsize 15, out_qsize 0\n",
            "2020-11-09 18:37:54,795 : INFO : EPOCH 2 - PROGRESS: at 29.91% examples, 394026 words/s, in_qsize 15, out_qsize 0\n",
            "2020-11-09 18:37:55,808 : INFO : EPOCH 2 - PROGRESS: at 34.78% examples, 394305 words/s, in_qsize 15, out_qsize 0\n",
            "2020-11-09 18:37:56,862 : INFO : EPOCH 2 - PROGRESS: at 39.75% examples, 393633 words/s, in_qsize 15, out_qsize 0\n",
            "2020-11-09 18:37:57,922 : INFO : EPOCH 2 - PROGRESS: at 45.05% examples, 395627 words/s, in_qsize 15, out_qsize 0\n",
            "2020-11-09 18:37:58,997 : INFO : EPOCH 2 - PROGRESS: at 50.13% examples, 395007 words/s, in_qsize 14, out_qsize 1\n",
            "2020-11-09 18:38:00,036 : INFO : EPOCH 2 - PROGRESS: at 55.21% examples, 395771 words/s, in_qsize 15, out_qsize 0\n",
            "2020-11-09 18:38:01,041 : INFO : EPOCH 2 - PROGRESS: at 60.31% examples, 397426 words/s, in_qsize 16, out_qsize 0\n",
            "2020-11-09 18:38:02,078 : INFO : EPOCH 2 - PROGRESS: at 65.17% examples, 396613 words/s, in_qsize 14, out_qsize 3\n",
            "2020-11-09 18:38:03,079 : INFO : EPOCH 2 - PROGRESS: at 69.94% examples, 396241 words/s, in_qsize 15, out_qsize 3\n",
            "2020-11-09 18:38:04,116 : INFO : EPOCH 2 - PROGRESS: at 75.02% examples, 396724 words/s, in_qsize 15, out_qsize 2\n",
            "2020-11-09 18:38:05,147 : INFO : EPOCH 2 - PROGRESS: at 80.25% examples, 397820 words/s, in_qsize 15, out_qsize 1\n",
            "2020-11-09 18:38:06,156 : INFO : EPOCH 2 - PROGRESS: at 85.02% examples, 397292 words/s, in_qsize 15, out_qsize 0\n",
            "2020-11-09 18:38:07,165 : INFO : EPOCH 2 - PROGRESS: at 90.32% examples, 399186 words/s, in_qsize 15, out_qsize 0\n",
            "2020-11-09 18:38:08,166 : INFO : EPOCH 2 - PROGRESS: at 94.91% examples, 397856 words/s, in_qsize 12, out_qsize 3\n",
            "2020-11-09 18:38:08,967 : INFO : worker thread finished; awaiting finish of 7 more threads\n",
            "2020-11-09 18:38:08,973 : INFO : worker thread finished; awaiting finish of 6 more threads\n",
            "2020-11-09 18:38:08,990 : INFO : worker thread finished; awaiting finish of 5 more threads\n",
            "2020-11-09 18:38:08,995 : INFO : worker thread finished; awaiting finish of 4 more threads\n",
            "2020-11-09 18:38:09,052 : INFO : worker thread finished; awaiting finish of 3 more threads\n",
            "2020-11-09 18:38:09,055 : INFO : worker thread finished; awaiting finish of 2 more threads\n",
            "2020-11-09 18:38:09,058 : INFO : worker thread finished; awaiting finish of 1 more threads\n",
            "2020-11-09 18:38:09,060 : INFO : worker thread finished; awaiting finish of 0 more threads\n",
            "2020-11-09 18:38:09,061 : INFO : EPOCH - 2 : training on 9227204 raw words (8221477 effective words) took 20.5s, 400985 effective words/s\n",
            "2020-11-09 18:38:10,107 : INFO : EPOCH 3 - PROGRESS: at 4.24% examples, 335687 words/s, in_qsize 15, out_qsize 1\n",
            "2020-11-09 18:38:11,117 : INFO : EPOCH 3 - PROGRESS: at 9.66% examples, 387799 words/s, in_qsize 15, out_qsize 0\n",
            "2020-11-09 18:38:12,124 : INFO : EPOCH 3 - PROGRESS: at 14.33% examples, 385311 words/s, in_qsize 15, out_qsize 3\n",
            "2020-11-09 18:38:13,132 : INFO : EPOCH 3 - PROGRESS: at 19.73% examples, 399386 words/s, in_qsize 12, out_qsize 1\n",
            "2020-11-09 18:38:14,197 : INFO : EPOCH 3 - PROGRESS: at 24.50% examples, 392877 words/s, in_qsize 16, out_qsize 1\n",
            "2020-11-09 18:38:15,198 : INFO : EPOCH 3 - PROGRESS: at 29.91% examples, 401412 words/s, in_qsize 15, out_qsize 0\n",
            "2020-11-09 18:38:16,220 : INFO : EPOCH 3 - PROGRESS: at 34.68% examples, 398829 words/s, in_qsize 16, out_qsize 0\n",
            "2020-11-09 18:38:17,311 : INFO : EPOCH 3 - PROGRESS: at 39.97% examples, 398981 words/s, in_qsize 15, out_qsize 0\n",
            "2020-11-09 18:38:18,316 : INFO : EPOCH 3 - PROGRESS: at 44.94% examples, 399934 words/s, in_qsize 15, out_qsize 0\n",
            "2020-11-09 18:38:19,335 : INFO : EPOCH 3 - PROGRESS: at 49.59% examples, 397578 words/s, in_qsize 12, out_qsize 3\n",
            "2020-11-09 18:38:20,421 : INFO : EPOCH 3 - PROGRESS: at 54.89% examples, 398022 words/s, in_qsize 14, out_qsize 1\n",
            "2020-11-09 18:38:21,424 : INFO : EPOCH 3 - PROGRESS: at 60.09% examples, 400345 words/s, in_qsize 15, out_qsize 0\n",
            "2020-11-09 18:38:22,454 : INFO : EPOCH 3 - PROGRESS: at 64.95% examples, 399479 words/s, in_qsize 15, out_qsize 0\n",
            "2020-11-09 18:38:23,458 : INFO : EPOCH 3 - PROGRESS: at 69.94% examples, 400058 words/s, in_qsize 15, out_qsize 0\n",
            "2020-11-09 18:38:24,473 : INFO : EPOCH 3 - PROGRESS: at 74.92% examples, 400304 words/s, in_qsize 15, out_qsize 0\n",
            "2020-11-09 18:38:25,483 : INFO : EPOCH 3 - PROGRESS: at 79.92% examples, 400622 words/s, in_qsize 15, out_qsize 0\n",
            "2020-11-09 18:38:26,516 : INFO : EPOCH 3 - PROGRESS: at 85.02% examples, 400897 words/s, in_qsize 15, out_qsize 0\n",
            "2020-11-09 18:38:27,525 : INFO : EPOCH 3 - PROGRESS: at 89.56% examples, 399226 words/s, in_qsize 12, out_qsize 3\n",
            "2020-11-09 18:38:28,526 : INFO : EPOCH 3 - PROGRESS: at 94.69% examples, 400185 words/s, in_qsize 15, out_qsize 0\n",
            "2020-11-09 18:38:29,408 : INFO : worker thread finished; awaiting finish of 7 more threads\n",
            "2020-11-09 18:38:29,420 : INFO : worker thread finished; awaiting finish of 6 more threads\n",
            "2020-11-09 18:38:29,468 : INFO : worker thread finished; awaiting finish of 5 more threads\n",
            "2020-11-09 18:38:29,476 : INFO : worker thread finished; awaiting finish of 4 more threads\n",
            "2020-11-09 18:38:29,477 : INFO : worker thread finished; awaiting finish of 3 more threads\n",
            "2020-11-09 18:38:29,488 : INFO : worker thread finished; awaiting finish of 2 more threads\n",
            "2020-11-09 18:38:29,491 : INFO : worker thread finished; awaiting finish of 1 more threads\n",
            "2020-11-09 18:38:29,501 : INFO : worker thread finished; awaiting finish of 0 more threads\n",
            "2020-11-09 18:38:29,502 : INFO : EPOCH - 3 : training on 9227204 raw words (8222481 effective words) took 20.4s, 402475 effective words/s\n",
            "2020-11-09 18:38:30,540 : INFO : EPOCH 4 - PROGRESS: at 4.34% examples, 347506 words/s, in_qsize 15, out_qsize 2\n",
            "2020-11-09 18:38:31,541 : INFO : EPOCH 4 - PROGRESS: at 9.45% examples, 382693 words/s, in_qsize 16, out_qsize 0\n",
            "2020-11-09 18:38:32,597 : INFO : EPOCH 4 - PROGRESS: at 14.22% examples, 378676 words/s, in_qsize 16, out_qsize 2\n",
            "2020-11-09 18:38:33,739 : INFO : EPOCH 4 - PROGRESS: at 19.84% examples, 385860 words/s, in_qsize 14, out_qsize 1\n",
            "2020-11-09 18:38:34,806 : INFO : EPOCH 4 - PROGRESS: at 25.37% examples, 393986 words/s, in_qsize 15, out_qsize 0\n",
            "2020-11-09 18:38:35,881 : INFO : EPOCH 4 - PROGRESS: at 30.35% examples, 391819 words/s, in_qsize 13, out_qsize 2\n",
            "2020-11-09 18:38:36,917 : INFO : EPOCH 4 - PROGRESS: at 35.42% examples, 393572 words/s, in_qsize 16, out_qsize 0\n",
            "2020-11-09 18:38:37,940 : INFO : EPOCH 4 - PROGRESS: at 40.30% examples, 393341 words/s, in_qsize 13, out_qsize 2\n",
            "2020-11-09 18:38:38,990 : INFO : EPOCH 4 - PROGRESS: at 45.26% examples, 392983 words/s, in_qsize 16, out_qsize 0\n",
            "2020-11-09 18:38:40,049 : INFO : EPOCH 4 - PROGRESS: at 50.35% examples, 393818 words/s, in_qsize 14, out_qsize 1\n",
            "2020-11-09 18:38:41,052 : INFO : EPOCH 4 - PROGRESS: at 55.00% examples, 392292 words/s, in_qsize 15, out_qsize 0\n",
            "2020-11-09 18:38:42,065 : INFO : EPOCH 4 - PROGRESS: at 60.41% examples, 396152 words/s, in_qsize 15, out_qsize 0\n",
            "2020-11-09 18:38:43,162 : INFO : EPOCH 4 - PROGRESS: at 65.06% examples, 392358 words/s, in_qsize 15, out_qsize 0\n",
            "2020-11-09 18:38:44,220 : INFO : EPOCH 4 - PROGRESS: at 70.48% examples, 394405 words/s, in_qsize 16, out_qsize 0\n",
            "2020-11-09 18:38:45,282 : INFO : EPOCH 4 - PROGRESS: at 75.57% examples, 394609 words/s, in_qsize 16, out_qsize 1\n",
            "2020-11-09 18:38:46,299 : INFO : EPOCH 4 - PROGRESS: at 80.68% examples, 395809 words/s, in_qsize 15, out_qsize 1\n",
            "2020-11-09 18:38:47,348 : INFO : EPOCH 4 - PROGRESS: at 85.88% examples, 396783 words/s, in_qsize 16, out_qsize 0\n",
            "2020-11-09 18:38:48,330 : INFO : EPOCH 4 - PROGRESS: at 90.98% examples, 397687 words/s, in_qsize 16, out_qsize 1\n",
            "2020-11-09 18:38:49,400 : INFO : EPOCH 4 - PROGRESS: at 95.88% examples, 396689 words/s, in_qsize 15, out_qsize 2\n",
            "2020-11-09 18:38:50,031 : INFO : worker thread finished; awaiting finish of 7 more threads\n",
            "2020-11-09 18:38:50,038 : INFO : worker thread finished; awaiting finish of 6 more threads\n",
            "2020-11-09 18:38:50,039 : INFO : worker thread finished; awaiting finish of 5 more threads\n",
            "2020-11-09 18:38:50,044 : INFO : worker thread finished; awaiting finish of 4 more threads\n",
            "2020-11-09 18:38:50,048 : INFO : worker thread finished; awaiting finish of 3 more threads\n",
            "2020-11-09 18:38:50,076 : INFO : worker thread finished; awaiting finish of 2 more threads\n",
            "2020-11-09 18:38:50,099 : INFO : worker thread finished; awaiting finish of 1 more threads\n",
            "2020-11-09 18:38:50,105 : INFO : worker thread finished; awaiting finish of 0 more threads\n",
            "2020-11-09 18:38:50,105 : INFO : EPOCH - 4 : training on 9227204 raw words (8222431 effective words) took 20.6s, 399337 effective words/s\n",
            "2020-11-09 18:38:51,119 : INFO : EPOCH 5 - PROGRESS: at 4.45% examples, 364457 words/s, in_qsize 15, out_qsize 0\n",
            "2020-11-09 18:38:52,147 : INFO : EPOCH 5 - PROGRESS: at 9.34% examples, 377435 words/s, in_qsize 15, out_qsize 0\n",
            "2020-11-09 18:38:53,175 : INFO : EPOCH 5 - PROGRESS: at 14.43% examples, 387383 words/s, in_qsize 13, out_qsize 2\n",
            "2020-11-09 18:38:54,179 : INFO : EPOCH 5 - PROGRESS: at 19.73% examples, 399083 words/s, in_qsize 15, out_qsize 0\n",
            "2020-11-09 18:38:55,184 : INFO : EPOCH 5 - PROGRESS: at 24.50% examples, 397402 words/s, in_qsize 15, out_qsize 3\n",
            "2020-11-09 18:38:56,215 : INFO : EPOCH 5 - PROGRESS: at 29.27% examples, 394484 words/s, in_qsize 15, out_qsize 0\n",
            "2020-11-09 18:38:57,229 : INFO : EPOCH 5 - PROGRESS: at 34.13% examples, 394636 words/s, in_qsize 16, out_qsize 2\n",
            "2020-11-09 18:38:58,290 : INFO : EPOCH 5 - PROGRESS: at 39.33% examples, 395735 words/s, in_qsize 15, out_qsize 0\n",
            "2020-11-09 18:38:59,319 : INFO : EPOCH 5 - PROGRESS: at 44.51% examples, 397942 words/s, in_qsize 15, out_qsize 0\n",
            "2020-11-09 18:39:00,328 : INFO : EPOCH 5 - PROGRESS: at 49.48% examples, 398765 words/s, in_qsize 16, out_qsize 1\n",
            "2020-11-09 18:39:01,337 : INFO : EPOCH 5 - PROGRESS: at 54.14% examples, 397066 words/s, in_qsize 15, out_qsize 0\n",
            "2020-11-09 18:39:02,368 : INFO : EPOCH 5 - PROGRESS: at 59.12% examples, 397122 words/s, in_qsize 15, out_qsize 2\n",
            "2020-11-09 18:39:03,375 : INFO : EPOCH 5 - PROGRESS: at 64.19% examples, 398517 words/s, in_qsize 15, out_qsize 0\n",
            "2020-11-09 18:39:04,381 : INFO : EPOCH 5 - PROGRESS: at 69.07% examples, 398505 words/s, in_qsize 15, out_qsize 0\n",
            "2020-11-09 18:39:05,409 : INFO : EPOCH 5 - PROGRESS: at 74.05% examples, 398741 words/s, in_qsize 16, out_qsize 3\n",
            "2020-11-09 18:39:06,436 : INFO : EPOCH 5 - PROGRESS: at 79.16% examples, 399053 words/s, in_qsize 15, out_qsize 0\n",
            "2020-11-09 18:39:07,459 : INFO : EPOCH 5 - PROGRESS: at 84.37% examples, 400160 words/s, in_qsize 13, out_qsize 2\n",
            "2020-11-09 18:39:08,479 : INFO : EPOCH 5 - PROGRESS: at 89.34% examples, 400232 words/s, in_qsize 15, out_qsize 0\n",
            "2020-11-09 18:39:09,496 : INFO : EPOCH 5 - PROGRESS: at 94.47% examples, 400826 words/s, in_qsize 15, out_qsize 0\n",
            "2020-11-09 18:39:10,455 : INFO : worker thread finished; awaiting finish of 7 more threads\n",
            "2020-11-09 18:39:10,475 : INFO : worker thread finished; awaiting finish of 6 more threads\n",
            "2020-11-09 18:39:10,487 : INFO : worker thread finished; awaiting finish of 5 more threads\n",
            "2020-11-09 18:39:10,496 : INFO : EPOCH 5 - PROGRESS: at 99.56% examples, 401749 words/s, in_qsize 4, out_qsize 1\n",
            "2020-11-09 18:39:10,497 : INFO : worker thread finished; awaiting finish of 4 more threads\n",
            "2020-11-09 18:39:10,501 : INFO : worker thread finished; awaiting finish of 3 more threads\n",
            "2020-11-09 18:39:10,502 : INFO : worker thread finished; awaiting finish of 2 more threads\n",
            "2020-11-09 18:39:10,503 : INFO : worker thread finished; awaiting finish of 1 more threads\n",
            "2020-11-09 18:39:10,505 : INFO : worker thread finished; awaiting finish of 0 more threads\n",
            "2020-11-09 18:39:10,507 : INFO : EPOCH - 5 : training on 9227204 raw words (8222927 effective words) took 20.4s, 403285 effective words/s\n",
            "2020-11-09 18:39:11,576 : INFO : EPOCH 6 - PROGRESS: at 4.67% examples, 363553 words/s, in_qsize 16, out_qsize 0\n",
            "2020-11-09 18:39:12,610 : INFO : EPOCH 6 - PROGRESS: at 9.66% examples, 380024 words/s, in_qsize 15, out_qsize 0\n",
            "2020-11-09 18:39:13,610 : INFO : EPOCH 6 - PROGRESS: at 14.43% examples, 383678 words/s, in_qsize 13, out_qsize 2\n",
            "2020-11-09 18:39:14,625 : INFO : EPOCH 6 - PROGRESS: at 19.62% examples, 392977 words/s, in_qsize 15, out_qsize 0\n",
            "2020-11-09 18:39:15,645 : INFO : EPOCH 6 - PROGRESS: at 24.72% examples, 396473 words/s, in_qsize 15, out_qsize 0\n",
            "2020-11-09 18:39:16,699 : INFO : EPOCH 6 - PROGRESS: at 29.80% examples, 398160 words/s, in_qsize 15, out_qsize 1\n",
            "2020-11-09 18:39:17,746 : INFO : EPOCH 6 - PROGRESS: at 34.78% examples, 395851 words/s, in_qsize 15, out_qsize 1\n",
            "2020-11-09 18:39:18,793 : INFO : EPOCH 6 - PROGRESS: at 40.08% examples, 398539 words/s, in_qsize 15, out_qsize 0\n",
            "2020-11-09 18:39:19,806 : INFO : EPOCH 6 - PROGRESS: at 44.83% examples, 397225 words/s, in_qsize 16, out_qsize 1\n",
            "2020-11-09 18:39:20,858 : INFO : EPOCH 6 - PROGRESS: at 49.70% examples, 396870 words/s, in_qsize 15, out_qsize 6\n",
            "2020-11-09 18:39:21,851 : INFO : EPOCH 6 - PROGRESS: at 55.21% examples, 401062 words/s, in_qsize 15, out_qsize 1\n",
            "2020-11-09 18:39:22,874 : INFO : EPOCH 6 - PROGRESS: at 59.98% examples, 399593 words/s, in_qsize 15, out_qsize 0\n",
            "2020-11-09 18:39:23,901 : INFO : EPOCH 6 - PROGRESS: at 64.95% examples, 399557 words/s, in_qsize 16, out_qsize 2\n",
            "2020-11-09 18:39:24,907 : INFO : EPOCH 6 - PROGRESS: at 69.94% examples, 400090 words/s, in_qsize 14, out_qsize 2\n",
            "2020-11-09 18:39:25,940 : INFO : EPOCH 6 - PROGRESS: at 75.14% examples, 401014 words/s, in_qsize 15, out_qsize 0\n",
            "2020-11-09 18:39:27,001 : INFO : EPOCH 6 - PROGRESS: at 80.36% examples, 401106 words/s, in_qsize 16, out_qsize 0\n",
            "2020-11-09 18:39:28,074 : INFO : EPOCH 6 - PROGRESS: at 85.66% examples, 401435 words/s, in_qsize 15, out_qsize 0\n",
            "2020-11-09 18:39:29,078 : INFO : EPOCH 6 - PROGRESS: at 90.54% examples, 401311 words/s, in_qsize 15, out_qsize 0\n",
            "2020-11-09 18:39:30,120 : INFO : EPOCH 6 - PROGRESS: at 95.77% examples, 401775 words/s, in_qsize 16, out_qsize 0\n",
            "2020-11-09 18:39:30,760 : INFO : worker thread finished; awaiting finish of 7 more threads\n",
            "2020-11-09 18:39:30,790 : INFO : worker thread finished; awaiting finish of 6 more threads\n",
            "2020-11-09 18:39:30,858 : INFO : worker thread finished; awaiting finish of 5 more threads\n",
            "2020-11-09 18:39:30,866 : INFO : worker thread finished; awaiting finish of 4 more threads\n",
            "2020-11-09 18:39:30,887 : INFO : worker thread finished; awaiting finish of 3 more threads\n",
            "2020-11-09 18:39:30,891 : INFO : worker thread finished; awaiting finish of 2 more threads\n",
            "2020-11-09 18:39:30,893 : INFO : worker thread finished; awaiting finish of 1 more threads\n",
            "2020-11-09 18:39:30,895 : INFO : worker thread finished; awaiting finish of 0 more threads\n",
            "2020-11-09 18:39:30,896 : INFO : EPOCH - 6 : training on 9227204 raw words (8222129 effective words) took 20.4s, 403577 effective words/s\n",
            "2020-11-09 18:39:31,918 : INFO : EPOCH 7 - PROGRESS: at 4.34% examples, 352926 words/s, in_qsize 15, out_qsize 0\n",
            "2020-11-09 18:39:32,942 : INFO : EPOCH 7 - PROGRESS: at 9.45% examples, 381182 words/s, in_qsize 15, out_qsize 0\n",
            "2020-11-09 18:39:33,968 : INFO : EPOCH 7 - PROGRESS: at 14.54% examples, 390096 words/s, in_qsize 15, out_qsize 0\n",
            "2020-11-09 18:39:34,974 : INFO : EPOCH 7 - PROGRESS: at 19.40% examples, 392152 words/s, in_qsize 16, out_qsize 0\n",
            "2020-11-09 18:39:36,039 : INFO : EPOCH 7 - PROGRESS: at 24.61% examples, 394140 words/s, in_qsize 15, out_qsize 0\n",
            "2020-11-09 18:39:37,047 : INFO : EPOCH 7 - PROGRESS: at 29.70% examples, 397663 words/s, in_qsize 15, out_qsize 1\n",
            "2020-11-09 18:39:38,115 : INFO : EPOCH 7 - PROGRESS: at 34.78% examples, 396816 words/s, in_qsize 15, out_qsize 0\n",
            "2020-11-09 18:39:39,130 : INFO : EPOCH 7 - PROGRESS: at 40.19% examples, 402020 words/s, in_qsize 15, out_qsize 0\n",
            "2020-11-09 18:39:40,131 : INFO : EPOCH 7 - PROGRESS: at 44.62% examples, 397965 words/s, in_qsize 9, out_qsize 6\n",
            "2020-11-09 18:39:41,132 : INFO : EPOCH 7 - PROGRESS: at 50.02% examples, 402567 words/s, in_qsize 15, out_qsize 0\n",
            "2020-11-09 18:39:42,141 : INFO : EPOCH 7 - PROGRESS: at 54.67% examples, 400550 words/s, in_qsize 14, out_qsize 1\n",
            "2020-11-09 18:39:43,156 : INFO : EPOCH 7 - PROGRESS: at 59.87% examples, 402281 words/s, in_qsize 15, out_qsize 0\n",
            "2020-11-09 18:39:44,179 : INFO : EPOCH 7 - PROGRESS: at 64.95% examples, 402805 words/s, in_qsize 15, out_qsize 0\n",
            "2020-11-09 18:39:45,201 : INFO : EPOCH 7 - PROGRESS: at 69.61% examples, 400823 words/s, in_qsize 14, out_qsize 1\n",
            "2020-11-09 18:39:46,244 : INFO : EPOCH 7 - PROGRESS: at 74.70% examples, 400843 words/s, in_qsize 16, out_qsize 2\n",
            "2020-11-09 18:39:47,246 : INFO : EPOCH 7 - PROGRESS: at 79.70% examples, 401344 words/s, in_qsize 15, out_qsize 1\n",
            "2020-11-09 18:39:48,343 : INFO : EPOCH 7 - PROGRESS: at 85.13% examples, 401619 words/s, in_qsize 15, out_qsize 0\n",
            "2020-11-09 18:39:49,347 : INFO : EPOCH 7 - PROGRESS: at 90.22% examples, 402450 words/s, in_qsize 15, out_qsize 1\n",
            "2020-11-09 18:39:50,366 : INFO : EPOCH 7 - PROGRESS: at 95.12% examples, 402027 words/s, in_qsize 14, out_qsize 6\n",
            "2020-11-09 18:39:51,115 : INFO : worker thread finished; awaiting finish of 7 more threads\n",
            "2020-11-09 18:39:51,139 : INFO : worker thread finished; awaiting finish of 6 more threads\n",
            "2020-11-09 18:39:51,142 : INFO : worker thread finished; awaiting finish of 5 more threads\n",
            "2020-11-09 18:39:51,149 : INFO : worker thread finished; awaiting finish of 4 more threads\n",
            "2020-11-09 18:39:51,168 : INFO : worker thread finished; awaiting finish of 3 more threads\n",
            "2020-11-09 18:39:51,181 : INFO : worker thread finished; awaiting finish of 2 more threads\n",
            "2020-11-09 18:39:51,198 : INFO : worker thread finished; awaiting finish of 1 more threads\n",
            "2020-11-09 18:39:51,201 : INFO : worker thread finished; awaiting finish of 0 more threads\n",
            "2020-11-09 18:39:51,202 : INFO : EPOCH - 7 : training on 9227204 raw words (8222937 effective words) took 20.3s, 405210 effective words/s\n",
            "2020-11-09 18:39:52,270 : INFO : EPOCH 8 - PROGRESS: at 4.34% examples, 336882 words/s, in_qsize 15, out_qsize 0\n",
            "2020-11-09 18:39:53,292 : INFO : EPOCH 8 - PROGRESS: at 9.45% examples, 372893 words/s, in_qsize 14, out_qsize 1\n",
            "2020-11-09 18:39:54,294 : INFO : EPOCH 8 - PROGRESS: at 14.54% examples, 387455 words/s, in_qsize 15, out_qsize 0\n",
            "2020-11-09 18:39:55,328 : INFO : EPOCH 8 - PROGRESS: at 19.51% examples, 389651 words/s, in_qsize 15, out_qsize 0\n",
            "2020-11-09 18:39:56,334 : INFO : EPOCH 8 - PROGRESS: at 24.61% examples, 394909 words/s, in_qsize 15, out_qsize 0\n",
            "2020-11-09 18:39:57,408 : INFO : EPOCH 8 - PROGRESS: at 29.70% examples, 394024 words/s, in_qsize 16, out_qsize 0\n",
            "2020-11-09 18:39:58,474 : INFO : EPOCH 8 - PROGRESS: at 34.78% examples, 393859 words/s, in_qsize 15, out_qsize 0\n",
            "2020-11-09 18:39:59,492 : INFO : EPOCH 8 - PROGRESS: at 39.97% examples, 397070 words/s, in_qsize 16, out_qsize 1\n",
            "2020-11-09 18:40:00,503 : INFO : EPOCH 8 - PROGRESS: at 44.83% examples, 396972 words/s, in_qsize 15, out_qsize 0\n",
            "2020-11-09 18:40:01,509 : INFO : EPOCH 8 - PROGRESS: at 50.02% examples, 399763 words/s, in_qsize 15, out_qsize 0\n",
            "2020-11-09 18:40:02,575 : INFO : EPOCH 8 - PROGRESS: at 54.78% examples, 396777 words/s, in_qsize 15, out_qsize 0\n",
            "2020-11-09 18:40:03,629 : INFO : EPOCH 8 - PROGRESS: at 60.09% examples, 398250 words/s, in_qsize 15, out_qsize 0\n",
            "2020-11-09 18:40:04,638 : INFO : EPOCH 8 - PROGRESS: at 65.39% examples, 400837 words/s, in_qsize 14, out_qsize 0\n",
            "2020-11-09 18:40:05,692 : INFO : EPOCH 8 - PROGRESS: at 69.83% examples, 397705 words/s, in_qsize 15, out_qsize 3\n",
            "2020-11-09 18:40:06,713 : INFO : EPOCH 8 - PROGRESS: at 75.13% examples, 399432 words/s, in_qsize 15, out_qsize 2\n",
            "2020-11-09 18:40:07,719 : INFO : EPOCH 8 - PROGRESS: at 79.92% examples, 398306 words/s, in_qsize 16, out_qsize 1\n",
            "2020-11-09 18:40:08,727 : INFO : EPOCH 8 - PROGRESS: at 85.23% examples, 400288 words/s, in_qsize 15, out_qsize 0\n",
            "2020-11-09 18:40:09,735 : INFO : EPOCH 8 - PROGRESS: at 90.33% examples, 401109 words/s, in_qsize 15, out_qsize 0\n",
            "2020-11-09 18:40:10,741 : INFO : EPOCH 8 - PROGRESS: at 95.12% examples, 400461 words/s, in_qsize 16, out_qsize 1\n",
            "2020-11-09 18:40:11,480 : INFO : worker thread finished; awaiting finish of 7 more threads\n",
            "2020-11-09 18:40:11,573 : INFO : worker thread finished; awaiting finish of 6 more threads\n",
            "2020-11-09 18:40:11,585 : INFO : worker thread finished; awaiting finish of 5 more threads\n",
            "2020-11-09 18:40:11,595 : INFO : worker thread finished; awaiting finish of 4 more threads\n",
            "2020-11-09 18:40:11,599 : INFO : worker thread finished; awaiting finish of 3 more threads\n",
            "2020-11-09 18:40:11,604 : INFO : worker thread finished; awaiting finish of 2 more threads\n",
            "2020-11-09 18:40:11,605 : INFO : worker thread finished; awaiting finish of 1 more threads\n",
            "2020-11-09 18:40:11,605 : INFO : worker thread finished; awaiting finish of 0 more threads\n",
            "2020-11-09 18:40:11,607 : INFO : EPOCH - 8 : training on 9227204 raw words (8222164 effective words) took 20.4s, 403171 effective words/s\n",
            "2020-11-09 18:40:12,631 : INFO : EPOCH 9 - PROGRESS: at 4.45% examples, 361660 words/s, in_qsize 15, out_qsize 0\n",
            "2020-11-09 18:40:13,755 : INFO : EPOCH 9 - PROGRESS: at 9.99% examples, 384281 words/s, in_qsize 15, out_qsize 0\n",
            "2020-11-09 18:40:14,799 : INFO : EPOCH 9 - PROGRESS: at 15.08% examples, 391174 words/s, in_qsize 15, out_qsize 0\n",
            "2020-11-09 18:40:15,792 : INFO : EPOCH 9 - PROGRESS: at 20.48% examples, 403669 words/s, in_qsize 15, out_qsize 0\n",
            "2020-11-09 18:40:16,801 : INFO : EPOCH 9 - PROGRESS: at 25.48% examples, 404164 words/s, in_qsize 15, out_qsize 0\n",
            "2020-11-09 18:40:17,859 : INFO : EPOCH 9 - PROGRESS: at 30.24% examples, 398467 words/s, in_qsize 15, out_qsize 0\n",
            "2020-11-09 18:40:18,881 : INFO : EPOCH 9 - PROGRESS: at 35.32% examples, 400014 words/s, in_qsize 15, out_qsize 0\n",
            "2020-11-09 18:40:19,891 : INFO : EPOCH 9 - PROGRESS: at 40.40% examples, 401772 words/s, in_qsize 15, out_qsize 0\n",
            "2020-11-09 18:40:20,907 : INFO : EPOCH 9 - PROGRESS: at 45.37% examples, 401925 words/s, in_qsize 15, out_qsize 0\n",
            "2020-11-09 18:40:21,954 : INFO : EPOCH 9 - PROGRESS: at 50.56% examples, 402624 words/s, in_qsize 15, out_qsize 0\n",
            "2020-11-09 18:40:23,007 : INFO : EPOCH 9 - PROGRESS: at 55.64% examples, 402206 words/s, in_qsize 15, out_qsize 0\n",
            "2020-11-09 18:40:24,008 : INFO : EPOCH 9 - PROGRESS: at 60.85% examples, 404227 words/s, in_qsize 15, out_qsize 0\n",
            "2020-11-09 18:40:25,038 : INFO : EPOCH 9 - PROGRESS: at 65.93% examples, 404362 words/s, in_qsize 16, out_qsize 0\n",
            "2020-11-09 18:40:26,054 : INFO : EPOCH 9 - PROGRESS: at 70.91% examples, 404283 words/s, in_qsize 15, out_qsize 0\n",
            "2020-11-09 18:40:27,079 : INFO : EPOCH 9 - PROGRESS: at 75.89% examples, 404444 words/s, in_qsize 15, out_qsize 1\n",
            "2020-11-09 18:40:28,076 : INFO : EPOCH 9 - PROGRESS: at 80.80% examples, 403878 words/s, in_qsize 13, out_qsize 2\n",
            "2020-11-09 18:40:29,084 : INFO : EPOCH 9 - PROGRESS: at 86.10% examples, 405579 words/s, in_qsize 16, out_qsize 0\n",
            "2020-11-09 18:40:30,122 : INFO : EPOCH 9 - PROGRESS: at 91.09% examples, 404904 words/s, in_qsize 14, out_qsize 1\n",
            "2020-11-09 18:40:31,127 : INFO : EPOCH 9 - PROGRESS: at 96.21% examples, 405492 words/s, in_qsize 15, out_qsize 0\n",
            "2020-11-09 18:40:31,683 : INFO : worker thread finished; awaiting finish of 7 more threads\n",
            "2020-11-09 18:40:31,734 : INFO : worker thread finished; awaiting finish of 6 more threads\n",
            "2020-11-09 18:40:31,764 : INFO : worker thread finished; awaiting finish of 5 more threads\n",
            "2020-11-09 18:40:31,786 : INFO : worker thread finished; awaiting finish of 4 more threads\n",
            "2020-11-09 18:40:31,787 : INFO : worker thread finished; awaiting finish of 3 more threads\n",
            "2020-11-09 18:40:31,790 : INFO : worker thread finished; awaiting finish of 2 more threads\n",
            "2020-11-09 18:40:31,799 : INFO : worker thread finished; awaiting finish of 1 more threads\n",
            "2020-11-09 18:40:31,802 : INFO : worker thread finished; awaiting finish of 0 more threads\n",
            "2020-11-09 18:40:31,803 : INFO : EPOCH - 9 : training on 9227204 raw words (8222086 effective words) took 20.2s, 407399 effective words/s\n",
            "2020-11-09 18:40:32,820 : INFO : EPOCH 10 - PROGRESS: at 4.34% examples, 354199 words/s, in_qsize 14, out_qsize 1\n",
            "2020-11-09 18:40:33,835 : INFO : EPOCH 10 - PROGRESS: at 9.23% examples, 377014 words/s, in_qsize 14, out_qsize 4\n",
            "2020-11-09 18:40:34,890 : INFO : EPOCH 10 - PROGRESS: at 14.33% examples, 382244 words/s, in_qsize 13, out_qsize 2\n",
            "2020-11-09 18:40:35,933 : INFO : EPOCH 10 - PROGRESS: at 19.51% examples, 389293 words/s, in_qsize 16, out_qsize 1\n",
            "2020-11-09 18:40:36,955 : INFO : EPOCH 10 - PROGRESS: at 24.39% examples, 389962 words/s, in_qsize 12, out_qsize 6\n",
            "2020-11-09 18:40:37,985 : INFO : EPOCH 10 - PROGRESS: at 29.70% examples, 395638 words/s, in_qsize 14, out_qsize 1\n",
            "2020-11-09 18:40:38,993 : INFO : EPOCH 10 - PROGRESS: at 34.68% examples, 397136 words/s, in_qsize 16, out_qsize 0\n",
            "2020-11-09 18:40:40,015 : INFO : EPOCH 10 - PROGRESS: at 39.76% examples, 398712 words/s, in_qsize 14, out_qsize 1\n",
            "2020-11-09 18:40:41,032 : INFO : EPOCH 10 - PROGRESS: at 45.05% examples, 402022 words/s, in_qsize 15, out_qsize 0\n",
            "2020-11-09 18:40:42,118 : INFO : EPOCH 10 - PROGRESS: at 50.24% examples, 401164 words/s, in_qsize 15, out_qsize 0\n",
            "2020-11-09 18:40:43,138 : INFO : EPOCH 10 - PROGRESS: at 55.32% examples, 402046 words/s, in_qsize 15, out_qsize 0\n",
            "2020-11-09 18:40:44,172 : INFO : EPOCH 10 - PROGRESS: at 60.30% examples, 401559 words/s, in_qsize 15, out_qsize 0\n",
            "2020-11-09 18:40:45,221 : INFO : EPOCH 10 - PROGRESS: at 65.39% examples, 401379 words/s, in_qsize 15, out_qsize 0\n",
            "2020-11-09 18:40:46,235 : INFO : EPOCH 10 - PROGRESS: at 70.59% examples, 402793 words/s, in_qsize 16, out_qsize 0\n",
            "2020-11-09 18:40:47,295 : INFO : EPOCH 10 - PROGRESS: at 75.78% examples, 402816 words/s, in_qsize 14, out_qsize 1\n",
            "2020-11-09 18:40:48,336 : INFO : EPOCH 10 - PROGRESS: at 80.90% examples, 402782 words/s, in_qsize 15, out_qsize 0\n",
            "2020-11-09 18:40:49,349 : INFO : EPOCH 10 - PROGRESS: at 85.99% examples, 403364 words/s, in_qsize 16, out_qsize 0\n",
            "2020-11-09 18:40:50,413 : INFO : EPOCH 10 - PROGRESS: at 91.20% examples, 403277 words/s, in_qsize 15, out_qsize 0\n",
            "2020-11-09 18:40:51,437 : INFO : EPOCH 10 - PROGRESS: at 96.31% examples, 403561 words/s, in_qsize 15, out_qsize 0\n",
            "2020-11-09 18:40:51,936 : INFO : worker thread finished; awaiting finish of 7 more threads\n",
            "2020-11-09 18:40:51,958 : INFO : worker thread finished; awaiting finish of 6 more threads\n",
            "2020-11-09 18:40:51,974 : INFO : worker thread finished; awaiting finish of 5 more threads\n",
            "2020-11-09 18:40:52,021 : INFO : worker thread finished; awaiting finish of 4 more threads\n",
            "2020-11-09 18:40:52,025 : INFO : worker thread finished; awaiting finish of 3 more threads\n",
            "2020-11-09 18:40:52,036 : INFO : worker thread finished; awaiting finish of 2 more threads\n",
            "2020-11-09 18:40:52,043 : INFO : worker thread finished; awaiting finish of 1 more threads\n",
            "2020-11-09 18:40:52,053 : INFO : worker thread finished; awaiting finish of 0 more threads\n",
            "2020-11-09 18:40:52,054 : INFO : EPOCH - 10 : training on 9227204 raw words (8222820 effective words) took 20.2s, 406262 effective words/s\n",
            "2020-11-09 18:40:53,071 : INFO : EPOCH 11 - PROGRESS: at 4.45% examples, 363509 words/s, in_qsize 15, out_qsize 0\n",
            "2020-11-09 18:40:54,097 : INFO : EPOCH 11 - PROGRESS: at 9.66% examples, 390548 words/s, in_qsize 15, out_qsize 0\n",
            "2020-11-09 18:40:55,106 : INFO : EPOCH 11 - PROGRESS: at 14.43% examples, 389803 words/s, in_qsize 15, out_qsize 0\n",
            "2020-11-09 18:40:56,232 : INFO : EPOCH 11 - PROGRESS: at 19.62% examples, 387098 words/s, in_qsize 12, out_qsize 6\n",
            "2020-11-09 18:40:57,261 : INFO : EPOCH 11 - PROGRESS: at 25.04% examples, 396214 words/s, in_qsize 15, out_qsize 0\n",
            "2020-11-09 18:40:58,313 : INFO : EPOCH 11 - PROGRESS: at 30.24% examples, 397928 words/s, in_qsize 15, out_qsize 0\n",
            "2020-11-09 18:40:59,315 : INFO : EPOCH 11 - PROGRESS: at 35.32% examples, 400706 words/s, in_qsize 16, out_qsize 0\n",
            "2020-11-09 18:41:00,346 : INFO : EPOCH 11 - PROGRESS: at 40.51% examples, 402435 words/s, in_qsize 15, out_qsize 0\n",
            "2020-11-09 18:41:01,354 : INFO : EPOCH 11 - PROGRESS: at 45.60% examples, 403828 words/s, in_qsize 12, out_qsize 0\n",
            "2020-11-09 18:41:02,408 : INFO : EPOCH 11 - PROGRESS: at 50.35% examples, 400631 words/s, in_qsize 12, out_qsize 3\n",
            "2020-11-09 18:41:03,424 : INFO : EPOCH 11 - PROGRESS: at 55.53% examples, 402447 words/s, in_qsize 15, out_qsize 0\n",
            "2020-11-09 18:41:04,445 : INFO : EPOCH 11 - PROGRESS: at 60.52% examples, 402375 words/s, in_qsize 15, out_qsize 0\n",
            "2020-11-09 18:41:05,500 : INFO : EPOCH 11 - PROGRESS: at 65.61% examples, 401939 words/s, in_qsize 15, out_qsize 1\n",
            "2020-11-09 18:41:06,552 : INFO : EPOCH 11 - PROGRESS: at 71.13% examples, 404102 words/s, in_qsize 15, out_qsize 0\n",
            "2020-11-09 18:41:07,631 : INFO : EPOCH 11 - PROGRESS: at 76.33% examples, 403534 words/s, in_qsize 15, out_qsize 0\n",
            "2020-11-09 18:41:08,648 : INFO : EPOCH 11 - PROGRESS: at 81.66% examples, 405108 words/s, in_qsize 15, out_qsize 0\n",
            "2020-11-09 18:41:09,706 : INFO : EPOCH 11 - PROGRESS: at 86.10% examples, 401511 words/s, in_qsize 16, out_qsize 5\n",
            "2020-11-09 18:41:10,741 : INFO : EPOCH 11 - PROGRESS: at 91.63% examples, 403561 words/s, in_qsize 16, out_qsize 2\n",
            "2020-11-09 18:41:11,782 : INFO : EPOCH 11 - PROGRESS: at 96.53% examples, 402584 words/s, in_qsize 15, out_qsize 1\n",
            "2020-11-09 18:41:12,257 : INFO : worker thread finished; awaiting finish of 7 more threads\n",
            "2020-11-09 18:41:12,271 : INFO : worker thread finished; awaiting finish of 6 more threads\n",
            "2020-11-09 18:41:12,310 : INFO : worker thread finished; awaiting finish of 5 more threads\n",
            "2020-11-09 18:41:12,321 : INFO : worker thread finished; awaiting finish of 4 more threads\n",
            "2020-11-09 18:41:12,325 : INFO : worker thread finished; awaiting finish of 3 more threads\n",
            "2020-11-09 18:41:12,335 : INFO : worker thread finished; awaiting finish of 2 more threads\n",
            "2020-11-09 18:41:12,338 : INFO : worker thread finished; awaiting finish of 1 more threads\n",
            "2020-11-09 18:41:12,345 : INFO : worker thread finished; awaiting finish of 0 more threads\n",
            "2020-11-09 18:41:12,345 : INFO : EPOCH - 11 : training on 9227204 raw words (8223314 effective words) took 20.3s, 405510 effective words/s\n",
            "2020-11-09 18:41:13,364 : INFO : EPOCH 12 - PROGRESS: at 4.34% examples, 353579 words/s, in_qsize 15, out_qsize 0\n",
            "2020-11-09 18:41:14,369 : INFO : EPOCH 12 - PROGRESS: at 9.34% examples, 380646 words/s, in_qsize 16, out_qsize 1\n",
            "2020-11-09 18:41:15,385 : INFO : EPOCH 12 - PROGRESS: at 14.65% examples, 397080 words/s, in_qsize 15, out_qsize 0\n",
            "2020-11-09 18:41:16,397 : INFO : EPOCH 12 - PROGRESS: at 19.30% examples, 392315 words/s, in_qsize 13, out_qsize 4\n",
            "2020-11-09 18:41:17,450 : INFO : EPOCH 12 - PROGRESS: at 24.06% examples, 388223 words/s, in_qsize 9, out_qsize 6\n",
            "2020-11-09 18:41:18,501 : INFO : EPOCH 12 - PROGRESS: at 29.59% examples, 395788 words/s, in_qsize 15, out_qsize 0\n",
            "2020-11-09 18:41:19,558 : INFO : EPOCH 12 - PROGRESS: at 34.78% examples, 397039 words/s, in_qsize 15, out_qsize 0\n",
            "2020-11-09 18:41:20,576 : INFO : EPOCH 12 - PROGRESS: at 39.86% examples, 398796 words/s, in_qsize 15, out_qsize 0\n",
            "2020-11-09 18:41:21,597 : INFO : EPOCH 12 - PROGRESS: at 45.16% examples, 401972 words/s, in_qsize 15, out_qsize 0\n",
            "2020-11-09 18:41:22,603 : INFO : EPOCH 12 - PROGRESS: at 50.02% examples, 401659 words/s, in_qsize 16, out_qsize 1\n",
            "2020-11-09 18:41:23,633 : INFO : EPOCH 12 - PROGRESS: at 54.56% examples, 398147 words/s, in_qsize 15, out_qsize 0\n",
            "2020-11-09 18:41:24,672 : INFO : EPOCH 12 - PROGRESS: at 59.44% examples, 397137 words/s, in_qsize 15, out_qsize 0\n",
            "2020-11-09 18:41:25,715 : INFO : EPOCH 12 - PROGRESS: at 64.73% examples, 398782 words/s, in_qsize 15, out_qsize 0\n",
            "2020-11-09 18:41:26,767 : INFO : EPOCH 12 - PROGRESS: at 69.72% examples, 398543 words/s, in_qsize 15, out_qsize 0\n",
            "2020-11-09 18:41:27,830 : INFO : EPOCH 12 - PROGRESS: at 74.92% examples, 398384 words/s, in_qsize 16, out_qsize 0\n",
            "2020-11-09 18:41:28,859 : INFO : EPOCH 12 - PROGRESS: at 79.92% examples, 398381 words/s, in_qsize 13, out_qsize 1\n",
            "2020-11-09 18:41:29,877 : INFO : EPOCH 12 - PROGRESS: at 84.80% examples, 398125 words/s, in_qsize 16, out_qsize 0\n",
            "2020-11-09 18:41:30,895 : INFO : EPOCH 12 - PROGRESS: at 89.89% examples, 399150 words/s, in_qsize 15, out_qsize 0\n",
            "2020-11-09 18:41:31,890 : INFO : EPOCH 12 - PROGRESS: at 95.12% examples, 400394 words/s, in_qsize 16, out_qsize 0\n",
            "2020-11-09 18:41:32,739 : INFO : worker thread finished; awaiting finish of 7 more threads\n",
            "2020-11-09 18:41:32,767 : INFO : worker thread finished; awaiting finish of 6 more threads\n",
            "2020-11-09 18:41:32,789 : INFO : worker thread finished; awaiting finish of 5 more threads\n",
            "2020-11-09 18:41:32,837 : INFO : worker thread finished; awaiting finish of 4 more threads\n",
            "2020-11-09 18:41:32,841 : INFO : worker thread finished; awaiting finish of 3 more threads\n",
            "2020-11-09 18:41:32,855 : INFO : worker thread finished; awaiting finish of 2 more threads\n",
            "2020-11-09 18:41:32,865 : INFO : worker thread finished; awaiting finish of 1 more threads\n",
            "2020-11-09 18:41:32,872 : INFO : worker thread finished; awaiting finish of 0 more threads\n",
            "2020-11-09 18:41:32,873 : INFO : EPOCH - 12 : training on 9227204 raw words (8222819 effective words) took 20.5s, 400805 effective words/s\n",
            "2020-11-09 18:41:33,960 : INFO : EPOCH 13 - PROGRESS: at 4.67% examples, 358876 words/s, in_qsize 14, out_qsize 1\n",
            "2020-11-09 18:41:35,007 : INFO : EPOCH 13 - PROGRESS: at 9.66% examples, 375179 words/s, in_qsize 13, out_qsize 3\n",
            "2020-11-09 18:41:36,041 : INFO : EPOCH 13 - PROGRESS: at 14.97% examples, 393453 words/s, in_qsize 15, out_qsize 1\n",
            "2020-11-09 18:41:37,078 : INFO : EPOCH 13 - PROGRESS: at 19.62% examples, 385199 words/s, in_qsize 15, out_qsize 5\n",
            "2020-11-09 18:41:38,149 : INFO : EPOCH 13 - PROGRESS: at 25.37% examples, 396572 words/s, in_qsize 16, out_qsize 0\n",
            "2020-11-09 18:41:39,185 : INFO : EPOCH 13 - PROGRESS: at 30.24% examples, 394971 words/s, in_qsize 16, out_qsize 1\n",
            "2020-11-09 18:41:40,211 : INFO : EPOCH 13 - PROGRESS: at 35.21% examples, 395567 words/s, in_qsize 16, out_qsize 0\n",
            "2020-11-09 18:41:41,217 : INFO : EPOCH 13 - PROGRESS: at 40.29% examples, 398067 words/s, in_qsize 16, out_qsize 0\n",
            "2020-11-09 18:41:42,288 : INFO : EPOCH 13 - PROGRESS: at 45.48% examples, 398221 words/s, in_qsize 15, out_qsize 0\n",
            "2020-11-09 18:41:43,338 : INFO : EPOCH 13 - PROGRESS: at 50.56% examples, 398252 words/s, in_qsize 15, out_qsize 0\n",
            "2020-11-09 18:41:44,355 : INFO : EPOCH 13 - PROGRESS: at 55.64% examples, 399471 words/s, in_qsize 16, out_qsize 1\n",
            "2020-11-09 18:41:45,373 : INFO : EPOCH 13 - PROGRESS: at 60.85% examples, 401153 words/s, in_qsize 15, out_qsize 3\n",
            "2020-11-09 18:41:46,406 : INFO : EPOCH 13 - PROGRESS: at 66.04% examples, 402104 words/s, in_qsize 15, out_qsize 1\n",
            "2020-11-09 18:41:47,420 : INFO : EPOCH 13 - PROGRESS: at 71.13% examples, 402835 words/s, in_qsize 13, out_qsize 0\n",
            "2020-11-09 18:41:48,452 : INFO : EPOCH 13 - PROGRESS: at 75.89% examples, 401306 words/s, in_qsize 15, out_qsize 0\n",
            "2020-11-09 18:41:49,453 : INFO : EPOCH 13 - PROGRESS: at 81.01% examples, 402327 words/s, in_qsize 15, out_qsize 0\n",
            "2020-11-09 18:41:50,524 : INFO : EPOCH 13 - PROGRESS: at 86.10% examples, 401605 words/s, in_qsize 15, out_qsize 0\n",
            "2020-11-09 18:41:51,538 : INFO : EPOCH 13 - PROGRESS: at 91.31% examples, 402692 words/s, in_qsize 15, out_qsize 0\n",
            "2020-11-09 18:41:52,549 : INFO : EPOCH 13 - PROGRESS: at 95.88% examples, 400994 words/s, in_qsize 13, out_qsize 2\n",
            "2020-11-09 18:41:53,159 : INFO : worker thread finished; awaiting finish of 7 more threads\n",
            "2020-11-09 18:41:53,184 : INFO : worker thread finished; awaiting finish of 6 more threads\n",
            "2020-11-09 18:41:53,188 : INFO : worker thread finished; awaiting finish of 5 more threads\n",
            "2020-11-09 18:41:53,196 : INFO : worker thread finished; awaiting finish of 4 more threads\n",
            "2020-11-09 18:41:53,216 : INFO : worker thread finished; awaiting finish of 3 more threads\n",
            "2020-11-09 18:41:53,246 : INFO : worker thread finished; awaiting finish of 2 more threads\n",
            "2020-11-09 18:41:53,256 : INFO : worker thread finished; awaiting finish of 1 more threads\n",
            "2020-11-09 18:41:53,269 : INFO : worker thread finished; awaiting finish of 0 more threads\n",
            "2020-11-09 18:41:53,270 : INFO : EPOCH - 13 : training on 9227204 raw words (8221768 effective words) took 20.4s, 403477 effective words/s\n",
            "2020-11-09 18:41:54,338 : INFO : EPOCH 14 - PROGRESS: at 4.45% examples, 345667 words/s, in_qsize 14, out_qsize 2\n",
            "2020-11-09 18:41:55,363 : INFO : EPOCH 14 - PROGRESS: at 9.66% examples, 381071 words/s, in_qsize 15, out_qsize 0\n",
            "2020-11-09 18:41:56,413 : INFO : EPOCH 14 - PROGRESS: at 15.08% examples, 395429 words/s, in_qsize 15, out_qsize 0\n",
            "2020-11-09 18:41:57,488 : INFO : EPOCH 14 - PROGRESS: at 20.16% examples, 393871 words/s, in_qsize 15, out_qsize 0\n",
            "2020-11-09 18:41:58,540 : INFO : EPOCH 14 - PROGRESS: at 25.48% examples, 398174 words/s, in_qsize 15, out_qsize 0\n",
            "2020-11-09 18:41:59,548 : INFO : EPOCH 14 - PROGRESS: at 30.56% examples, 401007 words/s, in_qsize 16, out_qsize 0\n",
            "2020-11-09 18:42:00,554 : INFO : EPOCH 14 - PROGRESS: at 35.53% examples, 401842 words/s, in_qsize 15, out_qsize 0\n",
            "2020-11-09 18:42:01,560 : INFO : EPOCH 14 - PROGRESS: at 40.40% examples, 401426 words/s, in_qsize 15, out_qsize 0\n",
            "2020-11-09 18:42:02,636 : INFO : EPOCH 14 - PROGRESS: at 45.70% examples, 401909 words/s, in_qsize 15, out_qsize 0\n",
            "2020-11-09 18:42:03,750 : INFO : EPOCH 14 - PROGRESS: at 51.10% examples, 401676 words/s, in_qsize 15, out_qsize 0\n",
            "2020-11-09 18:42:04,859 : INFO : EPOCH 14 - PROGRESS: at 56.40% examples, 400968 words/s, in_qsize 15, out_qsize 0\n",
            "2020-11-09 18:42:05,867 : INFO : EPOCH 14 - PROGRESS: at 61.93% examples, 404939 words/s, in_qsize 12, out_qsize 0\n",
            "2020-11-09 18:42:06,871 : INFO : EPOCH 14 - PROGRESS: at 66.69% examples, 403852 words/s, in_qsize 16, out_qsize 0\n",
            "2020-11-09 18:42:07,877 : INFO : EPOCH 14 - PROGRESS: at 71.45% examples, 402865 words/s, in_qsize 14, out_qsize 1\n",
            "2020-11-09 18:42:08,883 : INFO : EPOCH 14 - PROGRESS: at 76.66% examples, 404282 words/s, in_qsize 15, out_qsize 2\n",
            "2020-11-09 18:42:10,022 : INFO : EPOCH 14 - PROGRESS: at 82.10% examples, 403397 words/s, in_qsize 14, out_qsize 1\n",
            "2020-11-09 18:42:11,099 : INFO : EPOCH 14 - PROGRESS: at 87.40% examples, 403514 words/s, in_qsize 11, out_qsize 4\n",
            "2020-11-09 18:42:12,106 : INFO : EPOCH 14 - PROGRESS: at 92.61% examples, 404614 words/s, in_qsize 16, out_qsize 0\n",
            "2020-11-09 18:42:13,107 : INFO : EPOCH 14 - PROGRESS: at 97.61% examples, 404843 words/s, in_qsize 15, out_qsize 0\n",
            "2020-11-09 18:42:13,358 : INFO : worker thread finished; awaiting finish of 7 more threads\n",
            "2020-11-09 18:42:13,383 : INFO : worker thread finished; awaiting finish of 6 more threads\n",
            "2020-11-09 18:42:13,433 : INFO : worker thread finished; awaiting finish of 5 more threads\n",
            "2020-11-09 18:42:13,451 : INFO : worker thread finished; awaiting finish of 4 more threads\n",
            "2020-11-09 18:42:13,459 : INFO : worker thread finished; awaiting finish of 3 more threads\n",
            "2020-11-09 18:42:13,467 : INFO : worker thread finished; awaiting finish of 2 more threads\n",
            "2020-11-09 18:42:13,474 : INFO : worker thread finished; awaiting finish of 1 more threads\n",
            "2020-11-09 18:42:13,480 : INFO : worker thread finished; awaiting finish of 0 more threads\n",
            "2020-11-09 18:42:13,481 : INFO : EPOCH - 14 : training on 9227204 raw words (8223272 effective words) took 20.2s, 407104 effective words/s\n",
            "2020-11-09 18:42:14,511 : INFO : EPOCH 15 - PROGRESS: at 4.56% examples, 367314 words/s, in_qsize 12, out_qsize 3\n",
            "2020-11-09 18:42:15,564 : INFO : EPOCH 15 - PROGRESS: at 9.45% examples, 374239 words/s, in_qsize 14, out_qsize 4\n",
            "2020-11-09 18:42:16,620 : INFO : EPOCH 15 - PROGRESS: at 14.86% examples, 390256 words/s, in_qsize 15, out_qsize 0\n",
            "2020-11-09 18:42:17,624 : INFO : EPOCH 15 - PROGRESS: at 20.05% examples, 398839 words/s, in_qsize 15, out_qsize 0\n",
            "2020-11-09 18:42:18,638 : INFO : EPOCH 15 - PROGRESS: at 25.15% examples, 401685 words/s, in_qsize 15, out_qsize 0\n",
            "2020-11-09 18:42:19,666 : INFO : EPOCH 15 - PROGRESS: at 30.35% examples, 404071 words/s, in_qsize 16, out_qsize 0\n",
            "2020-11-09 18:42:20,679 : INFO : EPOCH 15 - PROGRESS: at 35.21% examples, 402856 words/s, in_qsize 14, out_qsize 1\n",
            "2020-11-09 18:42:21,712 : INFO : EPOCH 15 - PROGRESS: at 40.29% examples, 404355 words/s, in_qsize 14, out_qsize 2\n",
            "2020-11-09 18:42:22,887 : INFO : EPOCH 15 - PROGRESS: at 45.70% examples, 401402 words/s, in_qsize 15, out_qsize 5\n",
            "2020-11-09 18:42:23,874 : INFO : EPOCH 15 - PROGRESS: at 51.10% examples, 405110 words/s, in_qsize 14, out_qsize 1\n",
            "2020-11-09 18:42:24,883 : INFO : EPOCH 15 - PROGRESS: at 56.18% examples, 405977 words/s, in_qsize 15, out_qsize 0\n",
            "2020-11-09 18:42:25,890 : INFO : EPOCH 15 - PROGRESS: at 60.96% examples, 404600 words/s, in_qsize 15, out_qsize 0\n",
            "2020-11-09 18:42:26,908 : INFO : EPOCH 15 - PROGRESS: at 65.93% examples, 404423 words/s, in_qsize 15, out_qsize 0\n",
            "2020-11-09 18:42:27,923 : INFO : EPOCH 15 - PROGRESS: at 70.70% examples, 403138 words/s, in_qsize 11, out_qsize 4\n",
            "2020-11-09 18:42:28,930 : INFO : EPOCH 15 - PROGRESS: at 76.11% examples, 405676 words/s, in_qsize 14, out_qsize 0\n",
            "2020-11-09 18:42:29,974 : INFO : EPOCH 15 - PROGRESS: at 81.12% examples, 404837 words/s, in_qsize 13, out_qsize 2\n",
            "2020-11-09 18:42:30,995 : INFO : EPOCH 15 - PROGRESS: at 86.09% examples, 404628 words/s, in_qsize 16, out_qsize 1\n",
            "2020-11-09 18:42:32,015 : INFO : EPOCH 15 - PROGRESS: at 91.31% examples, 405425 words/s, in_qsize 15, out_qsize 0\n",
            "2020-11-09 18:42:33,080 : INFO : EPOCH 15 - PROGRESS: at 96.53% examples, 405204 words/s, in_qsize 15, out_qsize 0\n",
            "2020-11-09 18:42:33,562 : INFO : worker thread finished; awaiting finish of 7 more threads\n",
            "2020-11-09 18:42:33,614 : INFO : worker thread finished; awaiting finish of 6 more threads\n",
            "2020-11-09 18:42:33,655 : INFO : worker thread finished; awaiting finish of 5 more threads\n",
            "2020-11-09 18:42:33,661 : INFO : worker thread finished; awaiting finish of 4 more threads\n",
            "2020-11-09 18:42:33,674 : INFO : worker thread finished; awaiting finish of 3 more threads\n",
            "2020-11-09 18:42:33,680 : INFO : worker thread finished; awaiting finish of 2 more threads\n",
            "2020-11-09 18:42:33,694 : INFO : worker thread finished; awaiting finish of 1 more threads\n",
            "2020-11-09 18:42:33,697 : INFO : worker thread finished; awaiting finish of 0 more threads\n",
            "2020-11-09 18:42:33,698 : INFO : EPOCH - 15 : training on 9227204 raw words (8222725 effective words) took 20.2s, 406965 effective words/s\n",
            "2020-11-09 18:42:34,739 : INFO : EPOCH 16 - PROGRESS: at 4.34% examples, 354470 words/s, in_qsize 15, out_qsize 0\n",
            "2020-11-09 18:42:35,832 : INFO : EPOCH 16 - PROGRESS: at 9.66% examples, 373585 words/s, in_qsize 16, out_qsize 0\n",
            "2020-11-09 18:42:36,866 : INFO : EPOCH 16 - PROGRESS: at 14.86% examples, 386470 words/s, in_qsize 15, out_qsize 0\n",
            "2020-11-09 18:42:37,876 : INFO : EPOCH 16 - PROGRESS: at 19.62% examples, 387070 words/s, in_qsize 15, out_qsize 2\n",
            "2020-11-09 18:42:38,874 : INFO : EPOCH 16 - PROGRESS: at 24.39% examples, 388065 words/s, in_qsize 15, out_qsize 0\n",
            "2020-11-09 18:42:39,911 : INFO : EPOCH 16 - PROGRESS: at 29.48% examples, 390686 words/s, in_qsize 15, out_qsize 0\n",
            "2020-11-09 18:42:40,952 : INFO : EPOCH 16 - PROGRESS: at 34.57% examples, 392408 words/s, in_qsize 15, out_qsize 0\n",
            "2020-11-09 18:42:41,968 : INFO : EPOCH 16 - PROGRESS: at 39.43% examples, 392669 words/s, in_qsize 14, out_qsize 2\n",
            "2020-11-09 18:42:42,996 : INFO : EPOCH 16 - PROGRESS: at 44.62% examples, 395220 words/s, in_qsize 15, out_qsize 0\n",
            "2020-11-09 18:42:44,042 : INFO : EPOCH 16 - PROGRESS: at 49.49% examples, 394072 words/s, in_qsize 15, out_qsize 0\n",
            "2020-11-09 18:42:45,088 : INFO : EPOCH 16 - PROGRESS: at 54.57% examples, 395682 words/s, in_qsize 15, out_qsize 0\n",
            "2020-11-09 18:42:46,069 : INFO : EPOCH 16 - PROGRESS: at 59.55% examples, 396517 words/s, in_qsize 13, out_qsize 2\n",
            "2020-11-09 18:42:47,126 : INFO : EPOCH 16 - PROGRESS: at 64.40% examples, 395154 words/s, in_qsize 15, out_qsize 0\n",
            "2020-11-09 18:42:48,162 : INFO : EPOCH 16 - PROGRESS: at 69.61% examples, 396431 words/s, in_qsize 15, out_qsize 0\n",
            "2020-11-09 18:42:49,238 : INFO : EPOCH 16 - PROGRESS: at 74.92% examples, 397047 words/s, in_qsize 15, out_qsize 0\n",
            "2020-11-09 18:42:50,266 : INFO : EPOCH 16 - PROGRESS: at 79.92% examples, 397134 words/s, in_qsize 15, out_qsize 3\n",
            "2020-11-09 18:42:51,304 : INFO : EPOCH 16 - PROGRESS: at 85.23% examples, 398504 words/s, in_qsize 15, out_qsize 0\n",
            "2020-11-09 18:42:52,354 : INFO : EPOCH 16 - PROGRESS: at 90.43% examples, 398992 words/s, in_qsize 15, out_qsize 0\n",
            "2020-11-09 18:42:53,398 : INFO : EPOCH 16 - PROGRESS: at 95.55% examples, 399084 words/s, in_qsize 15, out_qsize 0\n",
            "2020-11-09 18:42:54,122 : INFO : worker thread finished; awaiting finish of 7 more threads\n",
            "2020-11-09 18:42:54,131 : INFO : worker thread finished; awaiting finish of 6 more threads\n",
            "2020-11-09 18:42:54,137 : INFO : worker thread finished; awaiting finish of 5 more threads\n",
            "2020-11-09 18:42:54,138 : INFO : worker thread finished; awaiting finish of 4 more threads\n",
            "2020-11-09 18:42:54,181 : INFO : worker thread finished; awaiting finish of 3 more threads\n",
            "2020-11-09 18:42:54,185 : INFO : worker thread finished; awaiting finish of 2 more threads\n",
            "2020-11-09 18:42:54,187 : INFO : worker thread finished; awaiting finish of 1 more threads\n",
            "2020-11-09 18:42:54,191 : INFO : worker thread finished; awaiting finish of 0 more threads\n",
            "2020-11-09 18:42:54,193 : INFO : EPOCH - 16 : training on 9227204 raw words (8223684 effective words) took 20.5s, 401480 effective words/s\n",
            "2020-11-09 18:42:55,232 : INFO : EPOCH 17 - PROGRESS: at 4.45% examples, 354655 words/s, in_qsize 15, out_qsize 0\n",
            "2020-11-09 18:42:56,252 : INFO : EPOCH 17 - PROGRESS: at 9.34% examples, 373758 words/s, in_qsize 15, out_qsize 0\n",
            "2020-11-09 18:42:57,314 : INFO : EPOCH 17 - PROGRESS: at 14.54% examples, 386498 words/s, in_qsize 15, out_qsize 2\n",
            "2020-11-09 18:42:58,341 : INFO : EPOCH 17 - PROGRESS: at 19.51% examples, 387421 words/s, in_qsize 14, out_qsize 6\n",
            "2020-11-09 18:42:59,387 : INFO : EPOCH 17 - PROGRESS: at 25.04% examples, 396941 words/s, in_qsize 15, out_qsize 0\n",
            "2020-11-09 18:43:00,472 : INFO : EPOCH 17 - PROGRESS: at 30.35% examples, 397910 words/s, in_qsize 14, out_qsize 1\n",
            "2020-11-09 18:43:01,554 : INFO : EPOCH 17 - PROGRESS: at 35.65% examples, 398708 words/s, in_qsize 15, out_qsize 0\n",
            "2020-11-09 18:43:02,627 : INFO : EPOCH 17 - PROGRESS: at 40.83% examples, 398674 words/s, in_qsize 15, out_qsize 0\n",
            "2020-11-09 18:43:03,768 : INFO : EPOCH 17 - PROGRESS: at 46.46% examples, 399532 words/s, in_qsize 15, out_qsize 0\n",
            "2020-11-09 18:43:04,777 : INFO : EPOCH 17 - PROGRESS: at 51.54% examples, 401033 words/s, in_qsize 15, out_qsize 0\n",
            "2020-11-09 18:43:05,834 : INFO : EPOCH 17 - PROGRESS: at 56.73% examples, 401374 words/s, in_qsize 15, out_qsize 0\n",
            "2020-11-09 18:43:06,867 : INFO : EPOCH 17 - PROGRESS: at 61.71% examples, 400993 words/s, in_qsize 15, out_qsize 0\n",
            "2020-11-09 18:43:07,932 : INFO : EPOCH 17 - PROGRESS: at 66.91% examples, 401004 words/s, in_qsize 14, out_qsize 1\n",
            "2020-11-09 18:43:08,948 : INFO : EPOCH 17 - PROGRESS: at 72.32% examples, 403601 words/s, in_qsize 16, out_qsize 0\n",
            "2020-11-09 18:43:09,994 : INFO : EPOCH 17 - PROGRESS: at 77.20% examples, 402242 words/s, in_qsize 15, out_qsize 0\n",
            "2020-11-09 18:43:11,014 : INFO : EPOCH 17 - PROGRESS: at 82.10% examples, 401684 words/s, in_qsize 15, out_qsize 0\n",
            "2020-11-09 18:43:12,067 : INFO : EPOCH 17 - PROGRESS: at 87.18% examples, 401437 words/s, in_qsize 15, out_qsize 2\n",
            "2020-11-09 18:43:13,072 : INFO : EPOCH 17 - PROGRESS: at 92.28% examples, 402217 words/s, in_qsize 15, out_qsize 1\n",
            "2020-11-09 18:43:14,076 : INFO : EPOCH 17 - PROGRESS: at 97.29% examples, 402512 words/s, in_qsize 15, out_qsize 0\n",
            "2020-11-09 18:43:14,462 : INFO : worker thread finished; awaiting finish of 7 more threads\n",
            "2020-11-09 18:43:14,466 : INFO : worker thread finished; awaiting finish of 6 more threads\n",
            "2020-11-09 18:43:14,470 : INFO : worker thread finished; awaiting finish of 5 more threads\n",
            "2020-11-09 18:43:14,472 : INFO : worker thread finished; awaiting finish of 4 more threads\n",
            "2020-11-09 18:43:14,482 : INFO : worker thread finished; awaiting finish of 3 more threads\n",
            "2020-11-09 18:43:14,486 : INFO : worker thread finished; awaiting finish of 2 more threads\n",
            "2020-11-09 18:43:14,492 : INFO : worker thread finished; awaiting finish of 1 more threads\n",
            "2020-11-09 18:43:14,521 : INFO : worker thread finished; awaiting finish of 0 more threads\n",
            "2020-11-09 18:43:14,522 : INFO : EPOCH - 17 : training on 9227204 raw words (8223047 effective words) took 20.3s, 404684 effective words/s\n",
            "2020-11-09 18:43:15,549 : INFO : EPOCH 18 - PROGRESS: at 4.34% examples, 350848 words/s, in_qsize 15, out_qsize 0\n",
            "2020-11-09 18:43:16,604 : INFO : EPOCH 18 - PROGRESS: at 9.45% examples, 374544 words/s, in_qsize 15, out_qsize 0\n",
            "2020-11-09 18:43:17,608 : INFO : EPOCH 18 - PROGRESS: at 14.54% examples, 388380 words/s, in_qsize 15, out_qsize 0\n",
            "2020-11-09 18:43:18,618 : INFO : EPOCH 18 - PROGRESS: at 19.30% examples, 388299 words/s, in_qsize 14, out_qsize 1\n",
            "2020-11-09 18:43:19,650 : INFO : EPOCH 18 - PROGRESS: at 24.28% examples, 390521 words/s, in_qsize 16, out_qsize 4\n",
            "2020-11-09 18:43:20,651 : INFO : EPOCH 18 - PROGRESS: at 29.59% examples, 397615 words/s, in_qsize 15, out_qsize 0\n",
            "2020-11-09 18:43:21,667 : INFO : EPOCH 18 - PROGRESS: at 34.35% examples, 395933 words/s, in_qsize 15, out_qsize 0\n",
            "2020-11-09 18:43:22,707 : INFO : EPOCH 18 - PROGRESS: at 39.65% examples, 398951 words/s, in_qsize 15, out_qsize 0\n",
            "2020-11-09 18:43:23,748 : INFO : EPOCH 18 - PROGRESS: at 44.62% examples, 398314 words/s, in_qsize 15, out_qsize 0\n",
            "2020-11-09 18:43:24,795 : INFO : EPOCH 18 - PROGRESS: at 49.60% examples, 397643 words/s, in_qsize 13, out_qsize 5\n",
            "2020-11-09 18:43:25,818 : INFO : EPOCH 18 - PROGRESS: at 55.32% examples, 403472 words/s, in_qsize 15, out_qsize 0\n",
            "2020-11-09 18:43:26,824 : INFO : EPOCH 18 - PROGRESS: at 60.08% examples, 402355 words/s, in_qsize 15, out_qsize 1\n",
            "2020-11-09 18:43:27,864 : INFO : EPOCH 18 - PROGRESS: at 64.95% examples, 401372 words/s, in_qsize 15, out_qsize 1\n",
            "2020-11-09 18:43:28,946 : INFO : EPOCH 18 - PROGRESS: at 70.16% examples, 400573 words/s, in_qsize 11, out_qsize 4\n",
            "2020-11-09 18:43:29,956 : INFO : EPOCH 18 - PROGRESS: at 75.46% examples, 402644 words/s, in_qsize 14, out_qsize 1\n",
            "2020-11-09 18:43:31,137 : INFO : EPOCH 18 - PROGRESS: at 80.79% examples, 400296 words/s, in_qsize 14, out_qsize 4\n",
            "2020-11-09 18:43:32,165 : INFO : EPOCH 18 - PROGRESS: at 86.21% examples, 402203 words/s, in_qsize 16, out_qsize 0\n",
            "2020-11-09 18:43:33,263 : INFO : EPOCH 18 - PROGRESS: at 91.63% examples, 402387 words/s, in_qsize 16, out_qsize 0\n",
            "2020-11-09 18:43:34,273 : INFO : EPOCH 18 - PROGRESS: at 96.64% examples, 402555 words/s, in_qsize 14, out_qsize 1\n",
            "2020-11-09 18:43:34,718 : INFO : worker thread finished; awaiting finish of 7 more threads\n",
            "2020-11-09 18:43:34,766 : INFO : worker thread finished; awaiting finish of 6 more threads\n",
            "2020-11-09 18:43:34,777 : INFO : worker thread finished; awaiting finish of 5 more threads\n",
            "2020-11-09 18:43:34,800 : INFO : worker thread finished; awaiting finish of 4 more threads\n",
            "2020-11-09 18:43:34,811 : INFO : worker thread finished; awaiting finish of 3 more threads\n",
            "2020-11-09 18:43:34,819 : INFO : worker thread finished; awaiting finish of 2 more threads\n",
            "2020-11-09 18:43:34,821 : INFO : worker thread finished; awaiting finish of 1 more threads\n",
            "2020-11-09 18:43:34,825 : INFO : worker thread finished; awaiting finish of 0 more threads\n",
            "2020-11-09 18:43:34,826 : INFO : EPOCH - 18 : training on 9227204 raw words (8223275 effective words) took 20.3s, 405240 effective words/s\n",
            "2020-11-09 18:43:35,860 : INFO : EPOCH 19 - PROGRESS: at 4.45% examples, 357444 words/s, in_qsize 15, out_qsize 0\n",
            "2020-11-09 18:43:36,912 : INFO : EPOCH 19 - PROGRESS: at 9.45% examples, 373905 words/s, in_qsize 12, out_qsize 3\n",
            "2020-11-09 18:43:37,935 : INFO : EPOCH 19 - PROGRESS: at 14.76% examples, 391344 words/s, in_qsize 15, out_qsize 0\n",
            "2020-11-09 18:43:38,935 : INFO : EPOCH 19 - PROGRESS: at 19.84% examples, 397928 words/s, in_qsize 16, out_qsize 0\n",
            "2020-11-09 18:43:40,009 : INFO : EPOCH 19 - PROGRESS: at 24.94% examples, 396326 words/s, in_qsize 15, out_qsize 0\n",
            "2020-11-09 18:43:41,111 : INFO : EPOCH 19 - PROGRESS: at 30.13% examples, 394931 words/s, in_qsize 12, out_qsize 7\n",
            "2020-11-09 18:43:42,120 : INFO : EPOCH 19 - PROGRESS: at 35.42% examples, 400122 words/s, in_qsize 15, out_qsize 0\n",
            "2020-11-09 18:43:43,133 : INFO : EPOCH 19 - PROGRESS: at 40.40% examples, 400639 words/s, in_qsize 16, out_qsize 0\n",
            "2020-11-09 18:43:44,158 : INFO : EPOCH 19 - PROGRESS: at 45.27% examples, 399594 words/s, in_qsize 16, out_qsize 0\n",
            "2020-11-09 18:43:45,261 : INFO : EPOCH 19 - PROGRESS: at 50.78% examples, 400871 words/s, in_qsize 16, out_qsize 0\n",
            "2020-11-09 18:43:46,283 : INFO : EPOCH 19 - PROGRESS: at 55.64% examples, 400147 words/s, in_qsize 15, out_qsize 0\n",
            "2020-11-09 18:43:47,299 : INFO : EPOCH 19 - PROGRESS: at 60.52% examples, 399823 words/s, in_qsize 15, out_qsize 5\n",
            "2020-11-09 18:43:48,346 : INFO : EPOCH 19 - PROGRESS: at 65.60% examples, 399713 words/s, in_qsize 14, out_qsize 2\n",
            "2020-11-09 18:43:49,417 : INFO : EPOCH 19 - PROGRESS: at 70.91% examples, 400300 words/s, in_qsize 16, out_qsize 1\n",
            "2020-11-09 18:43:50,438 : INFO : EPOCH 19 - PROGRESS: at 76.11% examples, 401477 words/s, in_qsize 15, out_qsize 0\n",
            "2020-11-09 18:43:51,460 : INFO : EPOCH 19 - PROGRESS: at 81.23% examples, 401966 words/s, in_qsize 15, out_qsize 0\n",
            "2020-11-09 18:43:52,498 : INFO : EPOCH 19 - PROGRESS: at 85.88% examples, 400039 words/s, in_qsize 13, out_qsize 2\n",
            "2020-11-09 18:43:53,523 : INFO : EPOCH 19 - PROGRESS: at 90.98% examples, 400499 words/s, in_qsize 15, out_qsize 3\n",
            "2020-11-09 18:43:54,548 : INFO : EPOCH 19 - PROGRESS: at 96.21% examples, 401350 words/s, in_qsize 15, out_qsize 0\n",
            "2020-11-09 18:43:55,158 : INFO : worker thread finished; awaiting finish of 7 more threads\n",
            "2020-11-09 18:43:55,160 : INFO : worker thread finished; awaiting finish of 6 more threads\n",
            "2020-11-09 18:43:55,162 : INFO : worker thread finished; awaiting finish of 5 more threads\n",
            "2020-11-09 18:43:55,163 : INFO : worker thread finished; awaiting finish of 4 more threads\n",
            "2020-11-09 18:43:55,169 : INFO : worker thread finished; awaiting finish of 3 more threads\n",
            "2020-11-09 18:43:55,177 : INFO : worker thread finished; awaiting finish of 2 more threads\n",
            "2020-11-09 18:43:55,194 : INFO : worker thread finished; awaiting finish of 1 more threads\n",
            "2020-11-09 18:43:55,221 : INFO : worker thread finished; awaiting finish of 0 more threads\n",
            "2020-11-09 18:43:55,222 : INFO : EPOCH - 19 : training on 9227204 raw words (8223329 effective words) took 20.4s, 403434 effective words/s\n",
            "2020-11-09 18:43:56,250 : INFO : EPOCH 20 - PROGRESS: at 4.23% examples, 344932 words/s, in_qsize 16, out_qsize 2\n",
            "2020-11-09 18:43:57,245 : INFO : EPOCH 20 - PROGRESS: at 9.34% examples, 380859 words/s, in_qsize 15, out_qsize 0\n",
            "2020-11-09 18:43:58,297 : INFO : EPOCH 20 - PROGRESS: at 14.22% examples, 380778 words/s, in_qsize 15, out_qsize 0\n",
            "2020-11-09 18:43:59,312 : INFO : EPOCH 20 - PROGRESS: at 19.29% examples, 388609 words/s, in_qsize 16, out_qsize 1\n",
            "2020-11-09 18:44:00,443 : INFO : EPOCH 20 - PROGRESS: at 24.61% examples, 390505 words/s, in_qsize 16, out_qsize 1\n",
            "2020-11-09 18:44:01,471 : INFO : EPOCH 20 - PROGRESS: at 29.70% examples, 391260 words/s, in_qsize 13, out_qsize 2\n",
            "2020-11-09 18:44:02,558 : INFO : EPOCH 20 - PROGRESS: at 34.89% examples, 391558 words/s, in_qsize 12, out_qsize 3\n",
            "2020-11-09 18:44:03,596 : INFO : EPOCH 20 - PROGRESS: at 40.19% examples, 395145 words/s, in_qsize 15, out_qsize 0\n",
            "2020-11-09 18:44:04,612 : INFO : EPOCH 20 - PROGRESS: at 44.94% examples, 394099 words/s, in_qsize 14, out_qsize 1\n",
            "2020-11-09 18:44:05,642 : INFO : EPOCH 20 - PROGRESS: at 50.13% examples, 396229 words/s, in_qsize 14, out_qsize 1\n",
            "2020-11-09 18:44:06,720 : INFO : EPOCH 20 - PROGRESS: at 55.42% examples, 397074 words/s, in_qsize 16, out_qsize 0\n",
            "2020-11-09 18:44:07,752 : INFO : EPOCH 20 - PROGRESS: at 60.52% examples, 397792 words/s, in_qsize 15, out_qsize 0\n",
            "2020-11-09 18:44:08,778 : INFO : EPOCH 20 - PROGRESS: at 65.50% examples, 397876 words/s, in_qsize 15, out_qsize 2\n",
            "2020-11-09 18:44:09,832 : INFO : EPOCH 20 - PROGRESS: at 70.69% examples, 399253 words/s, in_qsize 16, out_qsize 2\n",
            "2020-11-09 18:44:10,850 : INFO : EPOCH 20 - PROGRESS: at 75.57% examples, 398122 words/s, in_qsize 15, out_qsize 0\n",
            "2020-11-09 18:44:11,959 : INFO : EPOCH 20 - PROGRESS: at 81.12% examples, 398869 words/s, in_qsize 12, out_qsize 3\n",
            "2020-11-09 18:44:13,009 : INFO : EPOCH 20 - PROGRESS: at 86.64% examples, 400857 words/s, in_qsize 15, out_qsize 1\n",
            "2020-11-09 18:44:14,011 : INFO : EPOCH 20 - PROGRESS: at 91.20% examples, 399365 words/s, in_qsize 15, out_qsize 0\n",
            "2020-11-09 18:44:15,012 : INFO : EPOCH 20 - PROGRESS: at 96.31% examples, 400308 words/s, in_qsize 15, out_qsize 0\n",
            "2020-11-09 18:44:15,552 : INFO : worker thread finished; awaiting finish of 7 more threads\n",
            "2020-11-09 18:44:15,559 : INFO : worker thread finished; awaiting finish of 6 more threads\n",
            "2020-11-09 18:44:15,620 : INFO : worker thread finished; awaiting finish of 5 more threads\n",
            "2020-11-09 18:44:15,642 : INFO : worker thread finished; awaiting finish of 4 more threads\n",
            "2020-11-09 18:44:15,650 : INFO : worker thread finished; awaiting finish of 3 more threads\n",
            "2020-11-09 18:44:15,652 : INFO : worker thread finished; awaiting finish of 2 more threads\n",
            "2020-11-09 18:44:15,659 : INFO : worker thread finished; awaiting finish of 1 more threads\n",
            "2020-11-09 18:44:15,664 : INFO : worker thread finished; awaiting finish of 0 more threads\n",
            "2020-11-09 18:44:15,664 : INFO : EPOCH - 20 : training on 9227204 raw words (8221260 effective words) took 20.4s, 402411 effective words/s\n",
            "2020-11-09 18:44:16,684 : INFO : EPOCH 21 - PROGRESS: at 4.45% examples, 362277 words/s, in_qsize 16, out_qsize 0\n",
            "2020-11-09 18:44:17,690 : INFO : EPOCH 21 - PROGRESS: at 9.23% examples, 375965 words/s, in_qsize 13, out_qsize 2\n",
            "2020-11-09 18:44:18,738 : INFO : EPOCH 21 - PROGRESS: at 14.43% examples, 387847 words/s, in_qsize 15, out_qsize 1\n",
            "2020-11-09 18:44:19,760 : INFO : EPOCH 21 - PROGRESS: at 19.51% examples, 392498 words/s, in_qsize 15, out_qsize 0\n",
            "2020-11-09 18:44:20,782 : INFO : EPOCH 21 - PROGRESS: at 24.72% examples, 399126 words/s, in_qsize 16, out_qsize 0\n",
            "2020-11-09 18:44:21,770 : INFO : EPOCH 21 - PROGRESS: at 29.70% examples, 400475 words/s, in_qsize 15, out_qsize 0\n",
            "2020-11-09 18:44:22,806 : INFO : EPOCH 21 - PROGRESS: at 34.78% examples, 400959 words/s, in_qsize 16, out_qsize 2\n",
            "2020-11-09 18:44:23,826 : INFO : EPOCH 21 - PROGRESS: at 39.86% examples, 402180 words/s, in_qsize 15, out_qsize 0\n",
            "2020-11-09 18:44:24,841 : INFO : EPOCH 21 - PROGRESS: at 44.62% examples, 400374 words/s, in_qsize 15, out_qsize 0\n",
            "2020-11-09 18:44:25,943 : INFO : EPOCH 21 - PROGRESS: at 49.92% examples, 399931 words/s, in_qsize 15, out_qsize 0\n",
            "2020-11-09 18:44:26,946 : INFO : EPOCH 21 - PROGRESS: at 54.78% examples, 399934 words/s, in_qsize 15, out_qsize 2\n",
            "2020-11-09 18:44:27,978 : INFO : EPOCH 21 - PROGRESS: at 59.55% examples, 398249 words/s, in_qsize 8, out_qsize 7\n",
            "2020-11-09 18:44:29,014 : INFO : EPOCH 21 - PROGRESS: at 64.95% examples, 400696 words/s, in_qsize 15, out_qsize 0\n",
            "2020-11-09 18:44:30,019 : INFO : EPOCH 21 - PROGRESS: at 70.16% examples, 402432 words/s, in_qsize 15, out_qsize 1\n",
            "2020-11-09 18:44:31,020 : INFO : EPOCH 21 - PROGRESS: at 75.03% examples, 402294 words/s, in_qsize 15, out_qsize 0\n",
            "2020-11-09 18:44:32,057 : INFO : EPOCH 21 - PROGRESS: at 80.36% examples, 403464 words/s, in_qsize 15, out_qsize 0\n",
            "2020-11-09 18:44:33,140 : INFO : EPOCH 21 - PROGRESS: at 85.77% examples, 403958 words/s, in_qsize 15, out_qsize 0\n",
            "2020-11-09 18:44:34,142 : INFO : EPOCH 21 - PROGRESS: at 90.98% examples, 405158 words/s, in_qsize 14, out_qsize 0\n",
            "2020-11-09 18:44:35,169 : INFO : EPOCH 21 - PROGRESS: at 95.88% examples, 404386 words/s, in_qsize 16, out_qsize 0\n",
            "2020-11-09 18:44:35,853 : INFO : worker thread finished; awaiting finish of 7 more threads\n",
            "2020-11-09 18:44:35,860 : INFO : worker thread finished; awaiting finish of 6 more threads\n",
            "2020-11-09 18:44:35,873 : INFO : worker thread finished; awaiting finish of 5 more threads\n",
            "2020-11-09 18:44:35,875 : INFO : worker thread finished; awaiting finish of 4 more threads\n",
            "2020-11-09 18:44:35,883 : INFO : worker thread finished; awaiting finish of 3 more threads\n",
            "2020-11-09 18:44:35,892 : INFO : worker thread finished; awaiting finish of 2 more threads\n",
            "2020-11-09 18:44:35,908 : INFO : worker thread finished; awaiting finish of 1 more threads\n",
            "2020-11-09 18:44:35,927 : INFO : worker thread finished; awaiting finish of 0 more threads\n",
            "2020-11-09 18:44:35,928 : INFO : EPOCH - 21 : training on 9227204 raw words (8222121 effective words) took 20.3s, 405999 effective words/s\n",
            "2020-11-09 18:44:36,987 : INFO : EPOCH 22 - PROGRESS: at 4.56% examples, 356982 words/s, in_qsize 16, out_qsize 0\n",
            "2020-11-09 18:44:38,003 : INFO : EPOCH 22 - PROGRESS: at 9.66% examples, 384220 words/s, in_qsize 14, out_qsize 1\n",
            "2020-11-09 18:44:39,062 : INFO : EPOCH 22 - PROGRESS: at 14.87% examples, 390832 words/s, in_qsize 15, out_qsize 0\n",
            "2020-11-09 18:44:40,087 : INFO : EPOCH 22 - PROGRESS: at 20.16% examples, 399436 words/s, in_qsize 15, out_qsize 0\n",
            "2020-11-09 18:44:41,104 : INFO : EPOCH 22 - PROGRESS: at 25.04% examples, 398504 words/s, in_qsize 16, out_qsize 1\n",
            "2020-11-09 18:44:42,123 : INFO : EPOCH 22 - PROGRESS: at 30.46% examples, 404920 words/s, in_qsize 16, out_qsize 0\n",
            "2020-11-09 18:44:43,126 : INFO : EPOCH 22 - PROGRESS: at 35.00% examples, 400402 words/s, in_qsize 14, out_qsize 1\n",
            "2020-11-09 18:44:44,212 : INFO : EPOCH 22 - PROGRESS: at 40.29% examples, 400606 words/s, in_qsize 16, out_qsize 0\n",
            "2020-11-09 18:44:45,234 : INFO : EPOCH 22 - PROGRESS: at 45.27% examples, 400653 words/s, in_qsize 14, out_qsize 1\n",
            "2020-11-09 18:44:46,234 : INFO : EPOCH 22 - PROGRESS: at 50.24% examples, 401530 words/s, in_qsize 15, out_qsize 0\n",
            "2020-11-09 18:44:47,314 : INFO : EPOCH 22 - PROGRESS: at 55.32% examples, 400266 words/s, in_qsize 15, out_qsize 0\n",
            "2020-11-09 18:44:48,328 : INFO : EPOCH 22 - PROGRESS: at 60.41% examples, 401326 words/s, in_qsize 16, out_qsize 1\n",
            "2020-11-09 18:44:49,344 : INFO : EPOCH 22 - PROGRESS: at 65.50% examples, 402136 words/s, in_qsize 16, out_qsize 0\n",
            "2020-11-09 18:44:50,345 : INFO : EPOCH 22 - PROGRESS: at 70.27% examples, 401370 words/s, in_qsize 15, out_qsize 0\n",
            "2020-11-09 18:44:51,392 : INFO : EPOCH 22 - PROGRESS: at 75.35% examples, 401275 words/s, in_qsize 16, out_qsize 0\n",
            "2020-11-09 18:44:52,393 : INFO : EPOCH 22 - PROGRESS: at 80.68% examples, 403364 words/s, in_qsize 14, out_qsize 2\n",
            "2020-11-09 18:44:53,397 : INFO : EPOCH 22 - PROGRESS: at 85.66% examples, 403639 words/s, in_qsize 15, out_qsize 0\n",
            "2020-11-09 18:44:54,455 : INFO : EPOCH 22 - PROGRESS: at 90.87% examples, 403661 words/s, in_qsize 15, out_qsize 0\n",
            "2020-11-09 18:44:55,559 : INFO : EPOCH 22 - PROGRESS: at 95.99% examples, 402268 words/s, in_qsize 15, out_qsize 5\n",
            "2020-11-09 18:44:56,148 : INFO : worker thread finished; awaiting finish of 7 more threads\n",
            "2020-11-09 18:44:56,152 : INFO : worker thread finished; awaiting finish of 6 more threads\n",
            "2020-11-09 18:44:56,156 : INFO : worker thread finished; awaiting finish of 5 more threads\n",
            "2020-11-09 18:44:56,171 : INFO : worker thread finished; awaiting finish of 4 more threads\n",
            "2020-11-09 18:44:56,198 : INFO : worker thread finished; awaiting finish of 3 more threads\n",
            "2020-11-09 18:44:56,208 : INFO : worker thread finished; awaiting finish of 2 more threads\n",
            "2020-11-09 18:44:56,216 : INFO : worker thread finished; awaiting finish of 1 more threads\n",
            "2020-11-09 18:44:56,219 : INFO : worker thread finished; awaiting finish of 0 more threads\n",
            "2020-11-09 18:44:56,220 : INFO : EPOCH - 22 : training on 9227204 raw words (8222799 effective words) took 20.3s, 405454 effective words/s\n",
            "2020-11-09 18:44:57,244 : INFO : EPOCH 23 - PROGRESS: at 4.34% examples, 352205 words/s, in_qsize 15, out_qsize 0\n",
            "2020-11-09 18:44:58,290 : INFO : EPOCH 23 - PROGRESS: at 9.55% examples, 381203 words/s, in_qsize 15, out_qsize 0\n",
            "2020-11-09 18:44:59,329 : INFO : EPOCH 23 - PROGRESS: at 14.97% examples, 397019 words/s, in_qsize 15, out_qsize 0\n",
            "2020-11-09 18:45:00,354 : INFO : EPOCH 23 - PROGRESS: at 19.62% examples, 391208 words/s, in_qsize 16, out_qsize 2\n",
            "2020-11-09 18:45:01,376 : INFO : EPOCH 23 - PROGRESS: at 24.94% examples, 398427 words/s, in_qsize 15, out_qsize 0\n",
            "2020-11-09 18:45:02,407 : INFO : EPOCH 23 - PROGRESS: at 29.70% examples, 397360 words/s, in_qsize 15, out_qsize 3\n",
            "2020-11-09 18:45:03,405 : INFO : EPOCH 23 - PROGRESS: at 34.89% examples, 399970 words/s, in_qsize 15, out_qsize 0\n",
            "2020-11-09 18:45:04,423 : INFO : EPOCH 23 - PROGRESS: at 39.75% examples, 399182 words/s, in_qsize 15, out_qsize 2\n",
            "2020-11-09 18:45:05,423 : INFO : EPOCH 23 - PROGRESS: at 44.62% examples, 399325 words/s, in_qsize 15, out_qsize 0\n",
            "2020-11-09 18:45:06,434 : INFO : EPOCH 23 - PROGRESS: at 49.49% examples, 399096 words/s, in_qsize 15, out_qsize 0\n",
            "2020-11-09 18:45:07,461 : INFO : EPOCH 23 - PROGRESS: at 54.46% examples, 399095 words/s, in_qsize 14, out_qsize 1\n",
            "2020-11-09 18:45:08,464 : INFO : EPOCH 23 - PROGRESS: at 59.65% examples, 401360 words/s, in_qsize 14, out_qsize 1\n",
            "2020-11-09 18:45:09,488 : INFO : EPOCH 23 - PROGRESS: at 64.84% examples, 402806 words/s, in_qsize 15, out_qsize 0\n",
            "2020-11-09 18:45:10,563 : INFO : EPOCH 23 - PROGRESS: at 70.04% examples, 402214 words/s, in_qsize 15, out_qsize 0\n",
            "2020-11-09 18:45:11,583 : INFO : EPOCH 23 - PROGRESS: at 74.81% examples, 401032 words/s, in_qsize 15, out_qsize 0\n",
            "2020-11-09 18:45:12,614 : INFO : EPOCH 23 - PROGRESS: at 80.25% examples, 402977 words/s, in_qsize 16, out_qsize 0\n",
            "2020-11-09 18:45:13,638 : INFO : EPOCH 23 - PROGRESS: at 85.34% examples, 403300 words/s, in_qsize 15, out_qsize 0\n",
            "2020-11-09 18:45:14,646 : INFO : EPOCH 23 - PROGRESS: at 90.22% examples, 402990 words/s, in_qsize 15, out_qsize 0\n",
            "2020-11-09 18:45:15,667 : INFO : EPOCH 23 - PROGRESS: at 95.01% examples, 401954 words/s, in_qsize 15, out_qsize 2\n",
            "2020-11-09 18:45:16,447 : INFO : worker thread finished; awaiting finish of 7 more threads\n",
            "2020-11-09 18:45:16,449 : INFO : worker thread finished; awaiting finish of 6 more threads\n",
            "2020-11-09 18:45:16,463 : INFO : worker thread finished; awaiting finish of 5 more threads\n",
            "2020-11-09 18:45:16,488 : INFO : worker thread finished; awaiting finish of 4 more threads\n",
            "2020-11-09 18:45:16,505 : INFO : worker thread finished; awaiting finish of 3 more threads\n",
            "2020-11-09 18:45:16,536 : INFO : worker thread finished; awaiting finish of 2 more threads\n",
            "2020-11-09 18:45:16,544 : INFO : worker thread finished; awaiting finish of 1 more threads\n",
            "2020-11-09 18:45:16,550 : INFO : worker thread finished; awaiting finish of 0 more threads\n",
            "2020-11-09 18:45:16,551 : INFO : EPOCH - 23 : training on 9227204 raw words (8222304 effective words) took 20.3s, 404681 effective words/s\n",
            "2020-11-09 18:45:17,587 : INFO : EPOCH 24 - PROGRESS: at 4.34% examples, 348777 words/s, in_qsize 14, out_qsize 1\n",
            "2020-11-09 18:45:18,614 : INFO : EPOCH 24 - PROGRESS: at 9.55% examples, 382829 words/s, in_qsize 15, out_qsize 0\n",
            "2020-11-09 18:45:19,635 : INFO : EPOCH 24 - PROGRESS: at 14.65% examples, 391818 words/s, in_qsize 13, out_qsize 2\n",
            "2020-11-09 18:45:20,650 : INFO : EPOCH 24 - PROGRESS: at 19.73% examples, 396951 words/s, in_qsize 16, out_qsize 0\n",
            "2020-11-09 18:45:21,665 : INFO : EPOCH 24 - PROGRESS: at 24.39% examples, 393175 words/s, in_qsize 15, out_qsize 0\n",
            "2020-11-09 18:45:22,677 : INFO : EPOCH 24 - PROGRESS: at 29.48% examples, 396528 words/s, in_qsize 15, out_qsize 2\n",
            "2020-11-09 18:45:23,695 : INFO : EPOCH 24 - PROGRESS: at 34.46% examples, 397398 words/s, in_qsize 15, out_qsize 0\n",
            "2020-11-09 18:45:24,733 : INFO : EPOCH 24 - PROGRESS: at 39.54% examples, 398741 words/s, in_qsize 15, out_qsize 2\n",
            "2020-11-09 18:45:25,753 : INFO : EPOCH 24 - PROGRESS: at 44.29% examples, 396599 words/s, in_qsize 9, out_qsize 6\n",
            "2020-11-09 18:45:26,791 : INFO : EPOCH 24 - PROGRESS: at 50.02% examples, 402533 words/s, in_qsize 15, out_qsize 0\n",
            "2020-11-09 18:45:27,792 : INFO : EPOCH 24 - PROGRESS: at 54.67% examples, 400775 words/s, in_qsize 16, out_qsize 2\n",
            "2020-11-09 18:45:28,798 : INFO : EPOCH 24 - PROGRESS: at 59.98% examples, 403520 words/s, in_qsize 16, out_qsize 0\n",
            "2020-11-09 18:45:29,808 : INFO : EPOCH 24 - PROGRESS: at 64.40% examples, 400313 words/s, in_qsize 15, out_qsize 0\n",
            "2020-11-09 18:45:30,815 : INFO : EPOCH 24 - PROGRESS: at 69.61% examples, 402027 words/s, in_qsize 15, out_qsize 0\n",
            "2020-11-09 18:45:31,847 : INFO : EPOCH 24 - PROGRESS: at 74.58% examples, 401716 words/s, in_qsize 15, out_qsize 0\n",
            "2020-11-09 18:45:32,890 : INFO : EPOCH 24 - PROGRESS: at 79.60% examples, 401145 words/s, in_qsize 16, out_qsize 1\n",
            "2020-11-09 18:45:33,938 : INFO : EPOCH 24 - PROGRESS: at 84.80% examples, 401554 words/s, in_qsize 15, out_qsize 1\n",
            "2020-11-09 18:45:34,957 : INFO : EPOCH 24 - PROGRESS: at 90.00% examples, 402710 words/s, in_qsize 16, out_qsize 1\n",
            "2020-11-09 18:45:36,025 : INFO : EPOCH 24 - PROGRESS: at 95.12% examples, 401964 words/s, in_qsize 15, out_qsize 0\n",
            "2020-11-09 18:45:36,805 : INFO : worker thread finished; awaiting finish of 7 more threads\n",
            "2020-11-09 18:45:36,831 : INFO : worker thread finished; awaiting finish of 6 more threads\n",
            "2020-11-09 18:45:36,858 : INFO : worker thread finished; awaiting finish of 5 more threads\n",
            "2020-11-09 18:45:36,868 : INFO : worker thread finished; awaiting finish of 4 more threads\n",
            "2020-11-09 18:45:36,870 : INFO : worker thread finished; awaiting finish of 3 more threads\n",
            "2020-11-09 18:45:36,878 : INFO : worker thread finished; awaiting finish of 2 more threads\n",
            "2020-11-09 18:45:36,887 : INFO : worker thread finished; awaiting finish of 1 more threads\n",
            "2020-11-09 18:45:36,890 : INFO : worker thread finished; awaiting finish of 0 more threads\n",
            "2020-11-09 18:45:36,891 : INFO : EPOCH - 24 : training on 9227204 raw words (8223553 effective words) took 20.3s, 404600 effective words/s\n",
            "2020-11-09 18:45:37,912 : INFO : EPOCH 25 - PROGRESS: at 4.34% examples, 352889 words/s, in_qsize 15, out_qsize 0\n",
            "2020-11-09 18:45:38,970 : INFO : EPOCH 25 - PROGRESS: at 9.45% examples, 375032 words/s, in_qsize 11, out_qsize 4\n",
            "2020-11-09 18:45:39,980 : INFO : EPOCH 25 - PROGRESS: at 14.65% examples, 390735 words/s, in_qsize 15, out_qsize 0\n",
            "2020-11-09 18:45:40,992 : INFO : EPOCH 25 - PROGRESS: at 19.62% examples, 394259 words/s, in_qsize 13, out_qsize 2\n",
            "2020-11-09 18:45:42,012 : INFO : EPOCH 25 - PROGRESS: at 24.50% examples, 394042 words/s, in_qsize 15, out_qsize 0\n",
            "2020-11-09 18:45:43,016 : INFO : EPOCH 25 - PROGRESS: at 29.48% examples, 396344 words/s, in_qsize 15, out_qsize 0\n",
            "2020-11-09 18:45:44,030 : INFO : EPOCH 25 - PROGRESS: at 34.46% examples, 397489 words/s, in_qsize 15, out_qsize 0\n",
            "2020-11-09 18:45:45,036 : INFO : EPOCH 25 - PROGRESS: at 39.54% examples, 399805 words/s, in_qsize 15, out_qsize 0\n",
            "2020-11-09 18:45:46,124 : INFO : EPOCH 25 - PROGRESS: at 44.83% examples, 399940 words/s, in_qsize 15, out_qsize 0\n",
            "2020-11-09 18:45:47,133 : INFO : EPOCH 25 - PROGRESS: at 49.92% examples, 401443 words/s, in_qsize 15, out_qsize 1\n",
            "2020-11-09 18:45:48,168 : INFO : EPOCH 25 - PROGRESS: at 54.67% examples, 400240 words/s, in_qsize 14, out_qsize 4\n",
            "2020-11-09 18:45:49,156 : INFO : EPOCH 25 - PROGRESS: at 59.44% examples, 399205 words/s, in_qsize 15, out_qsize 0\n",
            "2020-11-09 18:45:50,222 : INFO : EPOCH 25 - PROGRESS: at 64.73% examples, 400271 words/s, in_qsize 15, out_qsize 3\n",
            "2020-11-09 18:45:51,221 : INFO : EPOCH 25 - PROGRESS: at 69.50% examples, 399515 words/s, in_qsize 15, out_qsize 0\n",
            "2020-11-09 18:45:52,236 : INFO : EPOCH 25 - PROGRESS: at 74.81% examples, 401516 words/s, in_qsize 15, out_qsize 0\n",
            "2020-11-09 18:45:53,241 : INFO : EPOCH 25 - PROGRESS: at 79.70% examples, 401329 words/s, in_qsize 15, out_qsize 0\n",
            "2020-11-09 18:45:54,250 : INFO : EPOCH 25 - PROGRESS: at 84.59% examples, 401107 words/s, in_qsize 14, out_qsize 1\n",
            "2020-11-09 18:45:55,278 : INFO : EPOCH 25 - PROGRESS: at 89.45% examples, 400466 words/s, in_qsize 16, out_qsize 0\n",
            "2020-11-09 18:45:56,282 : INFO : EPOCH 25 - PROGRESS: at 94.47% examples, 400832 words/s, in_qsize 15, out_qsize 0\n",
            "2020-11-09 18:45:57,172 : INFO : worker thread finished; awaiting finish of 7 more threads\n",
            "2020-11-09 18:45:57,200 : INFO : worker thread finished; awaiting finish of 6 more threads\n",
            "2020-11-09 18:45:57,211 : INFO : worker thread finished; awaiting finish of 5 more threads\n",
            "2020-11-09 18:45:57,220 : INFO : worker thread finished; awaiting finish of 4 more threads\n",
            "2020-11-09 18:45:57,247 : INFO : worker thread finished; awaiting finish of 3 more threads\n",
            "2020-11-09 18:45:57,270 : INFO : worker thread finished; awaiting finish of 2 more threads\n",
            "2020-11-09 18:45:57,274 : INFO : worker thread finished; awaiting finish of 1 more threads\n",
            "2020-11-09 18:45:57,280 : INFO : worker thread finished; awaiting finish of 0 more threads\n",
            "2020-11-09 18:45:57,281 : INFO : EPOCH - 25 : training on 9227204 raw words (8223265 effective words) took 20.4s, 403533 effective words/s\n",
            "2020-11-09 18:45:58,324 : INFO : EPOCH 26 - PROGRESS: at 4.45% examples, 353774 words/s, in_qsize 15, out_qsize 0\n",
            "2020-11-09 18:45:59,390 : INFO : EPOCH 26 - PROGRESS: at 9.66% examples, 378084 words/s, in_qsize 15, out_qsize 0\n",
            "2020-11-09 18:46:00,398 : INFO : EPOCH 26 - PROGRESS: at 14.86% examples, 392873 words/s, in_qsize 16, out_qsize 0\n",
            "2020-11-09 18:46:01,416 : INFO : EPOCH 26 - PROGRESS: at 19.84% examples, 395175 words/s, in_qsize 15, out_qsize 0\n",
            "2020-11-09 18:46:02,461 : INFO : EPOCH 26 - PROGRESS: at 24.83% examples, 394714 words/s, in_qsize 15, out_qsize 0\n",
            "2020-11-09 18:46:03,469 : INFO : EPOCH 26 - PROGRESS: at 29.80% examples, 396620 words/s, in_qsize 15, out_qsize 1\n",
            "2020-11-09 18:46:04,471 : INFO : EPOCH 26 - PROGRESS: at 35.00% examples, 400847 words/s, in_qsize 15, out_qsize 2\n",
            "2020-11-09 18:46:05,497 : INFO : EPOCH 26 - PROGRESS: at 39.65% examples, 397386 words/s, in_qsize 13, out_qsize 2\n",
            "2020-11-09 18:46:06,507 : INFO : EPOCH 26 - PROGRESS: at 44.40% examples, 396345 words/s, in_qsize 11, out_qsize 6\n",
            "2020-11-09 18:46:07,528 : INFO : EPOCH 26 - PROGRESS: at 50.02% examples, 402046 words/s, in_qsize 15, out_qsize 0\n",
            "2020-11-09 18:46:08,536 : INFO : EPOCH 26 - PROGRESS: at 54.67% examples, 400092 words/s, in_qsize 13, out_qsize 2\n",
            "2020-11-09 18:46:09,602 : INFO : EPOCH 26 - PROGRESS: at 59.77% examples, 399497 words/s, in_qsize 12, out_qsize 3\n",
            "2020-11-09 18:46:10,612 : INFO : EPOCH 26 - PROGRESS: at 64.95% examples, 401293 words/s, in_qsize 16, out_qsize 0\n",
            "2020-11-09 18:46:11,627 : INFO : EPOCH 26 - PROGRESS: at 69.72% examples, 400226 words/s, in_qsize 14, out_qsize 4\n",
            "2020-11-09 18:46:12,650 : INFO : EPOCH 26 - PROGRESS: at 75.02% examples, 401979 words/s, in_qsize 15, out_qsize 0\n",
            "2020-11-09 18:46:13,712 : INFO : EPOCH 26 - PROGRESS: at 79.92% examples, 401621 words/s, in_qsize 16, out_qsize 4\n",
            "2020-11-09 18:46:14,663 : INFO : EPOCH 26 - PROGRESS: at 85.02% examples, 402547 words/s, in_qsize 15, out_qsize 0\n",
            "2020-11-09 18:46:15,691 : INFO : EPOCH 26 - PROGRESS: at 90.10% examples, 402798 words/s, in_qsize 15, out_qsize 0\n",
            "2020-11-09 18:46:16,734 : INFO : EPOCH 26 - PROGRESS: at 95.12% examples, 402246 words/s, in_qsize 15, out_qsize 0\n",
            "2020-11-09 18:46:17,503 : INFO : worker thread finished; awaiting finish of 7 more threads\n",
            "2020-11-09 18:46:17,548 : INFO : worker thread finished; awaiting finish of 6 more threads\n",
            "2020-11-09 18:46:17,570 : INFO : worker thread finished; awaiting finish of 5 more threads\n",
            "2020-11-09 18:46:17,575 : INFO : worker thread finished; awaiting finish of 4 more threads\n",
            "2020-11-09 18:46:17,583 : INFO : worker thread finished; awaiting finish of 3 more threads\n",
            "2020-11-09 18:46:17,588 : INFO : worker thread finished; awaiting finish of 2 more threads\n",
            "2020-11-09 18:46:17,598 : INFO : worker thread finished; awaiting finish of 1 more threads\n",
            "2020-11-09 18:46:17,599 : INFO : worker thread finished; awaiting finish of 0 more threads\n",
            "2020-11-09 18:46:17,600 : INFO : EPOCH - 26 : training on 9227204 raw words (8222401 effective words) took 20.3s, 404893 effective words/s\n",
            "2020-11-09 18:46:18,677 : INFO : EPOCH 27 - PROGRESS: at 4.67% examples, 360302 words/s, in_qsize 15, out_qsize 0\n",
            "2020-11-09 18:46:19,710 : INFO : EPOCH 27 - PROGRESS: at 9.88% examples, 386973 words/s, in_qsize 15, out_qsize 0\n",
            "2020-11-09 18:46:20,733 : INFO : EPOCH 27 - PROGRESS: at 14.87% examples, 391426 words/s, in_qsize 14, out_qsize 1\n",
            "2020-11-09 18:46:21,813 : INFO : EPOCH 27 - PROGRESS: at 20.16% examples, 394720 words/s, in_qsize 13, out_qsize 2\n",
            "2020-11-09 18:46:22,837 : INFO : EPOCH 27 - PROGRESS: at 25.15% examples, 395806 words/s, in_qsize 15, out_qsize 0\n",
            "2020-11-09 18:46:23,856 : INFO : EPOCH 27 - PROGRESS: at 30.24% examples, 398233 words/s, in_qsize 14, out_qsize 2\n",
            "2020-11-09 18:46:24,896 : INFO : EPOCH 27 - PROGRESS: at 35.32% examples, 400088 words/s, in_qsize 15, out_qsize 1\n",
            "2020-11-09 18:46:25,881 : INFO : EPOCH 27 - PROGRESS: at 40.19% examples, 399872 words/s, in_qsize 14, out_qsize 1\n",
            "2020-11-09 18:46:26,963 : INFO : EPOCH 27 - PROGRESS: at 45.48% examples, 400240 words/s, in_qsize 15, out_qsize 0\n",
            "2020-11-09 18:46:27,965 : INFO : EPOCH 27 - PROGRESS: at 50.89% examples, 404542 words/s, in_qsize 15, out_qsize 0\n",
            "2020-11-09 18:46:29,007 : INFO : EPOCH 27 - PROGRESS: at 55.64% examples, 401975 words/s, in_qsize 14, out_qsize 2\n",
            "2020-11-09 18:46:30,056 : INFO : EPOCH 27 - PROGRESS: at 60.96% examples, 403188 words/s, in_qsize 15, out_qsize 0\n",
            "2020-11-09 18:46:31,107 : INFO : EPOCH 27 - PROGRESS: at 66.04% examples, 402785 words/s, in_qsize 16, out_qsize 0\n",
            "2020-11-09 18:46:32,152 : INFO : EPOCH 27 - PROGRESS: at 71.13% examples, 402622 words/s, in_qsize 14, out_qsize 1\n",
            "2020-11-09 18:46:33,228 : INFO : EPOCH 27 - PROGRESS: at 76.33% examples, 402755 words/s, in_qsize 15, out_qsize 3\n",
            "2020-11-09 18:46:34,221 : INFO : EPOCH 27 - PROGRESS: at 81.56% examples, 403944 words/s, in_qsize 15, out_qsize 0\n",
            "2020-11-09 18:46:35,235 : INFO : EPOCH 27 - PROGRESS: at 86.42% examples, 403424 words/s, in_qsize 15, out_qsize 0\n",
            "2020-11-09 18:46:36,282 : INFO : EPOCH 27 - PROGRESS: at 91.42% examples, 402738 words/s, in_qsize 15, out_qsize 0\n",
            "2020-11-09 18:46:37,302 : INFO : EPOCH 27 - PROGRESS: at 96.42% examples, 402687 words/s, in_qsize 16, out_qsize 0\n",
            "2020-11-09 18:46:37,846 : INFO : worker thread finished; awaiting finish of 7 more threads\n",
            "2020-11-09 18:46:37,856 : INFO : worker thread finished; awaiting finish of 6 more threads\n",
            "2020-11-09 18:46:37,887 : INFO : worker thread finished; awaiting finish of 5 more threads\n",
            "2020-11-09 18:46:37,888 : INFO : worker thread finished; awaiting finish of 4 more threads\n",
            "2020-11-09 18:46:37,893 : INFO : worker thread finished; awaiting finish of 3 more threads\n",
            "2020-11-09 18:46:37,926 : INFO : worker thread finished; awaiting finish of 2 more threads\n",
            "2020-11-09 18:46:37,932 : INFO : worker thread finished; awaiting finish of 1 more threads\n",
            "2020-11-09 18:46:37,934 : INFO : worker thread finished; awaiting finish of 0 more threads\n",
            "2020-11-09 18:46:37,935 : INFO : EPOCH - 27 : training on 9227204 raw words (8222458 effective words) took 20.3s, 404642 effective words/s\n",
            "2020-11-09 18:46:39,003 : INFO : EPOCH 28 - PROGRESS: at 4.34% examples, 337535 words/s, in_qsize 15, out_qsize 0\n",
            "2020-11-09 18:46:40,067 : INFO : EPOCH 28 - PROGRESS: at 9.55% examples, 369856 words/s, in_qsize 15, out_qsize 0\n",
            "2020-11-09 18:46:41,196 : INFO : EPOCH 28 - PROGRESS: at 14.86% examples, 375630 words/s, in_qsize 9, out_qsize 6\n",
            "2020-11-09 18:46:42,210 : INFO : EPOCH 28 - PROGRESS: at 20.16% examples, 388588 words/s, in_qsize 16, out_qsize 0\n",
            "2020-11-09 18:46:43,262 : INFO : EPOCH 28 - PROGRESS: at 25.15% examples, 388827 words/s, in_qsize 15, out_qsize 0\n",
            "2020-11-09 18:46:44,282 : INFO : EPOCH 28 - PROGRESS: at 30.24% examples, 392321 words/s, in_qsize 15, out_qsize 0\n",
            "2020-11-09 18:46:45,307 : INFO : EPOCH 28 - PROGRESS: at 35.00% examples, 391481 words/s, in_qsize 16, out_qsize 5\n",
            "2020-11-09 18:46:46,305 : INFO : EPOCH 28 - PROGRESS: at 40.51% examples, 398571 words/s, in_qsize 15, out_qsize 0\n",
            "2020-11-09 18:46:47,318 : INFO : EPOCH 28 - PROGRESS: at 45.05% examples, 395388 words/s, in_qsize 16, out_qsize 0\n",
            "2020-11-09 18:46:48,349 : INFO : EPOCH 28 - PROGRESS: at 50.02% examples, 395619 words/s, in_qsize 15, out_qsize 0\n",
            "2020-11-09 18:46:49,485 : INFO : EPOCH 28 - PROGRESS: at 55.53% examples, 397118 words/s, in_qsize 15, out_qsize 3\n",
            "2020-11-09 18:46:50,482 : INFO : EPOCH 28 - PROGRESS: at 60.63% examples, 397995 words/s, in_qsize 16, out_qsize 0\n",
            "2020-11-09 18:46:51,495 : INFO : EPOCH 28 - PROGRESS: at 65.72% examples, 399108 words/s, in_qsize 14, out_qsize 1\n",
            "2020-11-09 18:46:52,505 : INFO : EPOCH 28 - PROGRESS: at 70.59% examples, 398953 words/s, in_qsize 16, out_qsize 0\n",
            "2020-11-09 18:46:53,540 : INFO : EPOCH 28 - PROGRESS: at 75.67% examples, 399328 words/s, in_qsize 15, out_qsize 0\n",
            "2020-11-09 18:46:54,543 : INFO : EPOCH 28 - PROGRESS: at 80.80% examples, 400425 words/s, in_qsize 14, out_qsize 0\n",
            "2020-11-09 18:46:55,633 : INFO : EPOCH 28 - PROGRESS: at 85.66% examples, 399519 words/s, in_qsize 16, out_qsize 4\n",
            "2020-11-09 18:46:56,615 : INFO : EPOCH 28 - PROGRESS: at 91.09% examples, 401304 words/s, in_qsize 15, out_qsize 0\n",
            "2020-11-09 18:46:57,636 : INFO : EPOCH 28 - PROGRESS: at 96.31% examples, 402191 words/s, in_qsize 15, out_qsize 0\n",
            "2020-11-09 18:46:58,223 : INFO : worker thread finished; awaiting finish of 7 more threads\n",
            "2020-11-09 18:46:58,225 : INFO : worker thread finished; awaiting finish of 6 more threads\n",
            "2020-11-09 18:46:58,240 : INFO : worker thread finished; awaiting finish of 5 more threads\n",
            "2020-11-09 18:46:58,256 : INFO : worker thread finished; awaiting finish of 4 more threads\n",
            "2020-11-09 18:46:58,290 : INFO : worker thread finished; awaiting finish of 3 more threads\n",
            "2020-11-09 18:46:58,316 : INFO : worker thread finished; awaiting finish of 2 more threads\n",
            "2020-11-09 18:46:58,330 : INFO : worker thread finished; awaiting finish of 1 more threads\n",
            "2020-11-09 18:46:58,334 : INFO : worker thread finished; awaiting finish of 0 more threads\n",
            "2020-11-09 18:46:58,335 : INFO : EPOCH - 28 : training on 9227204 raw words (8222788 effective words) took 20.4s, 403316 effective words/s\n",
            "2020-11-09 18:46:59,385 : INFO : EPOCH 29 - PROGRESS: at 4.56% examples, 361063 words/s, in_qsize 15, out_qsize 0\n",
            "2020-11-09 18:47:00,454 : INFO : EPOCH 29 - PROGRESS: at 9.77% examples, 381003 words/s, in_qsize 15, out_qsize 0\n",
            "2020-11-09 18:47:01,490 : INFO : EPOCH 29 - PROGRESS: at 14.97% examples, 391337 words/s, in_qsize 16, out_qsize 0\n",
            "2020-11-09 18:47:02,537 : INFO : EPOCH 29 - PROGRESS: at 20.27% examples, 397747 words/s, in_qsize 15, out_qsize 0\n",
            "2020-11-09 18:47:03,568 : INFO : EPOCH 29 - PROGRESS: at 25.15% examples, 395959 words/s, in_qsize 15, out_qsize 3\n",
            "2020-11-09 18:47:04,581 : INFO : EPOCH 29 - PROGRESS: at 30.67% examples, 404640 words/s, in_qsize 16, out_qsize 0\n",
            "2020-11-09 18:47:05,628 : INFO : EPOCH 29 - PROGRESS: at 35.32% examples, 399177 words/s, in_qsize 15, out_qsize 2\n",
            "2020-11-09 18:47:06,707 : INFO : EPOCH 29 - PROGRESS: at 40.51% examples, 398662 words/s, in_qsize 11, out_qsize 4\n",
            "2020-11-09 18:47:07,730 : INFO : EPOCH 29 - PROGRESS: at 45.81% examples, 401701 words/s, in_qsize 15, out_qsize 0\n",
            "2020-11-09 18:47:08,769 : INFO : EPOCH 29 - PROGRESS: at 51.43% examples, 406143 words/s, in_qsize 15, out_qsize 0\n",
            "2020-11-09 18:47:09,801 : INFO : EPOCH 29 - PROGRESS: at 56.29% examples, 404568 words/s, in_qsize 16, out_qsize 0\n",
            "2020-11-09 18:47:10,843 : INFO : EPOCH 29 - PROGRESS: at 61.39% examples, 404357 words/s, in_qsize 15, out_qsize 0\n",
            "2020-11-09 18:47:11,866 : INFO : EPOCH 29 - PROGRESS: at 66.36% examples, 404045 words/s, in_qsize 15, out_qsize 0\n",
            "2020-11-09 18:47:12,885 : INFO : EPOCH 29 - PROGRESS: at 71.56% examples, 405177 words/s, in_qsize 16, out_qsize 0\n",
            "2020-11-09 18:47:13,900 : INFO : EPOCH 29 - PROGRESS: at 76.22% examples, 403306 words/s, in_qsize 11, out_qsize 4\n",
            "2020-11-09 18:47:14,916 : INFO : EPOCH 29 - PROGRESS: at 81.88% examples, 406529 words/s, in_qsize 15, out_qsize 0\n",
            "2020-11-09 18:47:15,922 : INFO : EPOCH 29 - PROGRESS: at 86.21% examples, 403533 words/s, in_qsize 13, out_qsize 2\n",
            "2020-11-09 18:47:16,923 : INFO : EPOCH 29 - PROGRESS: at 91.63% examples, 405743 words/s, in_qsize 12, out_qsize 0\n",
            "2020-11-09 18:47:17,924 : INFO : EPOCH 29 - PROGRESS: at 96.42% examples, 405014 words/s, in_qsize 16, out_qsize 0\n",
            "2020-11-09 18:47:18,483 : INFO : worker thread finished; awaiting finish of 7 more threads\n",
            "2020-11-09 18:47:18,485 : INFO : worker thread finished; awaiting finish of 6 more threads\n",
            "2020-11-09 18:47:18,488 : INFO : worker thread finished; awaiting finish of 5 more threads\n",
            "2020-11-09 18:47:18,500 : INFO : worker thread finished; awaiting finish of 4 more threads\n",
            "2020-11-09 18:47:18,515 : INFO : worker thread finished; awaiting finish of 3 more threads\n",
            "2020-11-09 18:47:18,543 : INFO : worker thread finished; awaiting finish of 2 more threads\n",
            "2020-11-09 18:47:18,555 : INFO : worker thread finished; awaiting finish of 1 more threads\n",
            "2020-11-09 18:47:18,568 : INFO : worker thread finished; awaiting finish of 0 more threads\n",
            "2020-11-09 18:47:18,569 : INFO : EPOCH - 29 : training on 9227204 raw words (8223223 effective words) took 20.2s, 406690 effective words/s\n",
            "2020-11-09 18:47:19,621 : INFO : EPOCH 30 - PROGRESS: at 4.67% examples, 368265 words/s, in_qsize 15, out_qsize 0\n",
            "2020-11-09 18:47:20,646 : INFO : EPOCH 30 - PROGRESS: at 9.55% examples, 380638 words/s, in_qsize 16, out_qsize 2\n",
            "2020-11-09 18:47:21,699 : INFO : EPOCH 30 - PROGRESS: at 14.97% examples, 394254 words/s, in_qsize 15, out_qsize 0\n",
            "2020-11-09 18:47:22,726 : INFO : EPOCH 30 - PROGRESS: at 19.94% examples, 395441 words/s, in_qsize 15, out_qsize 0\n",
            "2020-11-09 18:47:23,728 : INFO : EPOCH 30 - PROGRESS: at 25.15% examples, 401583 words/s, in_qsize 15, out_qsize 0\n",
            "2020-11-09 18:47:24,732 : INFO : EPOCH 30 - PROGRESS: at 29.80% examples, 398356 words/s, in_qsize 16, out_qsize 0\n",
            "2020-11-09 18:47:25,733 : INFO : EPOCH 30 - PROGRESS: at 34.89% examples, 401165 words/s, in_qsize 15, out_qsize 0\n",
            "2020-11-09 18:47:26,743 : INFO : EPOCH 30 - PROGRESS: at 39.76% examples, 400643 words/s, in_qsize 16, out_qsize 0\n",
            "2020-11-09 18:47:27,838 : INFO : EPOCH 30 - PROGRESS: at 44.83% examples, 398451 words/s, in_qsize 16, out_qsize 0\n",
            "2020-11-09 18:47:28,843 : INFO : EPOCH 30 - PROGRESS: at 49.81% examples, 399369 words/s, in_qsize 15, out_qsize 0\n",
            "2020-11-09 18:47:29,862 : INFO : EPOCH 30 - PROGRESS: at 54.99% examples, 401232 words/s, in_qsize 15, out_qsize 0\n",
            "2020-11-09 18:47:30,866 : INFO : EPOCH 30 - PROGRESS: at 59.87% examples, 401090 words/s, in_qsize 13, out_qsize 2\n",
            "2020-11-09 18:47:31,882 : INFO : EPOCH 30 - PROGRESS: at 64.84% examples, 401245 words/s, in_qsize 14, out_qsize 1\n",
            "2020-11-09 18:47:32,884 : INFO : EPOCH 30 - PROGRESS: at 70.05% examples, 403031 words/s, in_qsize 15, out_qsize 0\n",
            "2020-11-09 18:47:33,886 : INFO : EPOCH 30 - PROGRESS: at 75.13% examples, 403989 words/s, in_qsize 15, out_qsize 0\n",
            "2020-11-09 18:47:34,958 : INFO : EPOCH 30 - PROGRESS: at 79.81% examples, 400931 words/s, in_qsize 14, out_qsize 5\n",
            "2020-11-09 18:47:35,985 : INFO : EPOCH 30 - PROGRESS: at 85.13% examples, 402346 words/s, in_qsize 14, out_qsize 1\n",
            "2020-11-09 18:47:37,013 : INFO : EPOCH 30 - PROGRESS: at 90.32% examples, 403092 words/s, in_qsize 15, out_qsize 0\n",
            "2020-11-09 18:47:38,041 : INFO : EPOCH 30 - PROGRESS: at 95.34% examples, 402843 words/s, in_qsize 15, out_qsize 0\n",
            "2020-11-09 18:47:38,809 : INFO : worker thread finished; awaiting finish of 7 more threads\n",
            "2020-11-09 18:47:38,826 : INFO : worker thread finished; awaiting finish of 6 more threads\n",
            "2020-11-09 18:47:38,833 : INFO : worker thread finished; awaiting finish of 5 more threads\n",
            "2020-11-09 18:47:38,839 : INFO : worker thread finished; awaiting finish of 4 more threads\n",
            "2020-11-09 18:47:38,840 : INFO : worker thread finished; awaiting finish of 3 more threads\n",
            "2020-11-09 18:47:38,857 : INFO : worker thread finished; awaiting finish of 2 more threads\n",
            "2020-11-09 18:47:38,875 : INFO : worker thread finished; awaiting finish of 1 more threads\n",
            "2020-11-09 18:47:38,882 : INFO : worker thread finished; awaiting finish of 0 more threads\n",
            "2020-11-09 18:47:38,882 : INFO : EPOCH - 30 : training on 9227204 raw words (8223412 effective words) took 20.3s, 405064 effective words/s\n",
            "2020-11-09 18:47:39,918 : INFO : EPOCH 31 - PROGRESS: at 4.23% examples, 339719 words/s, in_qsize 16, out_qsize 0\n",
            "2020-11-09 18:47:40,951 : INFO : EPOCH 31 - PROGRESS: at 9.55% examples, 381604 words/s, in_qsize 15, out_qsize 0\n",
            "2020-11-09 18:47:41,996 : INFO : EPOCH 31 - PROGRESS: at 14.65% examples, 387936 words/s, in_qsize 16, out_qsize 0\n",
            "2020-11-09 18:47:43,007 : INFO : EPOCH 31 - PROGRESS: at 19.94% examples, 398714 words/s, in_qsize 15, out_qsize 0\n",
            "2020-11-09 18:47:44,020 : INFO : EPOCH 31 - PROGRESS: at 24.50% examples, 392985 words/s, in_qsize 13, out_qsize 3\n",
            "2020-11-09 18:47:45,054 : INFO : EPOCH 31 - PROGRESS: at 29.59% examples, 395069 words/s, in_qsize 15, out_qsize 0\n",
            "2020-11-09 18:47:46,142 : INFO : EPOCH 31 - PROGRESS: at 35.00% examples, 397148 words/s, in_qsize 15, out_qsize 0\n",
            "2020-11-09 18:47:47,209 : INFO : EPOCH 31 - PROGRESS: at 40.19% examples, 397611 words/s, in_qsize 15, out_qsize 0\n",
            "2020-11-09 18:47:48,214 : INFO : EPOCH 31 - PROGRESS: at 45.26% examples, 399621 words/s, in_qsize 15, out_qsize 0\n",
            "2020-11-09 18:47:49,236 : INFO : EPOCH 31 - PROGRESS: at 50.02% examples, 398074 words/s, in_qsize 11, out_qsize 4\n",
            "2020-11-09 18:47:50,264 : INFO : EPOCH 31 - PROGRESS: at 55.10% examples, 398918 words/s, in_qsize 12, out_qsize 3\n",
            "2020-11-09 18:47:51,333 : INFO : EPOCH 31 - PROGRESS: at 60.31% examples, 398996 words/s, in_qsize 15, out_qsize 2\n",
            "2020-11-09 18:47:52,353 : INFO : EPOCH 31 - PROGRESS: at 65.93% examples, 403159 words/s, in_qsize 15, out_qsize 0\n",
            "2020-11-09 18:47:53,362 : INFO : EPOCH 31 - PROGRESS: at 70.91% examples, 403360 words/s, in_qsize 15, out_qsize 0\n",
            "2020-11-09 18:47:54,365 : INFO : EPOCH 31 - PROGRESS: at 75.89% examples, 403690 words/s, in_qsize 13, out_qsize 1\n",
            "2020-11-09 18:47:55,379 : INFO : EPOCH 31 - PROGRESS: at 80.68% examples, 402642 words/s, in_qsize 15, out_qsize 2\n",
            "2020-11-09 18:47:56,397 : INFO : EPOCH 31 - PROGRESS: at 85.88% examples, 403659 words/s, in_qsize 16, out_qsize 0\n",
            "2020-11-09 18:47:57,464 : INFO : EPOCH 31 - PROGRESS: at 90.87% examples, 402517 words/s, in_qsize 16, out_qsize 1\n",
            "2020-11-09 18:47:58,514 : INFO : EPOCH 31 - PROGRESS: at 96.10% examples, 402745 words/s, in_qsize 15, out_qsize 3\n",
            "2020-11-09 18:47:59,097 : INFO : worker thread finished; awaiting finish of 7 more threads\n",
            "2020-11-09 18:47:59,113 : INFO : worker thread finished; awaiting finish of 6 more threads\n",
            "2020-11-09 18:47:59,128 : INFO : worker thread finished; awaiting finish of 5 more threads\n",
            "2020-11-09 18:47:59,150 : INFO : worker thread finished; awaiting finish of 4 more threads\n",
            "2020-11-09 18:47:59,157 : INFO : worker thread finished; awaiting finish of 3 more threads\n",
            "2020-11-09 18:47:59,161 : INFO : worker thread finished; awaiting finish of 2 more threads\n",
            "2020-11-09 18:47:59,177 : INFO : worker thread finished; awaiting finish of 1 more threads\n",
            "2020-11-09 18:47:59,179 : INFO : worker thread finished; awaiting finish of 0 more threads\n",
            "2020-11-09 18:47:59,180 : INFO : EPOCH - 31 : training on 9227204 raw words (8222400 effective words) took 20.3s, 405367 effective words/s\n",
            "2020-11-09 18:48:00,213 : INFO : EPOCH 32 - PROGRESS: at 4.56% examples, 365527 words/s, in_qsize 16, out_qsize 0\n",
            "2020-11-09 18:48:01,240 : INFO : EPOCH 32 - PROGRESS: at 9.77% examples, 391195 words/s, in_qsize 15, out_qsize 0\n",
            "2020-11-09 18:48:02,255 : INFO : EPOCH 32 - PROGRESS: at 14.43% examples, 386567 words/s, in_qsize 12, out_qsize 3\n",
            "2020-11-09 18:48:03,263 : INFO : EPOCH 32 - PROGRESS: at 20.05% examples, 404588 words/s, in_qsize 15, out_qsize 0\n",
            "2020-11-09 18:48:04,335 : INFO : EPOCH 32 - PROGRESS: at 25.04% examples, 399975 words/s, in_qsize 15, out_qsize 0\n",
            "2020-11-09 18:48:05,450 : INFO : EPOCH 32 - PROGRESS: at 30.24% examples, 397016 words/s, in_qsize 16, out_qsize 0\n",
            "2020-11-09 18:48:06,457 : INFO : EPOCH 32 - PROGRESS: at 35.32% examples, 399641 words/s, in_qsize 16, out_qsize 0\n",
            "2020-11-09 18:48:07,550 : INFO : EPOCH 32 - PROGRESS: at 40.62% examples, 399636 words/s, in_qsize 14, out_qsize 1\n",
            "2020-11-09 18:48:08,649 : INFO : EPOCH 32 - PROGRESS: at 46.02% examples, 400269 words/s, in_qsize 15, out_qsize 0\n",
            "2020-11-09 18:48:09,681 : INFO : EPOCH 32 - PROGRESS: at 51.21% examples, 402059 words/s, in_qsize 16, out_qsize 0\n",
            "2020-11-09 18:48:10,756 : INFO : EPOCH 32 - PROGRESS: at 56.40% examples, 401331 words/s, in_qsize 15, out_qsize 0\n",
            "2020-11-09 18:48:11,883 : INFO : EPOCH 32 - PROGRESS: at 61.93% examples, 401481 words/s, in_qsize 15, out_qsize 0\n",
            "2020-11-09 18:48:12,944 : INFO : EPOCH 32 - PROGRESS: at 67.24% examples, 402244 words/s, in_qsize 15, out_qsize 0\n",
            "2020-11-09 18:48:13,984 : INFO : EPOCH 32 - PROGRESS: at 72.32% examples, 402580 words/s, in_qsize 15, out_qsize 1\n",
            "2020-11-09 18:48:14,985 : INFO : EPOCH 32 - PROGRESS: at 77.53% examples, 403832 words/s, in_qsize 16, out_qsize 1\n",
            "2020-11-09 18:48:16,003 : INFO : EPOCH 32 - PROGRESS: at 82.74% examples, 404810 words/s, in_qsize 14, out_qsize 1\n",
            "2020-11-09 18:48:17,058 : INFO : EPOCH 32 - PROGRESS: at 87.51% examples, 402812 words/s, in_qsize 12, out_qsize 3\n",
            "2020-11-09 18:48:18,150 : INFO : EPOCH 32 - PROGRESS: at 92.83% examples, 402903 words/s, in_qsize 15, out_qsize 5\n",
            "2020-11-09 18:48:19,179 : INFO : EPOCH 32 - PROGRESS: at 97.93% examples, 402867 words/s, in_qsize 15, out_qsize 2\n",
            "2020-11-09 18:48:19,398 : INFO : worker thread finished; awaiting finish of 7 more threads\n",
            "2020-11-09 18:48:19,404 : INFO : worker thread finished; awaiting finish of 6 more threads\n",
            "2020-11-09 18:48:19,407 : INFO : worker thread finished; awaiting finish of 5 more threads\n",
            "2020-11-09 18:48:19,408 : INFO : worker thread finished; awaiting finish of 4 more threads\n",
            "2020-11-09 18:48:19,414 : INFO : worker thread finished; awaiting finish of 3 more threads\n",
            "2020-11-09 18:48:19,440 : INFO : worker thread finished; awaiting finish of 2 more threads\n",
            "2020-11-09 18:48:19,460 : INFO : worker thread finished; awaiting finish of 1 more threads\n",
            "2020-11-09 18:48:19,466 : INFO : worker thread finished; awaiting finish of 0 more threads\n",
            "2020-11-09 18:48:19,467 : INFO : EPOCH - 32 : training on 9227204 raw words (8222755 effective words) took 20.3s, 405534 effective words/s\n",
            "2020-11-09 18:48:19,467 : INFO : training on a 295270528 raw words (263126602 effective words) took 651.6s, 403841 effective words/s\n"
          ],
          "name": "stderr"
        },
        {
          "output_type": "stream",
          "text": [
            "CPU times: user 21min 7s, sys: 4.43 s, total: 21min 11s\n",
            "Wall time: 10min 51s\n"
          ],
          "name": "stdout"
        },
        {
          "output_type": "execute_result",
          "data": {
            "text/plain": [
              "(263126602, 295270528)"
            ]
          },
          "metadata": {
            "tags": []
          },
          "execution_count": 20
        }
      ]
    },
    {
      "cell_type": "code",
      "metadata": {
        "id": "qXRSIWJPMhvG",
        "outputId": "1e5fe180-76dc-4265-94a2-8cddd4e428c4",
        "colab": {
          "base_uri": "https://localhost:8080/"
        }
      },
      "source": [
        "w2v_model.most_similar(\"love\")"
      ],
      "execution_count": null,
      "outputs": [
        {
          "output_type": "stream",
          "text": [
            "/usr/local/lib/python3.6/dist-packages/ipykernel_launcher.py:1: DeprecationWarning: Call to deprecated `most_similar` (Method will be removed in 4.0.0, use self.wv.most_similar() instead).\n",
            "  \"\"\"Entry point for launching an IPython kernel.\n",
            "2020-11-09 18:48:19,487 : INFO : precomputing L2-norms of word weight vectors\n"
          ],
          "name": "stderr"
        },
        {
          "output_type": "execute_result",
          "data": {
            "text/plain": [
              "[('luv', 0.565497875213623),\n",
              " ('loves', 0.5618025064468384),\n",
              " ('loved', 0.5340549945831299),\n",
              " ('adore', 0.5160211324691772),\n",
              " ('amazing', 0.5048694014549255),\n",
              " ('looove', 0.4900197982788086),\n",
              " ('loveee', 0.4733489751815796),\n",
              " ('awesome', 0.4592171907424927),\n",
              " ('lovee', 0.4453076422214508),\n",
              " ('loooove', 0.4440814256668091)]"
            ]
          },
          "metadata": {
            "tags": []
          },
          "execution_count": 21
        }
      ]
    },
    {
      "cell_type": "markdown",
      "metadata": {
        "id": "BTDaZCcHNcQf"
      },
      "source": [
        "Tokenize text"
      ]
    },
    {
      "cell_type": "code",
      "metadata": {
        "id": "ZqdNq7jvNd9a",
        "outputId": "1f197597-d2c5-4426-d9d6-ba70f1e07f61",
        "colab": {
          "base_uri": "https://localhost:8080/"
        }
      },
      "source": [
        "%%time\n",
        "tokenizer = Tokenizer()\n",
        "tokenizer.fit_on_texts(df_train.text)\n",
        "\n",
        "vocab_size = len(tokenizer.word_index) + 1\n",
        "print(\"Total words\", vocab_size)"
      ],
      "execution_count": null,
      "outputs": [
        {
          "output_type": "stream",
          "text": [
            "Total words 290419\n",
            "CPU times: user 14.7 s, sys: 43.5 ms, total: 14.8 s\n",
            "Wall time: 14.8 s\n"
          ],
          "name": "stdout"
        }
      ]
    },
    {
      "cell_type": "code",
      "metadata": {
        "id": "qchdeAIINnUY",
        "outputId": "246b0543-99c7-4024-a643-6ffdddd89e52",
        "colab": {
          "base_uri": "https://localhost:8080/"
        }
      },
      "source": [
        "%%time\n",
        "x_train = pad_sequences(tokenizer.texts_to_sequences(df_train.text), maxlen=SEQUENCE_LENGTH)\n",
        "x_test = pad_sequences(tokenizer.texts_to_sequences(df_test.text), maxlen=SEQUENCE_LENGTH)"
      ],
      "execution_count": null,
      "outputs": [
        {
          "output_type": "stream",
          "text": [
            "CPU times: user 22.5 s, sys: 479 ms, total: 22.9 s\n",
            "Wall time: 22.9 s\n"
          ],
          "name": "stdout"
        }
      ]
    },
    {
      "cell_type": "markdown",
      "metadata": {
        "id": "tnnCWo8tNxrM"
      },
      "source": [
        "Label encoder"
      ]
    },
    {
      "cell_type": "code",
      "metadata": {
        "id": "Ord0DtNgNupZ",
        "outputId": "86f6331e-0596-4c5b-f385-76fd91c86ce0",
        "colab": {
          "base_uri": "https://localhost:8080/"
        }
      },
      "source": [
        "labels = df_train.target.unique().tolist()\n",
        "labels.append(NEUTRAL)\n",
        "labels"
      ],
      "execution_count": null,
      "outputs": [
        {
          "output_type": "execute_result",
          "data": {
            "text/plain": [
              "['POSITIVE', 'NEGATIVE', 'NEUTRAL']"
            ]
          },
          "metadata": {
            "tags": []
          },
          "execution_count": 18
        }
      ]
    },
    {
      "cell_type": "code",
      "metadata": {
        "id": "w_AVXIvTOG1G",
        "outputId": "ae158a38-2602-40da-e1ba-668ebc6d5114",
        "colab": {
          "base_uri": "https://localhost:8080/"
        }
      },
      "source": [
        "encoder = LabelEncoder()\n",
        "encoder.fit(df_train.target.tolist())\n",
        "\n",
        "y_train = encoder.transform(df_train.target.tolist())\n",
        "y_test = encoder.transform(df_test.target.tolist())\n",
        "\n",
        "y_train = y_train.reshape(-1,1)\n",
        "y_test = y_test.reshape(-1,1)\n",
        "\n",
        "print(\"y_train\",y_train.shape)\n",
        "print(\"y_test\",y_test.shape)"
      ],
      "execution_count": null,
      "outputs": [
        {
          "output_type": "stream",
          "text": [
            "y_train (1280000, 1)\n",
            "y_test (320000, 1)\n"
          ],
          "name": "stdout"
        }
      ]
    },
    {
      "cell_type": "code",
      "metadata": {
        "id": "axEAe-0aOHca",
        "outputId": "9df9a09f-a6b2-4a2f-df68-3d11812576f6",
        "colab": {
          "base_uri": "https://localhost:8080/"
        }
      },
      "source": [
        "print(\"x_train\", x_train.shape)\n",
        "print(\"y_train\", y_train.shape)\n",
        "print()\n",
        "print(\"x_test\", x_test.shape)\n",
        "print(\"y_test\", y_test.shape)"
      ],
      "execution_count": null,
      "outputs": [
        {
          "output_type": "stream",
          "text": [
            "x_train (1280000, 300)\n",
            "y_train (1280000, 1)\n",
            "\n",
            "x_test (320000, 300)\n",
            "y_test (320000, 1)\n"
          ],
          "name": "stdout"
        }
      ]
    },
    {
      "cell_type": "code",
      "metadata": {
        "id": "bWOj7-_wONTu",
        "outputId": "3332ec1a-e6d0-40e3-a29b-5b796fc76b13",
        "colab": {
          "base_uri": "https://localhost:8080/"
        }
      },
      "source": [
        "y_train[:10]\n"
      ],
      "execution_count": null,
      "outputs": [
        {
          "output_type": "execute_result",
          "data": {
            "text/plain": [
              "array([[1],\n",
              "       [1],\n",
              "       [1],\n",
              "       [0],\n",
              "       [1],\n",
              "       [1],\n",
              "       [1],\n",
              "       [1],\n",
              "       [1],\n",
              "       [1]])"
            ]
          },
          "metadata": {
            "tags": []
          },
          "execution_count": 21
        }
      ]
    },
    {
      "cell_type": "markdown",
      "metadata": {
        "id": "Nnjj-5Z5ON5A"
      },
      "source": [
        "Embedding layer"
      ]
    },
    {
      "cell_type": "code",
      "metadata": {
        "id": "cQMHNoi8OO-m",
        "outputId": "e3599509-6bd8-45e0-a02b-cb0ccf2857bc",
        "colab": {
          "base_uri": "https://localhost:8080/"
        }
      },
      "source": [
        "embedding_matrix = np.zeros((vocab_size, W2V_SIZE))\n",
        "for word, i in tokenizer.word_index.items():\n",
        "  if word in w2v_model.wv:\n",
        "    embedding_matrix[i] = w2v_model.wv[word]\n",
        "print(embedding_matrix.shape)"
      ],
      "execution_count": null,
      "outputs": [
        {
          "output_type": "stream",
          "text": [
            "(290419, 300)\n"
          ],
          "name": "stdout"
        }
      ]
    },
    {
      "cell_type": "code",
      "metadata": {
        "id": "IXTEriBSOYRm"
      },
      "source": [
        "embedding_layer = Embedding(vocab_size, W2V_SIZE, weights=[embedding_matrix], input_length=SEQUENCE_LENGTH, trainable=False)"
      ],
      "execution_count": null,
      "outputs": []
    },
    {
      "cell_type": "markdown",
      "metadata": {
        "id": "gD2qwbn1OfXn"
      },
      "source": [
        "Build model"
      ]
    },
    {
      "cell_type": "code",
      "metadata": {
        "id": "9_qHGPEuOa2G",
        "outputId": "9e55cdb0-f035-4781-b009-a8975a08bf58",
        "colab": {
          "base_uri": "https://localhost:8080/"
        }
      },
      "source": [
        "model = Sequential()\n",
        "model.add(embedding_layer)\n",
        "model.add(Dropout(0.5))\n",
        "model.add(LSTM(100, dropout=0.2, recurrent_dropout=0.2))\n",
        "model.add(Dense(1, activation='sigmoid'))\n",
        "\n",
        "model.summary()"
      ],
      "execution_count": null,
      "outputs": [
        {
          "output_type": "stream",
          "text": [
            "WARNING:tensorflow:Layer lstm will not use cuDNN kernel since it doesn't meet the cuDNN kernel criteria. It will use generic GPU kernel as fallback when running on GPU\n"
          ],
          "name": "stdout"
        },
        {
          "output_type": "stream",
          "text": [
            "2020-11-09 18:49:05,464 : WARNING : Layer lstm will not use cuDNN kernel since it doesn't meet the cuDNN kernel criteria. It will use generic GPU kernel as fallback when running on GPU\n"
          ],
          "name": "stderr"
        },
        {
          "output_type": "stream",
          "text": [
            "Model: \"sequential\"\n",
            "_________________________________________________________________\n",
            "Layer (type)                 Output Shape              Param #   \n",
            "=================================================================\n",
            "embedding (Embedding)        (None, 300, 300)          87125700  \n",
            "_________________________________________________________________\n",
            "dropout (Dropout)            (None, 300, 300)          0         \n",
            "_________________________________________________________________\n",
            "lstm (LSTM)                  (None, 100)               160400    \n",
            "_________________________________________________________________\n",
            "dense (Dense)                (None, 1)                 101       \n",
            "=================================================================\n",
            "Total params: 87,286,201\n",
            "Trainable params: 160,501\n",
            "Non-trainable params: 87,125,700\n",
            "_________________________________________________________________\n"
          ],
          "name": "stdout"
        }
      ]
    },
    {
      "cell_type": "markdown",
      "metadata": {
        "id": "FuxHJ8ZERlG7"
      },
      "source": [
        "Compile model"
      ]
    },
    {
      "cell_type": "code",
      "metadata": {
        "id": "pVs5F-lEOg1K"
      },
      "source": [
        "model.compile(loss='binary_crossentropy',\n",
        "              optimizer=\"adam\",\n",
        "              metrics=['accuracy'])"
      ],
      "execution_count": null,
      "outputs": []
    },
    {
      "cell_type": "markdown",
      "metadata": {
        "id": "VyYlvyK0Rmb7"
      },
      "source": [
        "Callbacks"
      ]
    },
    {
      "cell_type": "code",
      "metadata": {
        "id": "IrJ4YxC2Rp2L"
      },
      "source": [
        "callbacks = [ ReduceLROnPlateau(monitor='val_loss', patience=5, cooldown=0),\n",
        "              EarlyStopping(monitor='val_accuracy', min_delta=1e-4, patience=5)]"
      ],
      "execution_count": null,
      "outputs": []
    },
    {
      "cell_type": "markdown",
      "metadata": {
        "id": "jFRH5dgRRpWX"
      },
      "source": [
        "Train"
      ]
    },
    {
      "cell_type": "code",
      "metadata": {
        "id": "RAJhDCxjRtSv",
        "outputId": "9f9565fe-4312-44f9-e341-560ca22a8486",
        "colab": {
          "base_uri": "https://localhost:8080/"
        }
      },
      "source": [
        "%%time\n",
        "history = model.fit(x_train, y_train,\n",
        "                    batch_size=BATCH_SIZE,\n",
        "                    epochs=EPOCHS,\n",
        "                    validation_split=0.1,\n",
        "                    verbose=1,\n",
        "                    callbacks=callbacks)"
      ],
      "execution_count": null,
      "outputs": [
        {
          "output_type": "stream",
          "text": [
            "Epoch 1/8\n",
            "1125/1125 [==============================] - 581s 517ms/step - loss: 0.4704 - accuracy: 0.7734 - val_loss: 0.4519 - val_accuracy: 0.7868\n",
            "Epoch 2/8\n",
            "1125/1125 [==============================] - 574s 510ms/step - loss: 0.4676 - accuracy: 0.7749 - val_loss: 0.4502 - val_accuracy: 0.7884\n",
            "Epoch 3/8\n",
            "1125/1125 [==============================] - 574s 510ms/step - loss: 0.4651 - accuracy: 0.7764 - val_loss: 0.4487 - val_accuracy: 0.7887\n",
            "Epoch 4/8\n",
            "1125/1125 [==============================] - 574s 510ms/step - loss: 0.4635 - accuracy: 0.7773 - val_loss: 0.4465 - val_accuracy: 0.7899\n",
            "Epoch 5/8\n",
            "1125/1125 [==============================] - 578s 514ms/step - loss: 0.4617 - accuracy: 0.7782 - val_loss: 0.4469 - val_accuracy: 0.7898\n",
            "Epoch 6/8\n",
            "1125/1125 [==============================] - 576s 512ms/step - loss: 0.4610 - accuracy: 0.7785 - val_loss: 0.4438 - val_accuracy: 0.7912\n",
            "Epoch 7/8\n",
            "1125/1125 [==============================] - 572s 509ms/step - loss: 0.4600 - accuracy: 0.7790 - val_loss: 0.4447 - val_accuracy: 0.7913\n",
            "Epoch 8/8\n",
            "1125/1125 [==============================] - 573s 509ms/step - loss: 0.4594 - accuracy: 0.7793 - val_loss: 0.4440 - val_accuracy: 0.7919\n",
            "CPU times: user 1h 27min 28s, sys: 3min 56s, total: 1h 31min 24s\n",
            "Wall time: 1h 16min 45s\n"
          ],
          "name": "stdout"
        }
      ]
    },
    {
      "cell_type": "markdown",
      "metadata": {
        "id": "FhZ7SwmqR5_X"
      },
      "source": [
        "Evaluate"
      ]
    },
    {
      "cell_type": "code",
      "metadata": {
        "id": "NFJOAwbVR6w3",
        "outputId": "9670f608-8d46-4c50-f1ee-544e64945189",
        "colab": {
          "base_uri": "https://localhost:8080/"
        }
      },
      "source": [
        "%%time\n",
        "score = model.evaluate(x_test, y_test, batch_size=BATCH_SIZE)\n",
        "print()\n",
        "print(\"ACCURACY:\",score[1])\n",
        "print(\"LOSS:\",score[0])"
      ],
      "execution_count": null,
      "outputs": [
        {
          "output_type": "stream",
          "text": [
            "313/313 [==============================] - 53s 171ms/step - loss: 0.4432 - accuracy: 0.7921\n",
            "\n",
            "ACCURACY: 0.7920812368392944\n",
            "LOSS: 0.44319844245910645\n",
            "CPU times: user 47.9 s, sys: 3.86 s, total: 51.8 s\n",
            "Wall time: 53.9 s\n"
          ],
          "name": "stdout"
        }
      ]
    },
    {
      "cell_type": "code",
      "metadata": {
        "id": "zcUx_33nSAsU",
        "outputId": "d2268662-ae21-475e-dbcd-19200aaeaa76",
        "colab": {
          "base_uri": "https://localhost:8080/",
          "height": 545
        }
      },
      "source": [
        "acc = history.history['accuracy']\n",
        "val_acc = history.history['val_accuracy']\n",
        "loss = history.history['loss']\n",
        "val_loss = history.history['val_loss']\n",
        " \n",
        "epochs = range(len(acc))\n",
        " \n",
        "plt.plot(epochs, acc, 'b', label='Training acc')\n",
        "plt.plot(epochs, val_acc, 'r', label='Validation acc')\n",
        "plt.title('Training and validation accuracy')\n",
        "plt.legend()\n",
        " \n",
        "plt.figure()\n",
        " \n",
        "plt.plot(epochs, loss, 'b', label='Training loss')\n",
        "plt.plot(epochs, val_loss, 'r', label='Validation loss')\n",
        "plt.title('Training and validation loss')\n",
        "plt.legend()\n",
        " \n",
        "plt.show()"
      ],
      "execution_count": null,
      "outputs": [
        {
          "output_type": "display_data",
          "data": {
            "image/png": "[encoded data removed]",
            "text/plain": [
              "<Figure size 432x288 with 1 Axes>"
            ]
          },
          "metadata": {
            "tags": [],
            "needs_background": "light"
          }
        },
        {
          "output_type": "display_data",
          "data": {
            "image/png": "[encoded data removed]",
            "text/plain": [
              "<Figure size 432x288 with 1 Axes>"
            ]
          },
          "metadata": {
            "tags": [],
            "needs_background": "light"
          }
        }
      ]
    },
    {
      "cell_type": "markdown",
      "metadata": {
        "id": "4AHxHrr1SEUG"
      },
      "source": [
        "Predict"
      ]
    },
    {
      "cell_type": "code",
      "metadata": {
        "id": "ownymO15SFFm"
      },
      "source": [
        "def decode_sentiment(score, include_neutral=True):\n",
        "    if include_neutral:        \n",
        "        label = NEUTRAL\n",
        "        if score <= SENTIMENT_THRESHOLDS[0]:\n",
        "            label = NEGATIVE\n",
        "        elif score >= SENTIMENT_THRESHOLDS[1]:\n",
        "            label = POSITIVE\n",
        "\n",
        "        return label\n",
        "    else:\n",
        "        return NEGATIVE if score < 0.5 else POSITIVE"
      ],
      "execution_count": null,
      "outputs": []
    },
    {
      "cell_type": "code",
      "metadata": {
        "id": "Phls5ylrSHqe"
      },
      "source": [
        "def predict(text, include_neutral=True):\n",
        "    start_at = time.time()\n",
        "    # Tokenize text\n",
        "    x_test = pad_sequences(tokenizer.texts_to_sequences([text]), maxlen=SEQUENCE_LENGTH)\n",
        "    # Predict\n",
        "    score = model.predict([x_test])[0]\n",
        "    # Decode sentiment\n",
        "    label = decode_sentiment(score, include_neutral=include_neutral)\n",
        "\n",
        "    return {\"label\": label, \"score\": float(score),\n",
        "       \"elapsed_time\": time.time()-start_at}  "
      ],
      "execution_count": null,
      "outputs": []
    },
    {
      "cell_type": "code",
      "metadata": {
        "id": "zRDVqBCNSMah",
        "outputId": "fadde04f-34f3-48ef-cff8-c7a1f056ad18",
        "colab": {
          "base_uri": "https://localhost:8080/"
        }
      },
      "source": [
        "predict(\"i don't know what i'm doing\")"
      ],
      "execution_count": null,
      "outputs": [
        {
          "output_type": "execute_result",
          "data": {
            "text/plain": [
              "{'elapsed_time': 0.3263859748840332,\n",
              " 'label': 'NEGATIVE',\n",
              " 'score': 0.3390619456768036}"
            ]
          },
          "metadata": {
            "tags": []
          },
          "execution_count": 42
        }
      ]
    },
    {
      "cell_type": "code",
      "metadata": {
        "id": "hNxlP6vuw1Q4",
        "outputId": "71c21ce7-363c-495e-eba3-6d22eab40b6a",
        "colab": {
          "base_uri": "https://localhost:8080/"
        }
      },
      "source": [
        "predict(\"What's the difference between a porcupine and a Tesla? A porcupine has pricks on the outside!\")"
      ],
      "execution_count": null,
      "outputs": [
        {
          "output_type": "execute_result",
          "data": {
            "text/plain": [
              "{'elapsed_time': 0.12227439880371094,\n",
              " 'label': 'NEUTRAL',\n",
              " 'score': 0.4680527448654175}"
            ]
          },
          "metadata": {
            "tags": []
          },
          "execution_count": 43
        }
      ]
    },
    {
      "cell_type": "code",
      "metadata": {
        "id": "36ewQmmpw8kP",
        "outputId": "aff05b73-ad6f-49ac-d7b4-abb1c0b76414",
        "colab": {
          "base_uri": "https://localhost:8080/"
        }
      },
      "source": [
        "predict(\"Nothing better than that new car smell, also bonus for saving the planet #tesla\")"
      ],
      "execution_count": null,
      "outputs": [
        {
          "output_type": "execute_result",
          "data": {
            "text/plain": [
              "{'elapsed_time': 0.11312723159790039,\n",
              " 'label': 'POSITIVE',\n",
              " 'score': 0.833380401134491}"
            ]
          },
          "metadata": {
            "tags": []
          },
          "execution_count": 44
        }
      ]
    },
    {
      "cell_type": "code",
      "metadata": {
        "id": "BVRRGf0FxeQt",
        "outputId": "0d367284-57aa-49b6-d49d-fbdae160ca58",
        "colab": {
          "base_uri": "https://localhost:8080/"
        }
      },
      "source": [
        "predict(\"Looks like sleepy Joe is gonna win the election.\")"
      ],
      "execution_count": null,
      "outputs": [
        {
          "output_type": "execute_result",
          "data": {
            "text/plain": [
              "{'elapsed_time': 0.11556482315063477,\n",
              " 'label': 'NEGATIVE',\n",
              " 'score': 0.34324395656585693}"
            ]
          },
          "metadata": {
            "tags": []
          },
          "execution_count": 45
        }
      ]
    },
    {
      "cell_type": "code",
      "metadata": {
        "id": "ktWf3yjBxwRx",
        "outputId": "df3bfc19-7ea7-4402-e1d4-592707f3ff53",
        "colab": {
          "base_uri": "https://localhost:8080/"
        }
      },
      "source": [
        "predict(\"There's a general decline in the performance of stocks but facebook happens to pull through lately\")"
      ],
      "execution_count": null,
      "outputs": [
        {
          "output_type": "execute_result",
          "data": {
            "text/plain": [
              "{'elapsed_time': 0.11802268028259277,\n",
              " 'label': 'NEGATIVE',\n",
              " 'score': 0.33320504426956177}"
            ]
          },
          "metadata": {
            "tags": []
          },
          "execution_count": 46
        }
      ]
    },
    {
      "cell_type": "code",
      "metadata": {
        "id": "BB5tpLMpykI5",
        "outputId": "811fe1bf-5fb0-4be3-dfb2-d21b95e5d1d3",
        "colab": {
          "base_uri": "https://localhost:8080/"
        }
      },
      "source": [
        "predict(\"That car looks different, it must be a Tesla!\")"
      ],
      "execution_count": null,
      "outputs": [
        {
          "output_type": "execute_result",
          "data": {
            "text/plain": [
              "{'elapsed_time': 0.1142735481262207,\n",
              " 'label': 'NEUTRAL',\n",
              " 'score': 0.47223761677742004}"
            ]
          },
          "metadata": {
            "tags": []
          },
          "execution_count": 47
        }
      ]
    },
    {
      "cell_type": "code",
      "metadata": {
        "id": "LAHkmmmB1EdN",
        "outputId": "8fa911a2-cba2-4c2a-f428-b2a2da90cf16",
        "colab": {
          "base_uri": "https://localhost:8080/"
        }
      },
      "source": [
        "predict(\"It's definitely a year of pandemics, even with stocks the unexpected happens. Airbnb beats Tesla to it! Airbnb is definitely the right stock!\")"
      ],
      "execution_count": null,
      "outputs": [
        {
          "output_type": "execute_result",
          "data": {
            "text/plain": [
              "{'elapsed_time': 0.1173868179321289,\n",
              " 'label': 'NEUTRAL',\n",
              " 'score': 0.6805596351623535}"
            ]
          },
          "metadata": {
            "tags": []
          },
          "execution_count": 48
        }
      ]
    },
    {
      "cell_type": "code",
      "metadata": {
        "id": "bRpSzrmo1SZM",
        "outputId": "1da8a5ff-340a-4a9b-9bff-dc0a02c8e329",
        "colab": {
          "base_uri": "https://localhost:8080/"
        }
      },
      "source": [
        "predict(\"Alex Trebeck dies at 80. He brought so much joy to so many viewers over his long career in television\")"
      ],
      "execution_count": null,
      "outputs": [
        {
          "output_type": "execute_result",
          "data": {
            "text/plain": [
              "{'elapsed_time': 0.12304043769836426,\n",
              " 'label': 'NEGATIVE',\n",
              " 'score': 0.2671782970428467}"
            ]
          },
          "metadata": {
            "tags": []
          },
          "execution_count": 49
        }
      ]
    },
    {
      "cell_type": "code",
      "metadata": {
        "id": "PIE--Jg-3Geh",
        "outputId": "ebaf6f5c-d723-41ef-a3c3-4d6bcf758245",
        "colab": {
          "base_uri": "https://localhost:8080/"
        }
      },
      "source": [
        "predict(\"Warren Buffett unloads 60 million dollars worth of airline stocks\")"
      ],
      "execution_count": null,
      "outputs": [
        {
          "output_type": "execute_result",
          "data": {
            "text/plain": [
              "{'elapsed_time': 0.6287031173706055,\n",
              " 'label': 'POSITIVE',\n",
              " 'score': 0.7035620212554932}"
            ]
          },
          "metadata": {
            "tags": []
          },
          "execution_count": 56
        }
      ]
    },
    {
      "cell_type": "code",
      "metadata": {
        "id": "zqoVHpJ-3Y1H",
        "outputId": "ad8f98c3-2d45-4049-aab5-e915955ac821",
        "colab": {
          "base_uri": "https://localhost:8080/"
        }
      },
      "source": [
        "predict(\"Warren Buffett sells 60 million dollars worth of airline stocks\")"
      ],
      "execution_count": null,
      "outputs": [
        {
          "output_type": "execute_result",
          "data": {
            "text/plain": [
              "{'elapsed_time': 0.1217193603515625,\n",
              " 'label': 'POSITIVE',\n",
              " 'score': 0.7129901647567749}"
            ]
          },
          "metadata": {
            "tags": []
          },
          "execution_count": 57
        }
      ]
    },
    {
      "cell_type": "code",
      "metadata": {
        "id": "_Z0cGosS4VPF",
        "outputId": "6a74161f-5eaf-4e89-d3c6-4e2b775a8078",
        "colab": {
          "base_uri": "https://localhost:8080/"
        }
      },
      "source": [
        "predict(\"McDonald’s announced it will develop its own line of plant-based burgers, dealing a blow to Beyond Meat and Impossible Foods\")"
      ],
      "execution_count": null,
      "outputs": [
        {
          "output_type": "execute_result",
          "data": {
            "text/plain": [
              "{'elapsed_time': 0.12472391128540039,\n",
              " 'label': 'NEGATIVE',\n",
              " 'score': 0.37831494212150574}"
            ]
          },
          "metadata": {
            "tags": []
          },
          "execution_count": 58
        }
      ]
    },
    {
      "cell_type": "code",
      "metadata": {
        "id": "N2Iitetw4eZL",
        "outputId": "e90a0cd5-0c52-4011-e41b-0d01215e8bd0",
        "colab": {
          "base_uri": "https://localhost:8080/"
        }
      },
      "source": [
        "predict(\"Richard Branson's Virgin Hyperloop conducted its first test with passengers in a hyperloop pod\")"
      ],
      "execution_count": null,
      "outputs": [
        {
          "output_type": "execute_result",
          "data": {
            "text/plain": [
              "{'elapsed_time': 0.11225533485412598,\n",
              " 'label': 'POSITIVE',\n",
              " 'score': 0.7107508182525635}"
            ]
          },
          "metadata": {
            "tags": []
          },
          "execution_count": 59
        }
      ]
    },
    {
      "cell_type": "code",
      "metadata": {
        "id": "oD-bkWZa4tMS",
        "outputId": "43a715f7-db39-4960-975b-368bcf0da6b7",
        "colab": {
          "base_uri": "https://localhost:8080/"
        }
      },
      "source": [
        "predict(\"The F-35 Lightning II is juuuust bigger than the Airbus A400m\")"
      ],
      "execution_count": null,
      "outputs": [
        {
          "output_type": "execute_result",
          "data": {
            "text/plain": [
              "{'elapsed_time': 0.12157106399536133,\n",
              " 'label': 'NEGATIVE',\n",
              " 'score': 0.2043319195508957}"
            ]
          },
          "metadata": {
            "tags": []
          },
          "execution_count": 60
        }
      ]
    },
    {
      "cell_type": "markdown",
      "metadata": {
        "id": "YOUZwDGPSOrm"
      },
      "source": [
        "Confusion matrix"
      ]
    },
    {
      "cell_type": "code",
      "metadata": {
        "id": "1PjtJ54jSPrd",
        "outputId": "d62fca21-824b-43ba-d5bf-88cdb746dc62",
        "colab": {
          "base_uri": "https://localhost:8080/",
          "height": 387
        }
      },
      "source": [
        "%%time\n",
        "y_pred_1d = []\n",
        "y_test_1d = list(df_test.target)\n",
        "scores = model.predict(x_test, verbose=1, batch_size=8000)\n",
        "y_pred_1d = [decode_sentiment(score, include_neutral=False) for score in scores]"
      ],
      "execution_count": null,
      "outputs": [
        {
          "output_type": "error",
          "ename": "NameError",
          "evalue": "ignored",
          "traceback": [
            "\u001b[0;31m---------------------------------------------------------------------------\u001b[0m",
            "\u001b[0;31mNameError\u001b[0m                                 Traceback (most recent call last)",
            "\u001b[0;32m<ipython-input-25-fcefe989778a>\u001b[0m in \u001b[0;36m<module>\u001b[0;34m()\u001b[0m\n\u001b[0;32m----> 1\u001b[0;31m \u001b[0mget_ipython\u001b[0m\u001b[0;34m(\u001b[0m\u001b[0;34m)\u001b[0m\u001b[0;34m.\u001b[0m\u001b[0mrun_cell_magic\u001b[0m\u001b[0;34m(\u001b[0m\u001b[0;34m'time'\u001b[0m\u001b[0;34m,\u001b[0m \u001b[0;34m''\u001b[0m\u001b[0;34m,\u001b[0m \u001b[0;34m'y_pred_1d = []\\ny_test_1d = list(df_test.target)\\nscores = model.predict(x_test, verbose=1, batch_size=8000)\\ny_pred_1d = [decode_sentiment(score, include_neutral=False) for score in scores]'\u001b[0m\u001b[0;34m)\u001b[0m\u001b[0;34m\u001b[0m\u001b[0;34m\u001b[0m\u001b[0m\n\u001b[0m",
            "\u001b[0;32m/usr/local/lib/python3.6/dist-packages/IPython/core/interactiveshell.py\u001b[0m in \u001b[0;36mrun_cell_magic\u001b[0;34m(self, magic_name, line, cell)\u001b[0m\n\u001b[1;32m   2115\u001b[0m             \u001b[0mmagic_arg_s\u001b[0m \u001b[0;34m=\u001b[0m \u001b[0mself\u001b[0m\u001b[0;34m.\u001b[0m\u001b[0mvar_expand\u001b[0m\u001b[0;34m(\u001b[0m\u001b[0mline\u001b[0m\u001b[0;34m,\u001b[0m \u001b[0mstack_depth\u001b[0m\u001b[0;34m)\u001b[0m\u001b[0;34m\u001b[0m\u001b[0;34m\u001b[0m\u001b[0m\n\u001b[1;32m   2116\u001b[0m             \u001b[0;32mwith\u001b[0m \u001b[0mself\u001b[0m\u001b[0;34m.\u001b[0m\u001b[0mbuiltin_trap\u001b[0m\u001b[0;34m:\u001b[0m\u001b[0;34m\u001b[0m\u001b[0;34m\u001b[0m\u001b[0m\n\u001b[0;32m-> 2117\u001b[0;31m                 \u001b[0mresult\u001b[0m \u001b[0;34m=\u001b[0m \u001b[0mfn\u001b[0m\u001b[0;34m(\u001b[0m\u001b[0mmagic_arg_s\u001b[0m\u001b[0;34m,\u001b[0m \u001b[0mcell\u001b[0m\u001b[0;34m)\u001b[0m\u001b[0;34m\u001b[0m\u001b[0;34m\u001b[0m\u001b[0m\n\u001b[0m\u001b[1;32m   2118\u001b[0m             \u001b[0;32mreturn\u001b[0m \u001b[0mresult\u001b[0m\u001b[0;34m\u001b[0m\u001b[0;34m\u001b[0m\u001b[0m\n\u001b[1;32m   2119\u001b[0m \u001b[0;34m\u001b[0m\u001b[0m\n",
            "\u001b[0;32m<decorator-gen-60>\u001b[0m in \u001b[0;36mtime\u001b[0;34m(self, line, cell, local_ns)\u001b[0m\n",
            "\u001b[0;32m/usr/local/lib/python3.6/dist-packages/IPython/core/magic.py\u001b[0m in \u001b[0;36m<lambda>\u001b[0;34m(f, *a, **k)\u001b[0m\n\u001b[1;32m    186\u001b[0m     \u001b[0;31m# but it's overkill for just that one bit of state.\u001b[0m\u001b[0;34m\u001b[0m\u001b[0;34m\u001b[0m\u001b[0;34m\u001b[0m\u001b[0m\n\u001b[1;32m    187\u001b[0m     \u001b[0;32mdef\u001b[0m \u001b[0mmagic_deco\u001b[0m\u001b[0;34m(\u001b[0m\u001b[0marg\u001b[0m\u001b[0;34m)\u001b[0m\u001b[0;34m:\u001b[0m\u001b[0;34m\u001b[0m\u001b[0;34m\u001b[0m\u001b[0m\n\u001b[0;32m--> 188\u001b[0;31m         \u001b[0mcall\u001b[0m \u001b[0;34m=\u001b[0m \u001b[0;32mlambda\u001b[0m \u001b[0mf\u001b[0m\u001b[0;34m,\u001b[0m \u001b[0;34m*\u001b[0m\u001b[0ma\u001b[0m\u001b[0;34m,\u001b[0m \u001b[0;34m**\u001b[0m\u001b[0mk\u001b[0m\u001b[0;34m:\u001b[0m \u001b[0mf\u001b[0m\u001b[0;34m(\u001b[0m\u001b[0;34m*\u001b[0m\u001b[0ma\u001b[0m\u001b[0;34m,\u001b[0m \u001b[0;34m**\u001b[0m\u001b[0mk\u001b[0m\u001b[0;34m)\u001b[0m\u001b[0;34m\u001b[0m\u001b[0;34m\u001b[0m\u001b[0m\n\u001b[0m\u001b[1;32m    189\u001b[0m \u001b[0;34m\u001b[0m\u001b[0m\n\u001b[1;32m    190\u001b[0m         \u001b[0;32mif\u001b[0m \u001b[0mcallable\u001b[0m\u001b[0;34m(\u001b[0m\u001b[0marg\u001b[0m\u001b[0;34m)\u001b[0m\u001b[0;34m:\u001b[0m\u001b[0;34m\u001b[0m\u001b[0;34m\u001b[0m\u001b[0m\n",
            "\u001b[0;32m/usr/local/lib/python3.6/dist-packages/IPython/core/magics/execution.py\u001b[0m in \u001b[0;36mtime\u001b[0;34m(self, line, cell, local_ns)\u001b[0m\n\u001b[1;32m   1191\u001b[0m         \u001b[0;32melse\u001b[0m\u001b[0;34m:\u001b[0m\u001b[0;34m\u001b[0m\u001b[0;34m\u001b[0m\u001b[0m\n\u001b[1;32m   1192\u001b[0m             \u001b[0mst\u001b[0m \u001b[0;34m=\u001b[0m \u001b[0mclock2\u001b[0m\u001b[0;34m(\u001b[0m\u001b[0;34m)\u001b[0m\u001b[0;34m\u001b[0m\u001b[0;34m\u001b[0m\u001b[0m\n\u001b[0;32m-> 1193\u001b[0;31m             \u001b[0mexec\u001b[0m\u001b[0;34m(\u001b[0m\u001b[0mcode\u001b[0m\u001b[0;34m,\u001b[0m \u001b[0mglob\u001b[0m\u001b[0;34m,\u001b[0m \u001b[0mlocal_ns\u001b[0m\u001b[0;34m)\u001b[0m\u001b[0;34m\u001b[0m\u001b[0;34m\u001b[0m\u001b[0m\n\u001b[0m\u001b[1;32m   1194\u001b[0m             \u001b[0mend\u001b[0m \u001b[0;34m=\u001b[0m \u001b[0mclock2\u001b[0m\u001b[0;34m(\u001b[0m\u001b[0;34m)\u001b[0m\u001b[0;34m\u001b[0m\u001b[0;34m\u001b[0m\u001b[0m\n\u001b[1;32m   1195\u001b[0m             \u001b[0mout\u001b[0m \u001b[0;34m=\u001b[0m \u001b[0;32mNone\u001b[0m\u001b[0;34m\u001b[0m\u001b[0;34m\u001b[0m\u001b[0m\n",
            "\u001b[0;32m<timed exec>\u001b[0m in \u001b[0;36m<module>\u001b[0;34m()\u001b[0m\n",
            "\u001b[0;31mNameError\u001b[0m: name 'model' is not defined"
          ]
        }
      ]
    },
    {
      "cell_type": "code",
      "metadata": {
        "id": "Rycxe5e0STD7"
      },
      "source": [
        "def plot_confusion_matrix(cm, classes,\n",
        "                          title='Confusion matrix',\n",
        "                          cmap=plt.cm.Blues):\n",
        "    \"\"\"\n",
        "    This function prints and plots the confusion matrix.\n",
        "    Normalization can be applied by setting `normalize=True`.\n",
        "    \"\"\"\n",
        "\n",
        "    cm = cm.astype('float') / cm.sum(axis=1)[:, np.newaxis]\n",
        "\n",
        "    plt.imshow(cm, interpolation='nearest', cmap=cmap)\n",
        "    plt.title(title, fontsize=30)\n",
        "    plt.colorbar()\n",
        "    tick_marks = np.arange(len(classes))\n",
        "    plt.xticks(tick_marks, classes, rotation=90, fontsize=22)\n",
        "    plt.yticks(tick_marks, classes, fontsize=22)\n",
        "\n",
        "    fmt = '.2f'\n",
        "    thresh = cm.max() / 2.\n",
        "    for i, j in itertools.product(range(cm.shape[0]), range(cm.shape[1])):\n",
        "        plt.text(j, i, format(cm[i, j], fmt),\n",
        "                 horizontalalignment=\"center\",\n",
        "                 color=\"white\" if cm[i, j] > thresh else \"black\")\n",
        "\n",
        "    plt.ylabel('True label', fontsize=25)\n",
        "    plt.xlabel('Predicted label', fontsize=25)"
      ],
      "execution_count": null,
      "outputs": []
    },
    {
      "cell_type": "code",
      "metadata": {
        "id": "4HaB5mG4SVuF",
        "outputId": "b5a1a8fd-ba9a-406b-b69d-d969250f6867",
        "colab": {
          "base_uri": "https://localhost:8080/",
          "height": 802
        }
      },
      "source": [
        "%%time\n",
        "\n",
        "cnf_matrix = confusion_matrix(y_test_1d, y_pred_1d)\n",
        "plt.figure(figsize=(12,12))\n",
        "plot_confusion_matrix(cnf_matrix, classes=df_train.target.unique(), title=\"Confusion matrix\")\n",
        "plt.show()"
      ],
      "execution_count": null,
      "outputs": [
        {
          "output_type": "display_data",
          "data": {
            "image/png": "[encoded data removed]",
            "text/plain": [
              "<Figure size 864x864 with 2 Axes>"
            ]
          },
          "metadata": {
            "tags": [],
            "needs_background": "light"
          }
        },
        {
          "output_type": "stream",
          "text": [
            "CPU times: user 1.12 s, sys: 34.7 ms, total: 1.15 s\n",
            "Wall time: 1.17 s\n"
          ],
          "name": "stdout"
        }
      ]
    },
    {
      "cell_type": "markdown",
      "metadata": {
        "id": "_yAMo3aoSWVG"
      },
      "source": [
        "Classification report"
      ]
    },
    {
      "cell_type": "code",
      "metadata": {
        "id": "EUQ210KWSXUn",
        "outputId": "19c341af-e5c4-41eb-d724-59204b14a942",
        "colab": {
          "base_uri": "https://localhost:8080/"
        }
      },
      "source": [
        "print(classification_report(y_test_1d, y_pred_1d))"
      ],
      "execution_count": null,
      "outputs": [
        {
          "output_type": "stream",
          "text": [
            "              precision    recall  f1-score   support\n",
            "\n",
            "    NEGATIVE       0.80      0.78      0.79    159494\n",
            "    POSITIVE       0.78      0.81      0.80    160506\n",
            "\n",
            "    accuracy                           0.79    320000\n",
            "   macro avg       0.79      0.79      0.79    320000\n",
            "weighted avg       0.79      0.79      0.79    320000\n",
            "\n"
          ],
          "name": "stdout"
        }
      ]
    },
    {
      "cell_type": "code",
      "metadata": {
        "id": "0YYB6ks9_8uG"
      },
      "source": [
        "# sklearn\n",
        "from sklearn.svm import LinearSVC\n",
        "from sklearn.naive_bayes import BernoulliNB\n",
        "from sklearn.linear_model import LogisticRegression\n",
        "import seaborn as sns"
      ],
      "execution_count": null,
      "outputs": []
    },
    {
      "cell_type": "code",
      "metadata": {
        "id": "ruI-IXcK9-cL"
      },
      "source": [
        "def model_Evaluate(model):\n",
        "\n",
        "    # Predict values for Test dataset\n",
        "    y_pred_1d = []\n",
        "    y_test_1d = list(df_test.target)\n",
        "    scores = model.predict(x_test)\n",
        "    y_pred_1d = [decode_sentiment(score, include_neutral=False) for score in scores]\n",
        "\n",
        "    # Print the evaluation metrics for the dataset.\n",
        "    print(classification_report(y_test_1d, y_pred_1d))\n",
        "    \n",
        "    # Compute and plot the Confusion matrix\n",
        "    cf_matrix = confusion_matrix(y_test_1d, y_pred_1d)\n",
        "\n",
        "    categories  = ['Negative','Positive']\n",
        "    group_names = ['True Neg','False Pos', 'False Neg','True Pos']\n",
        "    group_percentages = ['{0:.2%}'.format(value) for value in cf_matrix.flatten() / np.sum(cf_matrix)]\n",
        "\n",
        "    labels = [f'{v1}\\n{v2}' for v1, v2 in zip(group_names,group_percentages)]\n",
        "    labels = np.asarray(labels).reshape(2,2)\n",
        "\n",
        "    sns.heatmap(cf_matrix, annot = labels, cmap = 'Blues',fmt = '',\n",
        "                xticklabels = categories, yticklabels = categories)\n",
        "\n",
        "    plt.xlabel(\"Predicted values\", fontdict = {'size':14}, labelpad = 10)\n",
        "    plt.ylabel(\"Actual values\"   , fontdict = {'size':14}, labelpad = 10)\n",
        "    plt.title (\"Confusion Matrix\", fontdict = {'size':18}, pad = 20)"
      ],
      "execution_count": null,
      "outputs": []
    },
    {
      "cell_type": "code",
      "metadata": {
        "id": "wdKXA85Y-N06",
        "outputId": "568bab39-7063-4e6e-f76b-2a294ad19b8f",
        "colab": {
          "base_uri": "https://localhost:8080/",
          "height": 474
        }
      },
      "source": [
        "model_Evaluate(model)"
      ],
      "execution_count": null,
      "outputs": [
        {
          "output_type": "stream",
          "text": [
            "              precision    recall  f1-score   support\n",
            "\n",
            "    NEGATIVE       0.80      0.78      0.79    159494\n",
            "    POSITIVE       0.78      0.81      0.80    160506\n",
            "\n",
            "    accuracy                           0.79    320000\n",
            "   macro avg       0.79      0.79      0.79    320000\n",
            "weighted avg       0.79      0.79      0.79    320000\n",
            "\n"
          ],
          "name": "stdout"
        },
        {
          "output_type": "display_data",
          "data": {
            "image/png": "[encoded data removed]",
            "text/plain": [
              "<Figure size 432x288 with 2 Axes>"
            ]
          },
          "metadata": {
            "tags": [],
            "needs_background": "light"
          }
        }
      ]
    },
    {
      "cell_type": "markdown",
      "metadata": {
        "id": "XxKCqNuNSc81"
      },
      "source": [
        "Accuracy score"
      ]
    },
    {
      "cell_type": "code",
      "metadata": {
        "id": "lauXIBsESajd",
        "outputId": "a418b04c-28f4-4a22-dd20-ea5095f71c57",
        "colab": {
          "base_uri": "https://localhost:8080/"
        }
      },
      "source": [
        "accuracy_score(y_test_1d, y_pred_1d)"
      ],
      "execution_count": null,
      "outputs": [
        {
          "output_type": "execute_result",
          "data": {
            "text/plain": [
              "0.79208125"
            ]
          },
          "metadata": {
            "tags": []
          },
          "execution_count": 54
        }
      ]
    },
    {
      "cell_type": "markdown",
      "metadata": {
        "id": "O4GzkXBSSgCC"
      },
      "source": [
        "Save model"
      ]
    },
    {
      "cell_type": "code",
      "metadata": {
        "id": "VyUNqms2Www9",
        "outputId": "36aa97fa-ed50-46dc-cfa0-270d0c61a059",
        "colab": {
          "base_uri": "https://localhost:8080/"
        }
      },
      "source": [
        "model.save(\"/content/drive/My Drive/module 3/\" + KERAS_MODEL)\n",
        "w2v_model.save(\"/content/drive/My Drive/module 3/\" + WORD2VEC_MODEL)\n",
        "pickle.dump(tokenizer, open(\"/content/drive/My Drive/module 3/\" + TOKENIZER_MODEL, \"wb\"), protocol=0)\n",
        "pickle.dump(encoder, open(\"/content/drive/My Drive/module 3/\" + ENCODER_MODEL, \"wb\"), protocol=0)"
      ],
      "execution_count": null,
      "outputs": [
        {
          "output_type": "stream",
          "text": [
            "2020-11-09 21:13:59,994 : INFO : saving Word2Vec object under /content/drive/My Drive/module 3/model.w2v, separately None\n",
            "2020-11-09 21:14:00,006 : INFO : not storing attribute vectors_norm\n",
            "2020-11-09 21:14:00,010 : INFO : not storing attribute cum_table\n",
            "2020-11-09 21:14:01,378 : INFO : saved /content/drive/My Drive/module 3/model.w2v\n"
          ],
          "name": "stderr"
        }
      ]
    }
  ]
}